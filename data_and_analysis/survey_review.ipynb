{
 "cells": [
  {
   "cell_type": "markdown",
   "id": "037ae04a",
   "metadata": {},
   "source": [
    "## TZ Survey Analysis"
   ]
  },
  {
   "cell_type": "code",
   "execution_count": null,
   "id": "0cc84b8c",
   "metadata": {
    "ExecuteTime": {
     "end_time": "2023-09-08T23:46:40.143849Z",
     "start_time": "2023-09-08T23:46:40.137563Z"
    }
   },
   "outputs": [],
   "source": []
  },
  {
   "cell_type": "code",
   "execution_count": 1,
   "id": "4772068b",
   "metadata": {
    "ExecuteTime": {
     "end_time": "2023-09-08T23:46:41.659550Z",
     "start_time": "2023-09-08T23:46:41.044909Z"
    }
   },
   "outputs": [],
   "source": [
    "# import necessary libraries\n",
    "import os\n",
    "# import pandas as pd\n",
    "import numpy as np\n",
    "import modin.pandas as pd"
   ]
  },
  {
   "cell_type": "code",
   "execution_count": 2,
   "id": "e734721a",
   "metadata": {
    "ExecuteTime": {
     "end_time": "2023-09-08T23:46:42.823981Z",
     "start_time": "2023-09-08T23:46:42.814765Z"
    }
   },
   "outputs": [],
   "source": [
    "# The first step is to fetch all the data\n",
    "\n",
    "# determine the relative path of the folder holding the csv files\n",
    "folder_path = \"./TZA_2020_NPS-R5_v02_M_CSV\""
   ]
  },
  {
   "cell_type": "code",
   "execution_count": 3,
   "id": "e48b0529",
   "metadata": {
    "ExecuteTime": {
     "end_time": "2023-09-08T23:46:46.854555Z",
     "start_time": "2023-09-08T23:46:44.093090Z"
    }
   },
   "outputs": [],
   "source": [
    "# Initialize an empty dictionary to store the data\n",
    "data_dict = {}\n",
    "\n",
    "# Loop through each file in the folder\n",
    "for filename in os.listdir(folder_path):\n",
    "    if filename.endswith(\".csv\"):\n",
    "        # Create the variable name (removing the .csv extension)\n",
    "        var_name = os.path.splitext(filename)[0]\n",
    "        \n",
    "        # Construct the full file path\n",
    "        file_path = os.path.join(folder_path, filename)\n",
    "        \n",
    "        # Read the CSV file into a DataFrame\n",
    "        data_dict[var_name] = pd.read_csv(file_path)"
   ]
  },
  {
   "cell_type": "code",
   "execution_count": 5,
   "outputs": [
    {
     "data": {
      "text/plain": "dict_keys(['ag_sec_4b', 'ag_filters', 'ag_sec_12b', 'npsy5.panel.key', 'hh_sec_q1', 'ag_sec_4a', 'cm_sec_f_id', 'ag_sec_12a', 'hh_sec_q2', 'hh_sec_e3', 'hh_sec_e2', 'ag_sec_5a', 'hh_sec_e1', 'hh_sec_i2', 'ag_sec_5b', 'cm_sec_g', 'hh_sec_a', 'hh_sec_v', 'cm_sec_f', 'cm_sec_d', 'lf_sec_08', 'hh_sec_c', 'hh_sec_b', 'cm_sec_e', 'hh_sec_ja1', 'cm_sec_a', 'hh_sec_f', 'hh_sec_p', 'hh_sec_g', 'hh_sec_o2', 'ag_sec_3b', 'cm_sec_b', 'hh_sec_r', 'hh_sec_s', 'hh_sec_d', 'hh_sec_o1', 'ag_sec_3a', 'cm_sec_c', 'hh_sec_u2', 'lf_sec_02', 'hh_sec_i', 'hh_sec_h', 'lf_sec_03', 'ag_sec_11', 'hh_sec_k', 'ag_sec_10', 'npsy5.child.anthro', 'lf_sec_04', 'consumption_real_y5', 'consumption_real_y4', 'hh_sec_n', 'lf_sec_05', 'ag_sec_01', 'lf_sec_07', 'hh_sec_l', 'hh_sec_m', 'lf_sec_06', 'ag_sec_02', 'hh_sec_j3', 'ag_sec_6b', 'lf_sec_04a', 'hh_sec_j1', 'ag_sec_6a', 'ag_sec_7a', 'hh_sec_j4', 'ag_sec_7b', 'cm_sec_d2'])"
     },
     "execution_count": 5,
     "metadata": {},
     "output_type": "execute_result"
    }
   ],
   "source": [
    "# List of all datasets:\n",
    "data_dict.keys()"
   ],
   "metadata": {
    "collapsed": false,
    "ExecuteTime": {
     "end_time": "2023-09-08T23:46:51.821228Z",
     "start_time": "2023-09-08T23:46:51.784032Z"
    }
   }
  },
  {
   "cell_type": "markdown",
   "source": [
    "From the review of the data, it seems like the important datasets are:\n",
    "1. hh_sec_a {y5_hhid}\n",
    "2. hh_sec_b {y5_hhid, indidy5}\n",
    "3. hh_sec_e2 (occupation data) {y5_hhid, indidy5}\n",
    "3. hh_sec_e3 (firewood collection shows source of energy) {y5_hhid, indidy5}\n",
    "4. hh_seg_g (financial status) {y5_hhid, indidy5}\n",
    "5. hh_sec_j1 (food consumed) {y5_hhid, itemcode\n",
    "6. hh_sec_m (household assets) {y5_hhid, itemcode}"
   ],
   "metadata": {
    "collapsed": false
   }
  },
  {
   "cell_type": "code",
   "execution_count": 6,
   "outputs": [],
   "source": [
    "hh_merged = data_dict['hh_sec_a'].\\\n",
    "    merge(data_dict['hh_sec_b'],\n",
    "                             how = 'left',\n",
    "                             on = 'y5_hhid',suffixes = ('_sx_a','_sx_b')).\\\n",
    "    merge(data_dict['hh_sec_e2'],\n",
    "           how = 'left',\n",
    "           left_on = ['y5_hhid', 'indidy5'],\n",
    "           right_on = ['y5_hhid', 'indidy5'], suffixes = ('_sx_ab','_sx_e2')).\\\n",
    "    merge(data_dict['hh_sec_e3'],\n",
    "           how = 'left',\n",
    "           left_on = ['y5_hhid', 'indidy5'],\n",
    "           right_on = ['y5_hhid', 'indidy5'],suffixes = ('_sx_abe2','_sx_e3')).\\\n",
    "    merge(data_dict['hh_sec_g'],\n",
    "           how = 'left',\n",
    "           left_on = ['y5_hhid', 'indidy5'],\n",
    "           right_on = ['y5_hhid', 'indidy5'],suffixes = ('_sx_abe2e3','_sx_g')).\\\n",
    "    merge(data_dict['hh_sec_j1'],\n",
    "           how = 'left',\n",
    "           left_on = 'y5_hhid',\n",
    "           right_on = 'y5_hhid',suffixes = ('_sx_abe2e3g','_sx_j1')).\\\n",
    "    merge(data_dict['hh_sec_m'],\n",
    "           how = 'left',\n",
    "           left_on = 'y5_hhid',\n",
    "           right_on = 'y5_hhid',suffixes = ('_sx_abe2e3gj1','_sx_m'))"
   ],
   "metadata": {
    "collapsed": false,
    "ExecuteTime": {
     "end_time": "2023-09-08T23:47:28.729929Z",
     "start_time": "2023-09-08T23:46:58.045809Z"
    }
   }
  },
  {
   "cell_type": "code",
   "execution_count": 10,
   "outputs": [
    {
     "data": {
      "text/plain": "        interview__key_sx_a  hh_a06      y5_hhid        y5_cluster  \\\n0               39-26-37-98  1000.0  1000-001-01  02-02-033-04-004   \n1               39-26-37-98  1000.0  1000-001-01  02-02-033-04-004   \n2               39-26-37-98  1000.0  1000-001-01  02-02-033-04-004   \n3               39-26-37-98  1000.0  1000-001-01  02-02-033-04-004   \n4               39-26-37-98  1000.0  1000-001-01  02-02-033-04-004   \n...                     ...     ...          ...               ...   \n8656027         53-69-11-30     NaN  9811-001-99  19-03-122-02-001   \n8656028         53-69-11-30     NaN  9811-001-99  19-03-122-02-001   \n8656029         53-69-11-30     NaN  9811-001-99  19-03-122-02-001   \n8656030         53-69-11-30     NaN  9811-001-99  19-03-122-02-001   \n8656031         53-69-11-30     NaN  9811-001-99  19-03-122-02-001   \n\n         y5_crossweight  y5_panelweight  y5_rural     clusterid  strataid  \\\n0           2248.762061     2164.920159         1  2.020330e+10       4.0   \n1           2248.762061     2164.920159         1  2.020330e+10       4.0   \n2           2248.762061     2164.920159         1  2.020330e+10       4.0   \n3           2248.762061     2164.920159         1  2.020330e+10       4.0   \n4           2248.762061     2164.920159         1  2.020330e+10       4.0   \n...                 ...             ...       ...           ...       ...   \n8656027     1113.334306             NaN         2           NaN       NaN   \n8656028     1113.334306             NaN         2           NaN       NaN   \n8656029     1113.334306             NaN         2           NaN       NaN   \n8656030     1113.334306             NaN         2           NaN       NaN   \n8656031     1113.334306             NaN         2           NaN       NaN   \n\n         domain  ...  hh_j06_1  hh_j06_2  j1_selection_sx_j1  interview__key  \\\n0           3.0  ...       NaN       NaN                 NaN     39-26-37-98   \n1           3.0  ...       NaN       NaN                 NaN     39-26-37-98   \n2           3.0  ...       NaN       NaN                 NaN     39-26-37-98   \n3           3.0  ...       NaN       NaN                 NaN     39-26-37-98   \n4           3.0  ...       NaN       NaN                 NaN     39-26-37-98   \n...         ...  ...       ...       ...                 ...             ...   \n8656027     NaN  ...       NaN       NaN                 NaN     53-69-11-30   \n8656028     NaN  ...       NaN       NaN                 NaN     53-69-11-30   \n8656029     NaN  ...       NaN       NaN                 NaN     53-69-11-30   \n8656030     NaN  ...       NaN       NaN                 NaN     53-69-11-30   \n8656031     NaN  ...       NaN       NaN                 NaN     53-69-11-30   \n\n        itemcode_sx_m  hh_m00 hh_m01  hh_m02   hh_m03   hh_m04  \n0                 401     2.0    0.0     NaN      NaN      NaN  \n1                 402     2.0    0.0     NaN      NaN      NaN  \n2                 403     1.0    2.0     0.0  60000.0  50000.0  \n3                 404     2.0    0.0     NaN      NaN      NaN  \n4                 405     2.0    0.0     NaN      NaN      NaN  \n...               ...     ...    ...     ...      ...      ...  \n8656027           452     2.0    0.0     NaN      NaN      NaN  \n8656028           453     2.0    0.0     NaN      NaN      NaN  \n8656029           454     2.0    0.0     NaN      NaN      NaN  \n8656030           455     2.0    0.0     NaN      NaN      NaN  \n8656031           456     2.0    0.0     NaN      NaN      NaN  \n\n[8656032 rows x 151 columns]",
      "text/html": "<div>\n<style scoped>\n    .dataframe tbody tr th:only-of-type {\n        vertical-align: middle;\n    }\n\n    .dataframe tbody tr th {\n        vertical-align: top;\n    }\n\n    .dataframe thead th {\n        text-align: right;\n    }\n</style>\n<table border=\"1\" class=\"dataframe\">\n  <thead>\n    <tr style=\"text-align: right;\">\n      <th></th>\n      <th>interview__key_sx_a</th>\n      <th>hh_a06</th>\n      <th>y5_hhid</th>\n      <th>y5_cluster</th>\n      <th>y5_crossweight</th>\n      <th>y5_panelweight</th>\n      <th>y5_rural</th>\n      <th>clusterid</th>\n      <th>strataid</th>\n      <th>domain</th>\n      <th>...</th>\n      <th>hh_j06_1</th>\n      <th>hh_j06_2</th>\n      <th>j1_selection_sx_j1</th>\n      <th>interview__key</th>\n      <th>itemcode_sx_m</th>\n      <th>hh_m00</th>\n      <th>hh_m01</th>\n      <th>hh_m02</th>\n      <th>hh_m03</th>\n      <th>hh_m04</th>\n    </tr>\n  </thead>\n  <tbody>\n    <tr>\n      <th>0</th>\n      <td>39-26-37-98</td>\n      <td>1000.0</td>\n      <td>1000-001-01</td>\n      <td>02-02-033-04-004</td>\n      <td>2248.762061</td>\n      <td>2164.920159</td>\n      <td>1</td>\n      <td>2.020330e+10</td>\n      <td>4.0</td>\n      <td>3.0</td>\n      <td>...</td>\n      <td>NaN</td>\n      <td>NaN</td>\n      <td>NaN</td>\n      <td>39-26-37-98</td>\n      <td>401</td>\n      <td>2.0</td>\n      <td>0.0</td>\n      <td>NaN</td>\n      <td>NaN</td>\n      <td>NaN</td>\n    </tr>\n    <tr>\n      <th>1</th>\n      <td>39-26-37-98</td>\n      <td>1000.0</td>\n      <td>1000-001-01</td>\n      <td>02-02-033-04-004</td>\n      <td>2248.762061</td>\n      <td>2164.920159</td>\n      <td>1</td>\n      <td>2.020330e+10</td>\n      <td>4.0</td>\n      <td>3.0</td>\n      <td>...</td>\n      <td>NaN</td>\n      <td>NaN</td>\n      <td>NaN</td>\n      <td>39-26-37-98</td>\n      <td>402</td>\n      <td>2.0</td>\n      <td>0.0</td>\n      <td>NaN</td>\n      <td>NaN</td>\n      <td>NaN</td>\n    </tr>\n    <tr>\n      <th>2</th>\n      <td>39-26-37-98</td>\n      <td>1000.0</td>\n      <td>1000-001-01</td>\n      <td>02-02-033-04-004</td>\n      <td>2248.762061</td>\n      <td>2164.920159</td>\n      <td>1</td>\n      <td>2.020330e+10</td>\n      <td>4.0</td>\n      <td>3.0</td>\n      <td>...</td>\n      <td>NaN</td>\n      <td>NaN</td>\n      <td>NaN</td>\n      <td>39-26-37-98</td>\n      <td>403</td>\n      <td>1.0</td>\n      <td>2.0</td>\n      <td>0.0</td>\n      <td>60000.0</td>\n      <td>50000.0</td>\n    </tr>\n    <tr>\n      <th>3</th>\n      <td>39-26-37-98</td>\n      <td>1000.0</td>\n      <td>1000-001-01</td>\n      <td>02-02-033-04-004</td>\n      <td>2248.762061</td>\n      <td>2164.920159</td>\n      <td>1</td>\n      <td>2.020330e+10</td>\n      <td>4.0</td>\n      <td>3.0</td>\n      <td>...</td>\n      <td>NaN</td>\n      <td>NaN</td>\n      <td>NaN</td>\n      <td>39-26-37-98</td>\n      <td>404</td>\n      <td>2.0</td>\n      <td>0.0</td>\n      <td>NaN</td>\n      <td>NaN</td>\n      <td>NaN</td>\n    </tr>\n    <tr>\n      <th>4</th>\n      <td>39-26-37-98</td>\n      <td>1000.0</td>\n      <td>1000-001-01</td>\n      <td>02-02-033-04-004</td>\n      <td>2248.762061</td>\n      <td>2164.920159</td>\n      <td>1</td>\n      <td>2.020330e+10</td>\n      <td>4.0</td>\n      <td>3.0</td>\n      <td>...</td>\n      <td>NaN</td>\n      <td>NaN</td>\n      <td>NaN</td>\n      <td>39-26-37-98</td>\n      <td>405</td>\n      <td>2.0</td>\n      <td>0.0</td>\n      <td>NaN</td>\n      <td>NaN</td>\n      <td>NaN</td>\n    </tr>\n    <tr>\n      <th>...</th>\n      <td>...</td>\n      <td>...</td>\n      <td>...</td>\n      <td>...</td>\n      <td>...</td>\n      <td>...</td>\n      <td>...</td>\n      <td>...</td>\n      <td>...</td>\n      <td>...</td>\n      <td>...</td>\n      <td>...</td>\n      <td>...</td>\n      <td>...</td>\n      <td>...</td>\n      <td>...</td>\n      <td>...</td>\n      <td>...</td>\n      <td>...</td>\n      <td>...</td>\n      <td>...</td>\n    </tr>\n    <tr>\n      <th>8656027</th>\n      <td>53-69-11-30</td>\n      <td>NaN</td>\n      <td>9811-001-99</td>\n      <td>19-03-122-02-001</td>\n      <td>1113.334306</td>\n      <td>NaN</td>\n      <td>2</td>\n      <td>NaN</td>\n      <td>NaN</td>\n      <td>NaN</td>\n      <td>...</td>\n      <td>NaN</td>\n      <td>NaN</td>\n      <td>NaN</td>\n      <td>53-69-11-30</td>\n      <td>452</td>\n      <td>2.0</td>\n      <td>0.0</td>\n      <td>NaN</td>\n      <td>NaN</td>\n      <td>NaN</td>\n    </tr>\n    <tr>\n      <th>8656028</th>\n      <td>53-69-11-30</td>\n      <td>NaN</td>\n      <td>9811-001-99</td>\n      <td>19-03-122-02-001</td>\n      <td>1113.334306</td>\n      <td>NaN</td>\n      <td>2</td>\n      <td>NaN</td>\n      <td>NaN</td>\n      <td>NaN</td>\n      <td>...</td>\n      <td>NaN</td>\n      <td>NaN</td>\n      <td>NaN</td>\n      <td>53-69-11-30</td>\n      <td>453</td>\n      <td>2.0</td>\n      <td>0.0</td>\n      <td>NaN</td>\n      <td>NaN</td>\n      <td>NaN</td>\n    </tr>\n    <tr>\n      <th>8656029</th>\n      <td>53-69-11-30</td>\n      <td>NaN</td>\n      <td>9811-001-99</td>\n      <td>19-03-122-02-001</td>\n      <td>1113.334306</td>\n      <td>NaN</td>\n      <td>2</td>\n      <td>NaN</td>\n      <td>NaN</td>\n      <td>NaN</td>\n      <td>...</td>\n      <td>NaN</td>\n      <td>NaN</td>\n      <td>NaN</td>\n      <td>53-69-11-30</td>\n      <td>454</td>\n      <td>2.0</td>\n      <td>0.0</td>\n      <td>NaN</td>\n      <td>NaN</td>\n      <td>NaN</td>\n    </tr>\n    <tr>\n      <th>8656030</th>\n      <td>53-69-11-30</td>\n      <td>NaN</td>\n      <td>9811-001-99</td>\n      <td>19-03-122-02-001</td>\n      <td>1113.334306</td>\n      <td>NaN</td>\n      <td>2</td>\n      <td>NaN</td>\n      <td>NaN</td>\n      <td>NaN</td>\n      <td>...</td>\n      <td>NaN</td>\n      <td>NaN</td>\n      <td>NaN</td>\n      <td>53-69-11-30</td>\n      <td>455</td>\n      <td>2.0</td>\n      <td>0.0</td>\n      <td>NaN</td>\n      <td>NaN</td>\n      <td>NaN</td>\n    </tr>\n    <tr>\n      <th>8656031</th>\n      <td>53-69-11-30</td>\n      <td>NaN</td>\n      <td>9811-001-99</td>\n      <td>19-03-122-02-001</td>\n      <td>1113.334306</td>\n      <td>NaN</td>\n      <td>2</td>\n      <td>NaN</td>\n      <td>NaN</td>\n      <td>NaN</td>\n      <td>...</td>\n      <td>NaN</td>\n      <td>NaN</td>\n      <td>NaN</td>\n      <td>53-69-11-30</td>\n      <td>456</td>\n      <td>2.0</td>\n      <td>0.0</td>\n      <td>NaN</td>\n      <td>NaN</td>\n      <td>NaN</td>\n    </tr>\n  </tbody>\n</table>\n<p>8656032 rows × 151 columns</p>\n</div>"
     },
     "execution_count": 10,
     "metadata": {},
     "output_type": "execute_result"
    }
   ],
   "source": [
    "hh_merged"
   ],
   "metadata": {
    "collapsed": false,
    "ExecuteTime": {
     "end_time": "2023-09-08T23:52:15.032346Z",
     "start_time": "2023-09-08T23:52:11.370904Z"
    }
   }
  },
  {
   "cell_type": "markdown",
   "source": [
    "# Columns of interest"
   ],
   "metadata": {
    "collapsed": false
   }
  },
  {
   "cell_type": "code",
   "execution_count": null,
   "outputs": [],
   "source": [],
   "metadata": {
    "collapsed": false
   }
  }
 ],
 "metadata": {
  "kernelspec": {
   "display_name": "Python 3",
   "language": "python",
   "name": "python3"
  },
  "language_info": {
   "codemirror_mode": {
    "name": "ipython",
    "version": 3
   },
   "file_extension": ".py",
   "mimetype": "text/x-python",
   "name": "python",
   "nbconvert_exporter": "python",
   "pygments_lexer": "ipython3",
   "version": "3.8.8"
  }
 },
 "nbformat": 4,
 "nbformat_minor": 5
}
