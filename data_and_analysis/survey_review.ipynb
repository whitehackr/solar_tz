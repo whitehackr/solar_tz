{
 "cells": [
  {
   "cell_type": "markdown",
   "id": "037ae04a",
   "metadata": {},
   "source": [
    "## Energy Market in Tanzania: Market Entry Considerations"
   ]
  },
  {
   "cell_type": "code",
   "execution_count": null,
   "id": "0cc84b8c",
   "metadata": {
    "ExecuteTime": {
     "end_time": "2023-09-12T05:31:50.698209Z",
     "start_time": "2023-09-12T05:31:50.684334Z"
    }
   },
   "outputs": [],
   "source": []
  },
  {
   "cell_type": "code",
   "execution_count": 1,
   "id": "4772068b",
   "metadata": {
    "ExecuteTime": {
     "end_time": "2023-09-12T05:31:52.285279Z",
     "start_time": "2023-09-12T05:31:52.055491Z"
    }
   },
   "outputs": [],
   "source": [
    "# import necessary libraries\n",
    "import os\n",
    "import pandas as pd\n",
    "import numpy as np\n",
    "import seaborn as sns\n",
    "import geopandas as gpd\n",
    "import matplotlib\n",
    "import matplotlib.pyplot as plt\n",
    "matplotlib.use('agg')"
   ]
  },
  {
   "cell_type": "code",
   "execution_count": 2,
   "outputs": [],
   "source": [
    "# Set some constants\n",
    "# https://data.worldbank.org/country/TZ\n",
    "total_population = 65497748\n",
    "# 2021 Exchange rate (USD): 0.0004\n",
    "# https://www.exchangerates.org.uk/TZS-USD-spot-exchange-rates-history-2021.html\n",
    "fx = 0.0004"
   ],
   "metadata": {
    "collapsed": false,
    "ExecuteTime": {
     "end_time": "2023-09-12T05:31:56.632523Z",
     "start_time": "2023-09-12T05:31:56.606042Z"
    }
   }
  },
  {
   "cell_type": "code",
   "execution_count": 3,
   "id": "e734721a",
   "metadata": {
    "ExecuteTime": {
     "end_time": "2023-09-12T05:32:00.917909Z",
     "start_time": "2023-09-12T05:32:00.892614Z"
    }
   },
   "outputs": [],
   "source": [
    "# The first step is to fetch all the data\n",
    "# determine the relative path of the folder holding the csv files\n",
    "folder_path = \"./TZA_2020_NPS-R5_v02_M_CSV\""
   ]
  },
  {
   "cell_type": "code",
   "execution_count": 4,
   "id": "e48b0529",
   "metadata": {
    "ExecuteTime": {
     "end_time": "2023-09-12T05:32:21.518345Z",
     "start_time": "2023-09-12T05:32:19.577516Z"
    }
   },
   "outputs": [],
   "source": [
    "# Initialize an empty dictionary to store the data (household and consumption data specifically)\n",
    "data_dict = {}\n",
    "\n",
    "# Loop through each file in the folder\n",
    "for filename in os.listdir(folder_path):\n",
    "    if filename.startswith(\"hh_\") or filename.startswith(\"consumption_\"):\n",
    "        # Create the variable name (removing the .csv extension)\n",
    "        var_name = os.path.splitext(filename)[0]\n",
    "        \n",
    "        # Construct the full file path\n",
    "        file_path = os.path.join(folder_path, filename)\n",
    "        \n",
    "        # Read the CSV file into a DataFrame\n",
    "        data_dict[var_name] = pd.read_csv(file_path)"
   ]
  },
  {
   "cell_type": "code",
   "execution_count": 5,
   "outputs": [
    {
     "data": {
      "text/plain": "dict_keys(['hh_sec_q1', 'hh_sec_q2', 'hh_sec_e3', 'hh_sec_e2', 'hh_sec_e1', 'hh_sec_i2', 'hh_sec_a', 'hh_sec_v', 'hh_sec_c', 'hh_sec_b', 'hh_sec_ja1', 'hh_sec_f', 'hh_sec_p', 'hh_sec_g', 'hh_sec_o2', 'hh_sec_r', 'hh_sec_s', 'hh_sec_d', 'hh_sec_o1', 'hh_sec_u2', 'hh_sec_i', 'hh_sec_h', 'hh_sec_k', 'consumption_real_y5', 'consumption_real_y4', 'hh_sec_n', 'hh_sec_l', 'hh_sec_m', 'hh_sec_j3', 'hh_sec_j1', 'hh_sec_j4'])"
     },
     "execution_count": 5,
     "metadata": {},
     "output_type": "execute_result"
    }
   ],
   "source": [
    "# List of all datasets:\n",
    "data_dict.keys()"
   ],
   "metadata": {
    "collapsed": false,
    "ExecuteTime": {
     "end_time": "2023-09-12T05:32:24.738224Z",
     "start_time": "2023-09-12T05:32:24.725720Z"
    }
   }
  },
  {
   "cell_type": "code",
   "execution_count": 6,
   "outputs": [
    {
     "data": {
      "text/plain": "  Region_Cod Region_Nam                                           geometry\n0         06      Pwani  MULTIPOLYGON (((39.32625 -8.29375, 39.32662 -8...\n1         24     Simiyu  MULTIPOLYGON (((33.91144 -2.18240, 33.91730 -2...\n2         25      Geita  MULTIPOLYGON (((31.81754 -2.70194, 31.81611 -2...\n3         13    Singida  MULTIPOLYGON (((34.92803 -4.26680, 34.92803 -4...\n4         11     Iringa  MULTIPOLYGON (((34.93545 -6.89101, 34.93821 -6...",
      "text/html": "<div>\n<style scoped>\n    .dataframe tbody tr th:only-of-type {\n        vertical-align: middle;\n    }\n\n    .dataframe tbody tr th {\n        vertical-align: top;\n    }\n\n    .dataframe thead th {\n        text-align: right;\n    }\n</style>\n<table border=\"1\" class=\"dataframe\">\n  <thead>\n    <tr style=\"text-align: right;\">\n      <th></th>\n      <th>Region_Cod</th>\n      <th>Region_Nam</th>\n      <th>geometry</th>\n    </tr>\n  </thead>\n  <tbody>\n    <tr>\n      <th>0</th>\n      <td>06</td>\n      <td>Pwani</td>\n      <td>MULTIPOLYGON (((39.32625 -8.29375, 39.32662 -8...</td>\n    </tr>\n    <tr>\n      <th>1</th>\n      <td>24</td>\n      <td>Simiyu</td>\n      <td>MULTIPOLYGON (((33.91144 -2.18240, 33.91730 -2...</td>\n    </tr>\n    <tr>\n      <th>2</th>\n      <td>25</td>\n      <td>Geita</td>\n      <td>MULTIPOLYGON (((31.81754 -2.70194, 31.81611 -2...</td>\n    </tr>\n    <tr>\n      <th>3</th>\n      <td>13</td>\n      <td>Singida</td>\n      <td>MULTIPOLYGON (((34.92803 -4.26680, 34.92803 -4...</td>\n    </tr>\n    <tr>\n      <th>4</th>\n      <td>11</td>\n      <td>Iringa</td>\n      <td>MULTIPOLYGON (((34.93545 -6.89101, 34.93821 -6...</td>\n    </tr>\n  </tbody>\n</table>\n</div>"
     },
     "execution_count": 6,
     "metadata": {},
     "output_type": "execute_result"
    }
   ],
   "source": [
    "# Load the GeoJSON file\n",
    "# Important for analysing geo data\n",
    "# Downloaded from: https://energydata.info/dataset/tanzania-region-district-boundary-2012\n",
    "gdf = gpd.read_file('regions.geojson')\n",
    "gdf.head()"
   ],
   "metadata": {
    "collapsed": false,
    "ExecuteTime": {
     "end_time": "2023-09-12T05:33:13.105563Z",
     "start_time": "2023-09-12T05:33:11.768111Z"
    }
   }
  },
  {
   "cell_type": "markdown",
   "source": [
    "From the review of the data, it seems like the important datasets are:\n",
    "1. hh_sec_a {y5_hhid}\n",
    "2. hh_sec_b {y5_hhid, indidy5}\n",
    "3. hh_sec_e2 (occupation data) {y5_hhid, indidy5}\n",
    "3. hh_sec_e3 (firewood collection shows source of energy) {y5_hhid, indidy5}\n",
    "4. hh_seg_g (financial status) {y5_hhid, indidy5}\n",
    "5. hh_sec_j1 (food consumed) {y5_hhid, itemcode\n",
    "6. hh_sec_m (household assets) {y5_hhid, itemcode}"
   ],
   "metadata": {
    "collapsed": false
   }
  },
  {
   "cell_type": "markdown",
   "source": [
    "### Columns of interest"
   ],
   "metadata": {
    "collapsed": false
   }
  },
  {
   "cell_type": "code",
   "execution_count": 7,
   "outputs": [
    {
     "data": {
      "text/plain": "          y5_hhid  y5_rural  location\n0     1000-001-01         1        22\n1     1000-001-02         1        22\n2     1000-001-03         1        22\n3     1000-001-06         1        22\n4     1001-001-01         1        22\n...           ...       ...       ...\n4704  9807-001-99         2       193\n4705  9808-001-99         2       193\n4706  9809-001-99         2       193\n4707  9810-001-99         2       193\n4708  9811-001-99         2       193\n\n[4709 rows x 3 columns]",
      "text/html": "<div>\n<style scoped>\n    .dataframe tbody tr th:only-of-type {\n        vertical-align: middle;\n    }\n\n    .dataframe tbody tr th {\n        vertical-align: top;\n    }\n\n    .dataframe thead th {\n        text-align: right;\n    }\n</style>\n<table border=\"1\" class=\"dataframe\">\n  <thead>\n    <tr style=\"text-align: right;\">\n      <th></th>\n      <th>y5_hhid</th>\n      <th>y5_rural</th>\n      <th>location</th>\n    </tr>\n  </thead>\n  <tbody>\n    <tr>\n      <th>0</th>\n      <td>1000-001-01</td>\n      <td>1</td>\n      <td>22</td>\n    </tr>\n    <tr>\n      <th>1</th>\n      <td>1000-001-02</td>\n      <td>1</td>\n      <td>22</td>\n    </tr>\n    <tr>\n      <th>2</th>\n      <td>1000-001-03</td>\n      <td>1</td>\n      <td>22</td>\n    </tr>\n    <tr>\n      <th>3</th>\n      <td>1000-001-06</td>\n      <td>1</td>\n      <td>22</td>\n    </tr>\n    <tr>\n      <th>4</th>\n      <td>1001-001-01</td>\n      <td>1</td>\n      <td>22</td>\n    </tr>\n    <tr>\n      <th>...</th>\n      <td>...</td>\n      <td>...</td>\n      <td>...</td>\n    </tr>\n    <tr>\n      <th>4704</th>\n      <td>9807-001-99</td>\n      <td>2</td>\n      <td>193</td>\n    </tr>\n    <tr>\n      <th>4705</th>\n      <td>9808-001-99</td>\n      <td>2</td>\n      <td>193</td>\n    </tr>\n    <tr>\n      <th>4706</th>\n      <td>9809-001-99</td>\n      <td>2</td>\n      <td>193</td>\n    </tr>\n    <tr>\n      <th>4707</th>\n      <td>9810-001-99</td>\n      <td>2</td>\n      <td>193</td>\n    </tr>\n    <tr>\n      <th>4708</th>\n      <td>9811-001-99</td>\n      <td>2</td>\n      <td>193</td>\n    </tr>\n  </tbody>\n</table>\n<p>4709 rows × 3 columns</p>\n</div>"
     },
     "execution_count": 7,
     "metadata": {},
     "output_type": "execute_result"
    }
   ],
   "source": [],
   "metadata": {
    "collapsed": false,
    "ExecuteTime": {
     "end_time": "2023-09-12T05:33:44.104529Z",
     "start_time": "2023-09-12T05:33:44.099074Z"
    }
   }
  },
  {
   "cell_type": "code",
   "execution_count": 8,
   "outputs": [
    {
     "data": {
      "text/plain": "     region  district  count\n0         1         1     13\n1         1         2     13\n2         1         3     10\n3         1         4      8\n4         1         5    168\n..      ...       ...    ...\n182      53         2     51\n183      54         1     41\n184      54         2     52\n185      55         1     49\n186      55         2     32\n\n[187 rows x 3 columns]",
      "text/html": "<div>\n<style scoped>\n    .dataframe tbody tr th:only-of-type {\n        vertical-align: middle;\n    }\n\n    .dataframe tbody tr th {\n        vertical-align: top;\n    }\n\n    .dataframe thead th {\n        text-align: right;\n    }\n</style>\n<table border=\"1\" class=\"dataframe\">\n  <thead>\n    <tr style=\"text-align: right;\">\n      <th></th>\n      <th>region</th>\n      <th>district</th>\n      <th>count</th>\n    </tr>\n  </thead>\n  <tbody>\n    <tr>\n      <th>0</th>\n      <td>1</td>\n      <td>1</td>\n      <td>13</td>\n    </tr>\n    <tr>\n      <th>1</th>\n      <td>1</td>\n      <td>2</td>\n      <td>13</td>\n    </tr>\n    <tr>\n      <th>2</th>\n      <td>1</td>\n      <td>3</td>\n      <td>10</td>\n    </tr>\n    <tr>\n      <th>3</th>\n      <td>1</td>\n      <td>4</td>\n      <td>8</td>\n    </tr>\n    <tr>\n      <th>4</th>\n      <td>1</td>\n      <td>5</td>\n      <td>168</td>\n    </tr>\n    <tr>\n      <th>...</th>\n      <td>...</td>\n      <td>...</td>\n      <td>...</td>\n    </tr>\n    <tr>\n      <th>182</th>\n      <td>53</td>\n      <td>2</td>\n      <td>51</td>\n    </tr>\n    <tr>\n      <th>183</th>\n      <td>54</td>\n      <td>1</td>\n      <td>41</td>\n    </tr>\n    <tr>\n      <th>184</th>\n      <td>54</td>\n      <td>2</td>\n      <td>52</td>\n    </tr>\n    <tr>\n      <th>185</th>\n      <td>55</td>\n      <td>1</td>\n      <td>49</td>\n    </tr>\n    <tr>\n      <th>186</th>\n      <td>55</td>\n      <td>2</td>\n      <td>32</td>\n    </tr>\n  </tbody>\n</table>\n<p>187 rows × 3 columns</p>\n</div>"
     },
     "execution_count": 8,
     "metadata": {},
     "output_type": "execute_result"
    }
   ],
   "source": [
    "a_hh_basic = data_dict['hh_sec_a'][['y5_hhid','y5_rural','hh_a02_1',]].rename(columns = {'hh_a02_1':'location'})\n",
    "\n",
    "# getting region and district info from the location column \"hh_a02_1\"\n",
    "a_hh_basic['location'] = a_hh_basic['location'].astype(str)\n",
    "\n",
    "# extract all but the last xter\n",
    "a_hh_basic['region'] = a_hh_basic['location'].str[:-1]\n",
    "# extract the last xter\n",
    "a_hh_basic['district'] = a_hh_basic['location'].str[-1]\n",
    "\n",
    "# convert region/district back into integers\n",
    "a_hh_basic['region'] = a_hh_basic['region'].astype(int)\n",
    "a_hh_basic['district'] = a_hh_basic['district'].astype(int)\n",
    "a_hh_basic = a_hh_basic.drop(columns = ['location'])\n",
    "\n",
    "# [OBS] region data does not align perfectly with \"MAGERESHO YA MIKOA NA WILAYA\" section\n",
    "# of the questionairre\n",
    "a_hh_basic.groupby(['region', 'district']).size().reset_index(name='count')"
   ],
   "metadata": {
    "collapsed": false,
    "ExecuteTime": {
     "end_time": "2023-09-12T05:34:27.417971Z",
     "start_time": "2023-09-12T05:34:27.398563Z"
    }
   }
  },
  {
   "cell_type": "code",
   "execution_count": null,
   "outputs": [],
   "source": [
    "# Consumption data:\n",
    "# Construction from nps_wave_5_report.pdf, appendix A.\n",
    "# consumption is for 28 days\n",
    "# data dictionaty: https://microdata.worldbank.org/index.php/catalog/5639/data-dictionary/F65?file_name=consumption_real_y5\n",
    "data_dict['consumption_real_y5']#.columns"
   ],
   "metadata": {
    "collapsed": false
   }
  },
  {
   "cell_type": "code",
   "execution_count": null,
   "outputs": [],
   "source": [],
   "metadata": {
    "collapsed": false
   }
  },
  {
   "cell_type": "code",
   "execution_count": null,
   "outputs": [],
   "source": [],
   "metadata": {
    "collapsed": false
   }
  },
  {
   "cell_type": "code",
   "execution_count": null,
   "outputs": [],
   "source": [],
   "metadata": {
    "collapsed": false
   }
  },
  {
   "cell_type": "code",
   "execution_count": null,
   "outputs": [],
   "source": [],
   "metadata": {
    "collapsed": false
   }
  },
  {
   "cell_type": "code",
   "execution_count": null,
   "outputs": [],
   "source": [],
   "metadata": {
    "collapsed": false
   }
  },
  {
   "cell_type": "code",
   "execution_count": null,
   "outputs": [],
   "source": [],
   "metadata": {
    "collapsed": false
   }
  },
  {
   "cell_type": "code",
   "execution_count": null,
   "outputs": [],
   "source": [],
   "metadata": {
    "collapsed": false
   }
  },
  {
   "cell_type": "code",
   "execution_count": null,
   "outputs": [],
   "source": [],
   "metadata": {
    "collapsed": false
   }
  },
  {
   "cell_type": "code",
   "execution_count": null,
   "outputs": [],
   "source": [],
   "metadata": {
    "collapsed": false
   }
  },
  {
   "cell_type": "markdown",
   "source": [
    "#### Energy Data"
   ],
   "metadata": {
    "collapsed": false
   }
  },
  {
   "cell_type": "code",
   "execution_count": 9,
   "outputs": [],
   "source": [
    "i_hh_energy = data_dict['hh_sec_i'][['y5_hhid','hh_i16','hh_i16_1','hh_i17','hh_i18']].rename(columns = {\n",
    "    'hh_i16':'cooking_fuel',\n",
    "    'hh_i16_1':'cooking_stove',\n",
    "    'hh_i17':'lighting_fuel',\n",
    "    'hh_i18':'electricity_source'\n",
    "})"
   ],
   "metadata": {
    "collapsed": false,
    "ExecuteTime": {
     "end_time": "2023-09-12T05:35:14.253793Z",
     "start_time": "2023-09-12T05:35:14.238827Z"
    }
   }
  },
  {
   "cell_type": "code",
   "execution_count": 10,
   "outputs": [],
   "source": [
    "# Create dictionaries to help in renaming the values in the columns\n",
    "# Fuel used for cooking\n",
    "ckfuel_dict = { 1:'Firewood',\n",
    "                2:'Paraffin',\n",
    "                3:'Electricity',\n",
    "                4:'Gas',\n",
    "                5:'Charcoal',\n",
    "                6:'Animal Residue',\n",
    "                7:'Gas (Biogas)'}\n",
    "\n",
    "# Assumptions made in assigning the codes to the stove types, since the questionnaire only has 2 codes while the data has 4 outcomes\n",
    "stove_dict = {  1:'stone',\n",
    "                2:'other self-built',\n",
    "                3:'manufactured',\n",
    "                4:'other'}\n",
    "\n",
    "light_dict = {  1:'Electricity',\n",
    "                2:'Solar',\n",
    "                3:'Gas',\n",
    "                4:'Gas (Biogas)',\n",
    "                5:'Lamp oil',\n",
    "                6:'Candle',\n",
    "                7:'Firewood',\n",
    "                8:'Private Generator',\n",
    "                9:'Torch',\n",
    "                10:'Other'}\n",
    "\n",
    "elec_dict = {   1:'Tanesco',\n",
    "                2:'Community Generator',\n",
    "                3:'Solar Panels',\n",
    "                4:'Own Generator',\n",
    "                5:'Car Battery',\n",
    "                6:'Motorcycle Battery',\n",
    "                7:'Other'}"
   ],
   "metadata": {
    "collapsed": false,
    "ExecuteTime": {
     "end_time": "2023-09-12T05:35:19.762022Z",
     "start_time": "2023-09-12T05:35:19.741026Z"
    }
   }
  },
  {
   "cell_type": "code",
   "execution_count": 11,
   "outputs": [
    {
     "data": {
      "text/plain": "          y5_hhid cooking_fuel cooking_stove lighting_fuel  \\\n0     1000-001-01     Firewood         stone         Solar   \n1     1000-001-02     Charcoal  manufactured        Candle   \n2     1000-001-03     Firewood         stone         Solar   \n3     1000-001-06     Firewood         stone   Electricity   \n4     1001-001-01     Firewood         stone         Solar   \n...           ...          ...           ...           ...   \n4704  9807-001-99  Electricity         Other   Electricity   \n4705  9808-001-99  Electricity         Other   Electricity   \n4706  9809-001-99     Firewood         stone      Lamp oil   \n4707  9810-001-99     Charcoal  manufactured         Solar   \n4708  9811-001-99     Charcoal  manufactured   Electricity   \n\n       electricity_source  \n0            Solar Panels  \n1          no-electricity  \n2            Solar Panels  \n3                 Tanesco  \n4     Community Generator  \n...                   ...  \n4704              Tanesco  \n4705              Tanesco  \n4706       no-electricity  \n4707         Solar Panels  \n4708              Tanesco  \n\n[4709 rows x 5 columns]",
      "text/html": "<div>\n<style scoped>\n    .dataframe tbody tr th:only-of-type {\n        vertical-align: middle;\n    }\n\n    .dataframe tbody tr th {\n        vertical-align: top;\n    }\n\n    .dataframe thead th {\n        text-align: right;\n    }\n</style>\n<table border=\"1\" class=\"dataframe\">\n  <thead>\n    <tr style=\"text-align: right;\">\n      <th></th>\n      <th>y5_hhid</th>\n      <th>cooking_fuel</th>\n      <th>cooking_stove</th>\n      <th>lighting_fuel</th>\n      <th>electricity_source</th>\n    </tr>\n  </thead>\n  <tbody>\n    <tr>\n      <th>0</th>\n      <td>1000-001-01</td>\n      <td>Firewood</td>\n      <td>stone</td>\n      <td>Solar</td>\n      <td>Solar Panels</td>\n    </tr>\n    <tr>\n      <th>1</th>\n      <td>1000-001-02</td>\n      <td>Charcoal</td>\n      <td>manufactured</td>\n      <td>Candle</td>\n      <td>no-electricity</td>\n    </tr>\n    <tr>\n      <th>2</th>\n      <td>1000-001-03</td>\n      <td>Firewood</td>\n      <td>stone</td>\n      <td>Solar</td>\n      <td>Solar Panels</td>\n    </tr>\n    <tr>\n      <th>3</th>\n      <td>1000-001-06</td>\n      <td>Firewood</td>\n      <td>stone</td>\n      <td>Electricity</td>\n      <td>Tanesco</td>\n    </tr>\n    <tr>\n      <th>4</th>\n      <td>1001-001-01</td>\n      <td>Firewood</td>\n      <td>stone</td>\n      <td>Solar</td>\n      <td>Community Generator</td>\n    </tr>\n    <tr>\n      <th>...</th>\n      <td>...</td>\n      <td>...</td>\n      <td>...</td>\n      <td>...</td>\n      <td>...</td>\n    </tr>\n    <tr>\n      <th>4704</th>\n      <td>9807-001-99</td>\n      <td>Electricity</td>\n      <td>Other</td>\n      <td>Electricity</td>\n      <td>Tanesco</td>\n    </tr>\n    <tr>\n      <th>4705</th>\n      <td>9808-001-99</td>\n      <td>Electricity</td>\n      <td>Other</td>\n      <td>Electricity</td>\n      <td>Tanesco</td>\n    </tr>\n    <tr>\n      <th>4706</th>\n      <td>9809-001-99</td>\n      <td>Firewood</td>\n      <td>stone</td>\n      <td>Lamp oil</td>\n      <td>no-electricity</td>\n    </tr>\n    <tr>\n      <th>4707</th>\n      <td>9810-001-99</td>\n      <td>Charcoal</td>\n      <td>manufactured</td>\n      <td>Solar</td>\n      <td>Solar Panels</td>\n    </tr>\n    <tr>\n      <th>4708</th>\n      <td>9811-001-99</td>\n      <td>Charcoal</td>\n      <td>manufactured</td>\n      <td>Electricity</td>\n      <td>Tanesco</td>\n    </tr>\n  </tbody>\n</table>\n<p>4709 rows × 5 columns</p>\n</div>"
     },
     "execution_count": 11,
     "metadata": {},
     "output_type": "execute_result"
    }
   ],
   "source": [
    "#df['string_column'] = df['code_column'].map(code_to_string)\n",
    "i_hh_energy['cooking_fuel'] = i_hh_energy['cooking_fuel'].map(ckfuel_dict).fillna('Other')\n",
    "i_hh_energy['cooking_stove'] = i_hh_energy['cooking_stove'].map(stove_dict).fillna('Other')\n",
    "i_hh_energy['lighting_fuel'] = i_hh_energy['lighting_fuel'].map(light_dict).fillna('Other')\n",
    "i_hh_energy['electricity_source'] = i_hh_energy['electricity_source'].map(elec_dict).fillna('no-electricity')\n",
    "i_hh_energy"
   ],
   "metadata": {
    "collapsed": false,
    "ExecuteTime": {
     "end_time": "2023-09-12T05:35:25.353485Z",
     "start_time": "2023-09-12T05:35:25.325612Z"
    }
   }
  },
  {
   "cell_type": "code",
   "execution_count": 36,
   "outputs": [
    {
     "name": "stderr",
     "output_type": "stream",
     "text": [
      "<ipython-input-36-1f4800d67298>:42: UserWarning: Matplotlib is currently using agg, which is a non-GUI backend, so cannot show the figure.\n",
      "  plt.show()\n"
     ]
    }
   ],
   "source": [
    "# Households using certain fuel types\n",
    "cooking_fuel_counts = i_hh_energy['cooking_fuel'].value_counts(normalize = True) * 100\n",
    "lighting_fuel_counts = i_hh_energy['lighting_fuel'].value_counts(normalize = True) * 100\n",
    "electricity_source_counts = i_hh_energy['electricity_source'].value_counts(normalize = True) * 100\n",
    "\n",
    "# Plot the distribution of cooking fuel\n",
    "# Set a custom color palette\n",
    "custom_palette = sns.color_palette(\"Set2\")\n",
    "\n",
    "# Create a figure and axes with custom background color\n",
    "plt.figure(figsize=(8, 5))\n",
    "ax = plt.gca()\n",
    "ax.set_facecolor('#f0f0f0')  # Light grey background color\n",
    "\n",
    "# Plot the distribution of cooking fuel with custom styling\n",
    "cooking_fuel_counts = i_hh_energy['cooking_fuel'].value_counts(normalize=True) * 100\n",
    "sns.barplot(x=cooking_fuel_counts.index,\n",
    "            y=cooking_fuel_counts.values,\n",
    "            palette=custom_palette)\n",
    "\n",
    "# Customize chart title and labels\n",
    "plt.title('Distribution of Cooking Fuel', fontsize=15, color='navy')\n",
    "plt.xticks(rotation=45, fontsize=11, color='dimgray')\n",
    "plt.yticks(fontsize=11, color='dimgray')\n",
    "plt.xlabel('Cooking Fuel', fontsize=12, color='black')\n",
    "plt.ylabel('%age of Households', fontsize=12, color='black')\n",
    "\n",
    "# Remove top and right spines\n",
    "ax.spines['top'].set_visible(False)\n",
    "ax.spines['right'].set_visible(False)\n",
    "\n",
    "# Customize grid lines\n",
    "ax.yaxis.grid(True, linestyle='--', alpha=0.6, color='gray')\n",
    "\n",
    "# Customize tick parameters\n",
    "ax.tick_params(axis='x', which='both', bottom=False)\n",
    "\n",
    "# Annotate the bars with values (optional)\n",
    "for i, v in enumerate(cooking_fuel_counts.values):\n",
    "    plt.text(i, v, f'{v:.2f}%', fontsize=8, ha='center', va='bottom', color='black')\n",
    "\n",
    "plt.show()\n",
    "\n",
    "# Adjust the figure size and margins\n",
    "plt.gcf().subplots_adjust(left=0.1, right=0.9, bottom=0.3, top=0.9)\n",
    "plt.savefig('Distribution of Cooking Fuels.png', dpi = 300, format = 'png')"
   ],
   "metadata": {
    "collapsed": false,
    "ExecuteTime": {
     "end_time": "2023-09-12T05:54:26.091266Z",
     "start_time": "2023-09-12T05:54:25.741496Z"
    }
   }
  },
  {
   "cell_type": "code",
   "execution_count": 37,
   "outputs": [
    {
     "name": "stderr",
     "output_type": "stream",
     "text": [
      "<ipython-input-37-1bca32738508>:49: UserWarning: Matplotlib is currently using agg, which is a non-GUI backend, so cannot show the figure.\n",
      "  plt.show()\n"
     ]
    }
   ],
   "source": [
    "# Create a figure and axes with custom background color\n",
    "plt.figure(figsize=(8, 5))\n",
    "ax = plt.gca()\n",
    "ax.set_facecolor('#f0f0f0')  # Light grey background color\n",
    "\n",
    "sns.barplot(x=lighting_fuel_counts.index,\n",
    "            y=lighting_fuel_counts.values,\n",
    "            palette = custom_palette)\n",
    "\n",
    "# Customize chart title and labels\n",
    "plt.title('Distribution of Lighting Fuel', fontsize=15, color='navy')\n",
    "plt.xticks(rotation=45, fontsize=11, color='dimgray')\n",
    "plt.yticks(fontsize=11, color='dimgray')\n",
    "plt.xlabel('Lighting Fuel', fontsize=12, color='black')\n",
    "plt.ylabel('%age of Households', fontsize=12, color='black')\n",
    "\n",
    "# Remove top and right spines\n",
    "ax.spines['top'].set_visible(False)\n",
    "ax.spines['right'].set_visible(False)\n",
    "\n",
    "# Customize grid lines\n",
    "ax.yaxis.grid(True, linestyle='--', alpha=0.6, color='gray')\n",
    "\n",
    "# Customize tick parameters\n",
    "ax.tick_params(axis='x', which='both', bottom=False)\n",
    "\n",
    "# Annotate the bars with values (optional)\n",
    "for i, v in enumerate(lighting_fuel_counts.values):\n",
    "    plt.text(i, v, f'{v:.2f}%', fontsize=8, ha='center', va='bottom', color='black')\n",
    "\n",
    "plt.show()\n",
    "\n",
    "# Adjust the figure size and margins\n",
    "plt.gcf().subplots_adjust(left=0.1, right=0.9, bottom=0.3, top=0.9)\n",
    "plt.savefig('Distribution of Lighting Fuels.png', dpi = 300, format = 'png')"
   ],
   "metadata": {
    "collapsed": false,
    "ExecuteTime": {
     "end_time": "2023-09-12T05:56:05.469687Z",
     "start_time": "2023-09-12T05:56:05.115106Z"
    }
   }
  },
  {
   "cell_type": "code",
   "execution_count": 39,
   "outputs": [
    {
     "name": "stderr",
     "output_type": "stream",
     "text": [
      "<ipython-input-39-8aa598ba6191>:41: UserWarning: Matplotlib is currently using agg, which is a non-GUI backend, so cannot show the figure.\n",
      "  plt.show()\n"
     ]
    }
   ],
   "source": [
    "# Create a figure and axes with custom background color\n",
    "plt.figure(figsize=(8, 5))\n",
    "ax = plt.gca()\n",
    "ax.set_facecolor('#f0f0f0')  # Light grey background color\n",
    "\n",
    "sns.barplot(x=electricity_source_counts.index,\n",
    "            y=electricity_source_counts.values,\n",
    "            palette = custom_palette)\n",
    "\n",
    "# Customize chart title and labels\n",
    "plt.title('Distribution of Electricity Sources', fontsize=15, color='navy')\n",
    "plt.xticks(rotation=45, fontsize=11, color='dimgray')\n",
    "plt.yticks(fontsize=11, color='dimgray')\n",
    "plt.xlabel('Electricity Source', fontsize=12, color='black')\n",
    "plt.ylabel('%age of Households', fontsize=12, color='black')\n",
    "\n",
    "# Remove top and right spines\n",
    "ax.spines['top'].set_visible(False)\n",
    "ax.spines['right'].set_visible(False)\n",
    "\n",
    "# Customize grid lines\n",
    "ax.yaxis.grid(True, linestyle='--', alpha=0.6, color='gray')\n",
    "\n",
    "# Customize tick parameters\n",
    "ax.tick_params(axis='x', which='both', bottom=False)\n",
    "\n",
    "# Annotate the bars with values (optional)\n",
    "for i, v in enumerate(electricity_source_counts.values):\n",
    "    plt.text(i, v, f'{v:.2f}%', fontsize=8, ha='center', va='bottom', color='black')\n",
    "\n",
    "plt.show()\n",
    "\n",
    "# Adjust the figure size and margins\n",
    "plt.gcf().subplots_adjust(left=0.1, right=0.9, bottom=0.3, top=0.9)\n",
    "plt.savefig('Distribution of Electricity Sources.png', dpi = 300, format = 'png')"
   ],
   "metadata": {
    "collapsed": false,
    "ExecuteTime": {
     "end_time": "2023-09-12T06:01:16.295661Z",
     "start_time": "2023-09-12T06:01:15.979564Z"
    }
   }
  },
  {
   "cell_type": "code",
   "execution_count": null,
   "outputs": [],
   "source": [
    "sns.set()\n",
    "plt.figure(figsize=(10, 5))\n",
    "sns.countplot(data=i_hh_energy[i_hh_energy['electricity_source'] == 'Solar Panels'], x='cooking_fuel')\n",
    "plt.title('Cooking Fuel for Solar Panel Households')\n",
    "plt.xlabel('Cooking Fuel')\n",
    "plt.ylabel('Count')\n",
    "plt.xticks(rotation=45)\n",
    "plt.show()"
   ],
   "metadata": {
    "collapsed": false
   }
  },
  {
   "cell_type": "code",
   "execution_count": null,
   "outputs": [],
   "source": [
    "crosstab = pd.crosstab(i_hh_energy['cooking_fuel'], i_hh_energy['lighting_fuel'])\n",
    "\n",
    "# Create a heatmap to visualize relationships\n",
    "plt.figure(figsize=(10, 6))\n",
    "sns.heatmap(crosstab, annot=True, fmt = 'd', cmap='YlGnBu')\n",
    "plt.title('Heatmap of Cooking Fuel vs. Lighting Fuel')\n",
    "plt.xlabel('Lighting Fuel')\n",
    "plt.ylabel('Cooking Fuel')\n",
    "plt.show()"
   ],
   "metadata": {
    "collapsed": false
   }
  },
  {
   "cell_type": "code",
   "execution_count": 41,
   "outputs": [
    {
     "name": "stderr",
     "output_type": "stream",
     "text": [
      "<ipython-input-41-4e6c314cfb7c>:23: UserWarning: Matplotlib is currently using agg, which is a non-GUI backend, so cannot show the figure.\n",
      "  plt.show()\n"
     ]
    }
   ],
   "source": [
    "import pandas as pd\n",
    "import matplotlib.pyplot as plt\n",
    "import seaborn as sns\n",
    "\n",
    "# Set the custom style and context for Seaborn\n",
    "sns.set(style='whitegrid', palette='Set2', font_scale=1.2)\n",
    "\n",
    "######\n",
    "\n",
    "# Create a crosstab\n",
    "crosstab = pd.crosstab(i_hh_energy['cooking_fuel'], i_hh_energy['lighting_fuel'])\n",
    "\n",
    "# Create a heatmap to visualize relationships\n",
    "plt.figure(figsize=(10, 6))\n",
    "sns.heatmap(crosstab, annot=True, fmt='d', cmap='YlGnBu')\n",
    "\n",
    "# Customize chart title and labels\n",
    "plt.title('Heatmap of Cooking Fuel vs. Lighting Fuel', fontsize=16, fontweight='bold', color='navy')\n",
    "plt.xlabel('Lighting Fuel', fontsize=14, fontweight='bold', color='dimgray')\n",
    "plt.ylabel('Cooking Fuel', fontsize=14, fontweight='bold', color='dimgray')\n",
    "\n",
    "# Show the chart\n",
    "plt.show()\n",
    "\n",
    "# Adjust the figure size and margins\n",
    "plt.gcf().subplots_adjust(left=0.1, right=0.9, bottom=0.3, top=0.9)\n",
    "plt.savefig('cooking fuels vs lighting fuels.png', dpi = 300, format = 'png')\n"
   ],
   "metadata": {
    "collapsed": false,
    "ExecuteTime": {
     "end_time": "2023-09-12T06:10:49.855486Z",
     "start_time": "2023-09-12T06:10:48.834949Z"
    }
   }
  },
  {
   "cell_type": "code",
   "execution_count": null,
   "outputs": [],
   "source": [],
   "metadata": {
    "collapsed": false
   }
  },
  {
   "cell_type": "code",
   "execution_count": null,
   "outputs": [],
   "source": [],
   "metadata": {
    "collapsed": false
   }
  },
  {
   "cell_type": "code",
   "execution_count": null,
   "outputs": [],
   "source": [],
   "metadata": {
    "collapsed": false
   }
  },
  {
   "cell_type": "code",
   "execution_count": null,
   "outputs": [],
   "source": [
    "columns_of_interest = ['cooking_fuel', 'cooking_stove', 'lighting_fuel']\n",
    "fig, axes = plt.subplots(1, len(columns_of_interest), figsize=(15, 5))\n",
    "\n",
    "for i, col in enumerate(columns_of_interest):\n",
    "    sns.countplot(data=i_hh_energy[i_hh_energy['electricity_source'] == 'Solar Panels'], x=col, ax=axes[i])\n",
    "    axes[i].set_title(f'{col} for Solar Panel Households')\n",
    "    axes[i].set_xlabel(col)\n",
    "    axes[i].set_ylabel('Count')\n",
    "    axes[i].tick_params(axis='x', rotation=45)\n",
    "\n",
    "plt.tight_layout()\n",
    "plt.show()"
   ],
   "metadata": {
    "collapsed": false
   }
  },
  {
   "cell_type": "code",
   "execution_count": null,
   "outputs": [],
   "source": [
    "i_hh_energy['lighting_fuel'].value_counts()"
   ],
   "metadata": {
    "collapsed": false
   }
  },
  {
   "cell_type": "code",
   "execution_count": null,
   "outputs": [],
   "source": [
    "filtered_df = i_hh_energy[~((i_hh_energy['lighting_fuel'] == 'Electricity') | (i_hh_energy['lighting_fuel'] == 'Solar'))]\n",
    "filtered_df"
   ],
   "metadata": {
    "collapsed": false
   }
  },
  {
   "cell_type": "code",
   "execution_count": null,
   "outputs": [],
   "source": [
    "combination_counts = i_hh_energy.groupby(['electricity_source', 'lighting_fuel']).size().reset_index(name='count')\n",
    "# print(combination_counts)"
   ],
   "metadata": {
    "collapsed": false
   }
  },
  {
   "cell_type": "code",
   "execution_count": null,
   "outputs": [],
   "source": [
    "crosstab = pd.crosstab(i_hh_energy['electricity_source'],\n",
    "                       i_hh_energy['lighting_fuel'])\n",
    "\n",
    "# Create a heatmap to visualize relationships\n",
    "plt.figure(figsize=(10, 6))\n",
    "sns.heatmap(crosstab, annot=True, fmt = 'd', cmap='YlGnBu')\n",
    "plt.title('Heatmap of Electricity Source vs. Lighting Fuel')\n",
    "plt.xlabel('Lighting Fuel')\n",
    "plt.ylabel('Electricity Source')\n",
    "plt.show()"
   ],
   "metadata": {
    "collapsed": false
   }
  },
  {
   "cell_type": "code",
   "execution_count": null,
   "outputs": [],
   "source": [
    "# Create the cross-tabulation table\n",
    "crosstab = pd.crosstab(i_hh_energy['electricity_source'], i_hh_energy['lighting_fuel'])\n",
    "\n",
    "# Calculate the total count of all observations\n",
    "total_count = crosstab.values.sum()\n",
    "\n",
    "# Calculate the percentages by dividing each cell by the total count\n",
    "percentage_crosstab = (crosstab / total_count) * 100\n",
    "\n",
    "# Create a heatmap to visualize relationships using percentages\n",
    "plt.figure(figsize=(10, 6))\n",
    "sns.heatmap(percentage_crosstab, annot=True, fmt=\".2f\", cmap='YlGnBu')\n",
    "plt.title('Mode of lighting vs electricity source (%age of households)')\n",
    "plt.xlabel('Mode of lighting')\n",
    "plt.ylabel('Electricity Source')\n",
    "plt.show()"
   ],
   "metadata": {
    "collapsed": false
   }
  },
  {
   "cell_type": "code",
   "execution_count": null,
   "outputs": [],
   "source": [
    "consumption_data = data_dict['consumption_real_y5']\n",
    "consumption_data = consumption_data[['y5_hhid','urban','region','district','hhsize','nf_clothing', 'nf_utilities', 'nf_hhexpenses', 'nf_transport', 'nf_communic', 'nf_recreat', 'nf_other', 'dur_exp', 'rent_exp', 'foodIN', 'foodOUT', 'educa', 'health']]"
   ],
   "metadata": {
    "collapsed": false
   }
  },
  {
   "cell_type": "code",
   "execution_count": null,
   "outputs": [],
   "source": [
    "consumption_data.iloc[:, 5:] = consumption_data.iloc[:, 5:] * fx\n",
    "# consumption_data"
   ],
   "metadata": {
    "collapsed": false
   }
  },
  {
   "cell_type": "code",
   "execution_count": null,
   "outputs": [],
   "source": [
    "# Let's visualise the consumption of the households\n",
    "plt.figure(figsize=(12, 10))\n",
    "plt.boxplot(consumption_data.iloc[:, 5:].values,\n",
    "            labels = consumption_data.iloc[:, 5:].columns,\n",
    "            vert=False,\n",
    "            showfliers = False)\n",
    "plt.xticks(range(0, 2500, 200))\n",
    "plt.title('28-day Household Consumption ($)')\n",
    "plt.xlabel('Consumption Value in ($)')\n",
    "plt.ylabel('Type of Consumption')\n",
    "plt.show()\n",
    "\n",
    "plt.savefig('hh_consumption.png', dpi = 300, format = 'png')"
   ],
   "metadata": {
    "collapsed": false
   }
  },
  {
   "cell_type": "code",
   "execution_count": null,
   "outputs": [],
   "source": [
    "consumption_data_w_energy = consumption_data.merge(i_hh_energy, how = 'left', on = 'y5_hhid')"
   ],
   "metadata": {
    "collapsed": false
   }
  },
  {
   "cell_type": "code",
   "execution_count": null,
   "outputs": [],
   "source": [
    "consumption_data_w_energy['region'].value_counts()"
   ],
   "metadata": {
    "collapsed": false
   }
  },
  {
   "cell_type": "code",
   "execution_count": null,
   "outputs": [],
   "source": [
    "# compute the total number of households\n",
    "avg_hh_size = consumption_data_w_energy['hhsize'].mean()\n",
    "total_hhs = total_population / avg_hh_size\n",
    "total_hhs"
   ],
   "metadata": {
    "collapsed": false
   }
  },
  {
   "cell_type": "code",
   "execution_count": null,
   "outputs": [],
   "source": [
    "consumption_data_w_energy"
   ],
   "metadata": {
    "collapsed": false
   }
  },
  {
   "cell_type": "code",
   "execution_count": null,
   "outputs": [],
   "source": [],
   "metadata": {
    "collapsed": false
   }
  },
  {
   "cell_type": "code",
   "execution_count": null,
   "outputs": [],
   "source": [],
   "metadata": {
    "collapsed": false
   }
  },
  {
   "cell_type": "code",
   "execution_count": null,
   "outputs": [],
   "source": [
    "gdf['Region_Cod'] = gdf['Region_Cod'].astype(int)\n",
    "consumption_data_w_energy = consumption_data_w_energy.merge(gdf, how = 'left', left_on = 'region', right_on = 'Region_Cod')\n",
    "# Create a deo\n",
    "geo_df = gpd.GeoDataFrame(consumption_data_w_energy, geometry='geometry')"
   ],
   "metadata": {
    "collapsed": false
   }
  },
  {
   "cell_type": "code",
   "execution_count": null,
   "outputs": [],
   "source": [
    "consumption_data_w_energy['electricity_source'].value_counts()"
   ],
   "metadata": {
    "collapsed": false
   }
  },
  {
   "cell_type": "code",
   "execution_count": null,
   "outputs": [],
   "source": [
    "# Group by Region_Name and calculate the percentage of households with \"no-electricity\"\n",
    "percentage_data = consumption_data_w_energy.groupby('Region_Nam')['electricity_source'].apply(lambda x: (x == 'no-electricity').mean() * 100)\n",
    "percentage_data"
   ],
   "metadata": {
    "collapsed": false
   }
  },
  {
   "cell_type": "code",
   "execution_count": null,
   "outputs": [],
   "source": [
    "gdf"
   ],
   "metadata": {
    "collapsed": false
   }
  },
  {
   "cell_type": "code",
   "execution_count": null,
   "outputs": [],
   "source": [
    "# Merge the percentage data with a GeoDataFrame containing region geometries\n",
    "merged_gdf = gdf.merge(percentage_data, left_on='Region_Nam', right_index=True)\n",
    "\n",
    "# Create the choropleth map\n",
    "fig, ax = plt.subplots(1, 1, figsize=(20,10))\n",
    "merged_gdf.plot(column='electricity_source', cmap='YlGn', linewidth=0.8, ax=ax, legend=True)\n",
    "\n",
    "main_title = 'Households with no Electricity Access'\n",
    "subtitle = 'Households with no access to the Tanesco grid, solar panels, community generators or motor batteries'\n",
    "ax.set_title(main_title, fontsize=16)\n",
    "plt.text(0.5, -0.1, subtitle, transform=ax.transAxes, ha='center', fontsize=12, color='gray')\n",
    "plt.axis('off')  # Turn off axis\n",
    "\n",
    "# Annotate each region with the name and value\n",
    "for idx, row in merged_gdf.iterrows():\n",
    "    region_name = row['Region_Nam']\n",
    "    percentage = row['electricity_source']\n",
    "    centroid_x, centroid_y = row['geometry'].centroid.x, row['geometry'].centroid.y\n",
    "\n",
    "    # Determine the background color and set text color accordingly\n",
    "    background_color = 'white' if percentage > 45 else 'black'\n",
    "\n",
    "    # Annotate the region name with the determined text color\n",
    "    plt.annotate(region_name, xy=(centroid_x, centroid_y), xytext=(0, -20),\n",
    "                 textcoords='offset points', fontsize=12, color=background_color, ha='center', weight = 'bold')\n",
    "\n",
    "    # Annotate the percentage below the region name\n",
    "    plt.annotate(f\"{percentage:.2f}%\", xy=(centroid_x, centroid_y), xytext=(0, 5),\n",
    "                 textcoords='offset points', fontsize=12, color = background_color, ha='center', weight = 'bold')\n",
    "\n",
    "plt.show()\n",
    "plt.savefig('tz_no_electricity_access.jpeg', dpi = 300, bbox_inches = 'tight')"
   ],
   "metadata": {
    "collapsed": false
   }
  },
  {
   "cell_type": "markdown",
   "source": [
    "#### Earnings DATA"
   ],
   "metadata": {
    "collapsed": false
   }
  },
  {
   "cell_type": "code",
   "execution_count": null,
   "outputs": [],
   "source": [
    "data_dict['hh_sec_e1']#['hh_e35b'].value_counts()"
   ],
   "metadata": {
    "collapsed": false
   }
  },
  {
   "cell_type": "code",
   "execution_count": null,
   "outputs": [],
   "source": [
    "time_unit_wages = { 1:'Hour',\n",
    "                    2:'Day',\n",
    "                    3:'Week',\n",
    "                    4:'Fortnight',\n",
    "                    5:'Month',\n",
    "                    6:'Quarter',\n",
    "                    7:'Half Year',\n",
    "                    8:'Year'}"
   ],
   "metadata": {
    "collapsed": false
   }
  },
  {
   "cell_type": "code",
   "execution_count": null,
   "outputs": [],
   "source": [
    "# individual-level data on earnings/labour\n",
    "hh_income = data_dict['hh_sec_e1'][['y5_hhid','indidy5','hh_e35a','hh_e35b','hh_e36','hh_e37a','hh_e37b','hh_e38','hh_e39','hh_e41','hh_e51a','hh_e51b','hh_e52','hh_e53a','hh_e53b','hh_e54' ]]"
   ],
   "metadata": {
    "collapsed": false
   }
  },
  {
   "cell_type": "code",
   "execution_count": null,
   "outputs": [],
   "source": [],
   "metadata": {
    "collapsed": false
   }
  },
  {
   "cell_type": "code",
   "execution_count": null,
   "outputs": [],
   "source": [
    "hh_income = hh_income.rename(columns = {    'hh_e35a':'pri_pay_amt',\n",
    "                                            'hh_e35b':'pri_pay_period',\n",
    "                                            'hh_e36':'pri_pay_nc',\n",
    "                                            'hh_e37a':'pri_pay_nc_amt',\n",
    "                                            'hh_e37b':'pri_pay_nc_period',\n",
    "                                            'hh_e38':'months_per_yr',\n",
    "                                            'hh_e39':'wks_per_month',\n",
    "                                            'hh_e40':'hrs_per_wk',\n",
    "                                            'hh_e41':'hrs_l7d',\n",
    "                                            'hh_e51a':'sec_pay_amt',\n",
    "                                            'hh_e51b':'sec_pay_period',\n",
    "                                            'hh_e52':'sec_pay_nc',\n",
    "                                            'hh_e53a':'sec_pay_nc_amt',\n",
    "                                            'hh_e53b':'sec_pay_nc_period',\n",
    "                                            'hh_e54':'hrs_l7d'})"
   ],
   "metadata": {
    "collapsed": false
   }
  },
  {
   "cell_type": "code",
   "execution_count": null,
   "outputs": [],
   "source": [
    "hh_income = hh_income.fillna(1)"
   ],
   "metadata": {
    "collapsed": false
   }
  },
  {
   "cell_type": "code",
   "execution_count": null,
   "outputs": [],
   "source": [
    "hh_income['pri_pay_period'].value_counts()"
   ],
   "metadata": {
    "collapsed": false
   }
  },
  {
   "cell_type": "code",
   "execution_count": null,
   "outputs": [],
   "source": [
    "# Create Choropleth Map\n",
    "# fig, ax = plt.subplots(1, 1, figsize=(10, 6))\n",
    "# gdf.plot(column='Value', cmap='YlGn', linewidth=0.8, ax=ax, edgecolor='0.8', legend=True)\n",
    "# ax.set_title('Choropleth Map')\n",
    "# plt.axis('off')  # Turn off axis\n",
    "# plt.show()"
   ],
   "metadata": {
    "collapsed": false
   }
  },
  {
   "cell_type": "code",
   "execution_count": null,
   "outputs": [],
   "source": [],
   "metadata": {
    "collapsed": false
   }
  },
  {
   "cell_type": "code",
   "execution_count": null,
   "outputs": [],
   "source": [],
   "metadata": {
    "collapsed": false
   }
  },
  {
   "cell_type": "code",
   "execution_count": null,
   "outputs": [],
   "source": [],
   "metadata": {
    "collapsed": false
   }
  },
  {
   "cell_type": "code",
   "execution_count": null,
   "outputs": [],
   "source": [],
   "metadata": {
    "collapsed": false
   }
  },
  {
   "cell_type": "code",
   "execution_count": null,
   "outputs": [],
   "source": [],
   "metadata": {
    "collapsed": false
   }
  },
  {
   "cell_type": "code",
   "execution_count": null,
   "outputs": [],
   "source": [],
   "metadata": {
    "collapsed": false
   }
  },
  {
   "cell_type": "code",
   "execution_count": null,
   "outputs": [],
   "source": [],
   "metadata": {
    "collapsed": false
   }
  },
  {
   "cell_type": "code",
   "execution_count": null,
   "outputs": [],
   "source": [],
   "metadata": {
    "collapsed": false
   }
  },
  {
   "cell_type": "code",
   "execution_count": null,
   "outputs": [],
   "source": [],
   "metadata": {
    "collapsed": false
   }
  },
  {
   "cell_type": "code",
   "execution_count": null,
   "outputs": [],
   "source": [],
   "metadata": {
    "collapsed": false
   }
  },
  {
   "cell_type": "code",
   "execution_count": null,
   "outputs": [],
   "source": [],
   "metadata": {
    "collapsed": false
   }
  },
  {
   "cell_type": "code",
   "execution_count": null,
   "outputs": [],
   "source": [],
   "metadata": {
    "collapsed": false
   }
  },
  {
   "cell_type": "code",
   "execution_count": null,
   "outputs": [],
   "source": [
    "# Dictionary mapping pri_pay_period to multiplier_pri_a\n",
    "# Assumption: daily labourers work for 25 days\n",
    "# multiplier_mapping = {\n",
    "#     1: lambda row: row['wks_per_month'] * row['hrs_l7d'] * row['wks'],\n",
    "#     2: 28,\n",
    "#     3: lambda row: row['wks_per_month'],\n",
    "#     4: 2,\n",
    "#     5: 1,\n",
    "#     6: 1 / 3,\n",
    "#     7: 1 / 6,\n",
    "#     8: 1 / 12\n",
    "# }\n",
    "#\n",
    "# # Function to calculate multiplier_pri_a based on pri_pay_period\n",
    "# def calculate_multiplier(row):\n",
    "#     return multiplier_mapping.get(row['pri_pay_period'], 0)\n",
    "\n",
    "\n",
    "#def calculate_multiplier(row, pay_period_column):\n",
    "#    return multiplier_mapping.get(row[pay_period_column], 0)"
   ],
   "metadata": {
    "collapsed": false
   }
  },
  {
   "cell_type": "code",
   "execution_count": null,
   "outputs": [],
   "source": [],
   "metadata": {
    "collapsed": false
   }
  },
  {
   "cell_type": "code",
   "execution_count": null,
   "outputs": [],
   "source": [
    "# hh_income['multi_col_a'] = hh_income['wks_per_month'] * hh_income['hrs_l7d']\n",
    "\n",
    "\n",
    "# cash income\n",
    "# hh_income['multiplier_pri_a'] = hh_income.apply(calculate_multiplier, axis=1)\n",
    "# hh_income['multiplier_pri_a'] = hh_income.apply(calculate_multiplier, axis=1)\n",
    "# hh_income ['monthly_cash_pri'] = hh_income['multiplier_pri_a'] * hh_income['pri_pay_amt']\n",
    "\n",
    "\n",
    "#hh_income[['pri_pay_amt']] * hh_income[['multiplier_pri_a']]"
   ],
   "metadata": {
    "collapsed": false
   }
  },
  {
   "cell_type": "markdown",
   "source": [
    "#### Energy Expenditure"
   ],
   "metadata": {
    "collapsed": false
   }
  },
  {
   "cell_type": "code",
   "execution_count": null,
   "outputs": [],
   "source": [
    "energy_specific_exp = data_dict['hh_sec_k']"
   ],
   "metadata": {
    "collapsed": false
   }
  },
  {
   "cell_type": "code",
   "execution_count": null,
   "outputs": [],
   "source": [
    "energy_specific_exp"
   ],
   "metadata": {
    "collapsed": false
   }
  },
  {
   "cell_type": "code",
   "execution_count": null,
   "outputs": [],
   "source": [
    "expenditure_items = {   201:'Kerosene',\n",
    "                        202:'Electricity, including electricity vouchers',\n",
    "                        203:'Gas (for lighting/cooking)',\n",
    "                        205:'Petrol or diesel',\n",
    "                        206:'Cell phone voucher',\n",
    "                        207:'charcoal',\n",
    "                        216:'Light bulbs',\n",
    "                        414:'Lanterns',\n",
    "                        419:'Electric/gas stove',\n",
    "                        420:'Other stove',\n",
    "                        421:'Water-heater'}"
   ],
   "metadata": {
    "collapsed": false
   }
  },
  {
   "cell_type": "code",
   "execution_count": null,
   "outputs": [],
   "source": [],
   "metadata": {
    "collapsed": false
   }
  },
  {
   "cell_type": "markdown",
   "source": [
    "Pick up from Section N of the questionnaire after adding expenditure_items (items and amounts) from hh_sec_k and and income data (hh_sec_e1) to the dataframe cons_data"
   ],
   "metadata": {
    "collapsed": false
   }
  },
  {
   "cell_type": "code",
   "execution_count": null,
   "outputs": [],
   "source": [
    "energy_specific_exp['energy_item'] = energy_specific_exp['itemcode'].map(expenditure_items).fillna('not_energy')"
   ],
   "metadata": {
    "collapsed": false
   }
  },
  {
   "cell_type": "code",
   "execution_count": null,
   "outputs": [],
   "source": [
    "energy_specific_exp = energy_specific_exp[energy_specific_exp['hh_k01'] == 1.0].fillna(0)"
   ],
   "metadata": {
    "collapsed": false
   }
  },
  {
   "cell_type": "code",
   "execution_count": null,
   "outputs": [],
   "source": [
    "energy_specific_exp"
   ],
   "metadata": {
    "collapsed": false
   }
  },
  {
   "cell_type": "code",
   "execution_count": null,
   "outputs": [],
   "source": [
    "pivot_table = pd.pivot_table(energy_specific_exp, values='hh_k02', index='y5_hhid', columns='energy_item', aggfunc='sum', fill_value=0)\n",
    "\n",
    "# Add a column for total household expenditure\n",
    "pivot_table['total_expenditure'] = pivot_table.sum(axis=1)\n",
    "\n",
    "# Print the pivot table\n",
    "pivot_table"
   ],
   "metadata": {
    "collapsed": false
   }
  },
  {
   "cell_type": "code",
   "execution_count": null,
   "outputs": [],
   "source": [],
   "metadata": {
    "collapsed": false
   }
  }
 ],
 "metadata": {
  "kernelspec": {
   "display_name": "Python 3",
   "language": "python",
   "name": "python3"
  },
  "language_info": {
   "codemirror_mode": {
    "name": "ipython",
    "version": 3
   },
   "file_extension": ".py",
   "mimetype": "text/x-python",
   "name": "python",
   "nbconvert_exporter": "python",
   "pygments_lexer": "ipython3",
   "version": "3.8.8"
  }
 },
 "nbformat": 4,
 "nbformat_minor": 5
}
