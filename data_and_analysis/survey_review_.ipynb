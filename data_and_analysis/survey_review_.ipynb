{
 "cells": [
  {
   "cell_type": "markdown",
   "id": "037ae04a",
   "metadata": {},
   "source": [
    "## Energy Market in Tanzania: Market Entry Considerations"
   ]
  },
  {
   "cell_type": "code",
   "execution_count": null,
   "id": "0cc84b8c",
   "metadata": {
    "ExecuteTime": {
     "end_time": "2023-09-13T21:37:45.842499Z",
     "start_time": "2023-09-13T21:37:45.840049Z"
    }
   },
   "outputs": [],
   "source": []
  },
  {
   "cell_type": "code",
   "execution_count": 1,
   "id": "4772068b",
   "metadata": {
    "ExecuteTime": {
     "end_time": "2023-09-13T21:37:46.104808Z",
     "start_time": "2023-09-13T21:37:45.848446Z"
    }
   },
   "outputs": [],
   "source": [
    "# import necessary libraries\n",
    "import os\n",
    "import pandas as pd\n",
    "import numpy as np\n",
    "import seaborn as sns\n",
    "import geopandas as gpd\n",
    "import matplotlib\n",
    "import matplotlib.pyplot as plt\n",
    "plt.rcParams[\"font.family\"] = \"Avenir\"\n",
    "matplotlib.use('agg')"
   ]
  },
  {
   "cell_type": "code",
   "execution_count": 2,
   "outputs": [],
   "source": [
    "# Define a fn to plot a heatmap\n",
    "# def heatmap_plotter(df = i_hh_energy,\n",
    "#                     col_name_1='cooking_fuel',\n",
    "#                     col_name_2='lighting_fuel',\n",
    "#                     plot_title='Relationship of cooking and lighting fuel use',\n",
    "#                     xlab='Lighting Fuel',\n",
    "#                     ylab='Cooking Fuel',\n",
    "#                     fig_name='hmp_cooking_and_lighting_fuel_use',\n",
    "#                     figure_height=8):  # Adjust the figure height as needed\n",
    "\n",
    "def heatmap_plotter(df,\n",
    "                    col_name_1,\n",
    "                    col_name_2,\n",
    "                    plot_title,\n",
    "                    xlab,\n",
    "                    ylab,\n",
    "                    fig_name):\n",
    "\n",
    "    # Create a crosstab\n",
    "    crosstab = pd.crosstab(df[col_name_1], df[col_name_2])\n",
    "\n",
    "    # Calculate the total count of all observations\n",
    "    total_count = crosstab.values.sum()\n",
    "\n",
    "    # Calculate the percentages by dividing each cell by the total count\n",
    "    percentage_crosstab = (crosstab / total_count) * 100\n",
    "\n",
    "    # Create a figure with the specified height\n",
    "    plt.figure(figsize=(8, 6))  # Adjust figure width and height as needed\n",
    "    ax = plt.gca()\n",
    "\n",
    "    # Customize chart title and labels\n",
    "    plt.title(plot_title, fontsize=15, fontweight='bold', color='navy')\n",
    "\n",
    "    # Create a heatmap to visualize relationships with custom styling\n",
    "    sns.heatmap(percentage_crosstab, annot=True, fmt='.1f', cmap='YlGnBu', ax=ax, annot_kws={\"size\": 12})\n",
    "\n",
    "    # Customize tick parameters\n",
    "    ax.tick_params(axis='x', which='both', labelrotation=45, labelsize=11)\n",
    "    ax.tick_params(axis='y', labelsize=11)\n",
    "\n",
    "    # Remove top and right spines\n",
    "    ax.spines['top'].set_visible(False)\n",
    "    ax.spines['right'].set_visible(False)\n",
    "\n",
    "    # Customize grid lines\n",
    "    ax.yaxis.grid(True, linestyle='--', alpha=0.6, color='gray')\n",
    "\n",
    "    # Set x-axis and y-axis labels\n",
    "    ax.set_xlabel(xlab, fontsize=14, fontweight='bold', color='dimgray')\n",
    "    ax.set_ylabel(ylab, fontsize=14, fontweight='bold', color='dimgray')\n",
    "\n",
    "    # Set x-axis and y-axis tick labels\n",
    "    ax.set_xticklabels(ax.get_xticklabels(), fontsize=11, fontweight='bold', color='dimgray')\n",
    "    ax.set_yticklabels(ax.get_yticklabels(), fontsize=11, fontweight='bold', color='dimgray')\n",
    "\n",
    "    # Manually adjust the figure size and margins\n",
    "    plt.subplots_adjust(left=0.15, right=0.95, bottom=0.15, top=0.95)\n",
    "\n",
    "    # Show the chart\n",
    "    plt.show()\n",
    "\n",
    "    # Save in outputs folder:\n",
    "    # output_path = os.path.join(output_directory, f'{fig_name}.png')\n",
    "    # plt.savefig(output_path, dpi=300, format='png')\n",
    "\n",
    "    # Get the current working directory\n",
    "    current_directory = os.getcwd()\n",
    "    # Save the figure in the 'outputs' sub-folder\n",
    "    output_path = current_directory.replace('data_and_analysis','reports_and_outputs') + fig_name +'.png'\n",
    "    plt.savefig(output_path, dpi=300, format='png')"
   ],
   "metadata": {
    "collapsed": false,
    "ExecuteTime": {
     "end_time": "2023-09-13T21:37:46.116177Z",
     "start_time": "2023-09-13T21:37:46.113538Z"
    }
   }
  },
  {
   "cell_type": "code",
   "execution_count": 3,
   "outputs": [],
   "source": [
    "# Define a bar_plotter function\n",
    "# def bar_plotter(df = i_hh_energy,\n",
    "#                 column_name = 'cooking_fuel',\n",
    "#                 plot_title = 'Types of Cooking fuel used across households',\n",
    "#                 xlab = 'Cooking Fuel',\n",
    "#                 ylab = '%age of Households',\n",
    "#                 fig_name = 'Distribution of Cooking Fuels'):\n",
    "\n",
    "def bar_plotter(df,\n",
    "                column_name,\n",
    "                plot_title,\n",
    "                xlab,\n",
    "                ylab,\n",
    "                fig_name):\n",
    "\n",
    "    \"\"\"This funtion plots barplots given 1 dataframe column\n",
    "        Defaults are set for the Plot of review of cooking fuels\"\"\"\n",
    "    # Set a custom color palette\n",
    "    custom_palette = sns.color_palette(\"Set2\")\n",
    "\n",
    "    # Create a figure and axes with custom background color\n",
    "    plt.figure(figsize=(8, 5))\n",
    "    ax = plt.gca()\n",
    "    ax.set_facecolor('#f0f0f0')  # Light grey background color\n",
    "\n",
    "    # Plot the distribution of cooking fuel with custom styling\n",
    "    item_counts = df[column_name].value_counts(normalize = True) * 100\n",
    "\n",
    "    sns.barplot(x = item_counts.index,\n",
    "                y = item_counts.values,\n",
    "                palette = custom_palette)\n",
    "\n",
    "\n",
    "    # Customize chart title and labels\n",
    "    plt.title(plot_title, fontsize=15, color='navy')\n",
    "    plt.xticks(rotation=45, fontsize=11, color='dimgray')\n",
    "    plt.yticks(fontsize=11, color='dimgray')\n",
    "    plt.xlabel(xlab, fontsize=12, color='black')\n",
    "    plt.ylabel(ylab, fontsize=12, color='black')\n",
    "\n",
    "    # Remove top and right spines\n",
    "    ax.spines['top'].set_visible(False)\n",
    "    ax.spines['right'].set_visible(False)\n",
    "\n",
    "    # Customize grid lines\n",
    "    ax.yaxis.grid(True, linestyle='--', alpha=0.6, color='gray')\n",
    "\n",
    "    # Customize tick parameters\n",
    "    ax.tick_params(axis='x', which='both', bottom=False)\n",
    "\n",
    "    # Annotate the bars with values (optional)\n",
    "    for i, v in enumerate(item_counts.values):\n",
    "        plt.text(i, v, f'{v:.2f}%', fontsize=12, ha='center', va='bottom', color='black')\n",
    "\n",
    "    plt.show()\n",
    "\n",
    "    # Adjust the figure size and margins\n",
    "    plt.gcf().subplots_adjust(left=0.1, right=0.9, bottom=0.3, top=0.9)\n",
    "    # output_string = fig_name + '.png'\n",
    "    # plt.savefig(output_string, dpi = 300, format = 'png')\n",
    "    current_directory = os.getcwd()\n",
    "    # Save the figure in the 'outputs' sub-folder\n",
    "    output_path = current_directory.replace('data_and_analysis','reports_and_outputs') + fig_name +'.png'\n",
    "    plt.savefig(output_path, dpi=300, format='png')"
   ],
   "metadata": {
    "collapsed": false,
    "ExecuteTime": {
     "end_time": "2023-09-13T21:37:46.128245Z",
     "start_time": "2023-09-13T21:37:46.117117Z"
    }
   }
  },
  {
   "cell_type": "code",
   "execution_count": 4,
   "outputs": [],
   "source": [
    "def chloro_plotter(map_df,\n",
    "                   main_title,\n",
    "                   subtitle,\n",
    "                   fig_name):\n",
    "    ## Visualisation\n",
    "    # Merge the percentage data with a GeoDataFrame containing region geometries\n",
    "    merged_gdf = gdf.merge(map_df, left_on='Region_Nam', right_index=True)\n",
    "\n",
    "    # Create the choropleth map\n",
    "    fig, ax = plt.subplots(1, 1, figsize=(20,10))\n",
    "    merged_gdf.plot(column='electricity_source', cmap='YlGn', linewidth=0.8, ax=ax, legend=True)\n",
    "\n",
    "    #main_title = 'Households with no Electricity Access'\n",
    "    #subtitle = 'Households with no access to the Tanesco grid, solar panels, community generators or motor batteries'\n",
    "    ax.set_title(main_title, fontsize=16)\n",
    "    plt.text(0.5, -0.1, subtitle, transform=ax.transAxes, ha='center', fontsize=12, color='gray')\n",
    "    plt.axis('off')  # Turn off axis\n",
    "\n",
    "    # Annotate each region with the name and value\n",
    "    for idx, row in merged_gdf.iterrows():\n",
    "        region_name = row['Region_Nam']\n",
    "        percentage = row['electricity_source']\n",
    "        centroid_x, centroid_y = row['geometry'].centroid.x, row['geometry'].centroid.y\n",
    "\n",
    "        # Determine the background color and set text color accordingly\n",
    "        background_color = 'white' if percentage > 45 else 'black'\n",
    "\n",
    "        # Annotate the region name with the determined text color\n",
    "        plt.annotate(region_name, xy=(centroid_x, centroid_y), xytext=(0, -20),\n",
    "                     textcoords='offset points', fontsize=12, color=background_color, ha='center', weight = 'bold')\n",
    "\n",
    "        # Annotate the percentage below the region name\n",
    "        plt.annotate(f\"{percentage:.2f}%\", xy=(centroid_x, centroid_y), xytext=(0, 5),\n",
    "                     textcoords='offset points', fontsize=12, color = background_color, ha='center', weight = 'bold')\n",
    "\n",
    "    plt.show()\n",
    "    plt.savefig( fig_name+'.png', dpi = 300, bbox_inches = 'tight')"
   ],
   "metadata": {
    "collapsed": false,
    "ExecuteTime": {
     "end_time": "2023-09-13T21:37:46.168337Z",
     "start_time": "2023-09-13T21:37:46.136167Z"
    }
   }
  },
  {
   "cell_type": "code",
   "execution_count": 5,
   "outputs": [],
   "source": [
    "# Set some constants\n",
    "# https://data.worldbank.org/country/TZ\n",
    "total_population = 65497748\n",
    "# 2021 Exchange rate (USD): 0.0004\n",
    "# https://www.exchangerates.org.uk/TZS-USD-spot-exchange-rates-history-2021.html\n",
    "fx = 0.0004"
   ],
   "metadata": {
    "collapsed": false,
    "ExecuteTime": {
     "end_time": "2023-09-13T21:37:46.168680Z",
     "start_time": "2023-09-13T21:37:46.145664Z"
    }
   }
  },
  {
   "cell_type": "code",
   "execution_count": 6,
   "id": "e734721a",
   "metadata": {
    "ExecuteTime": {
     "end_time": "2023-09-13T21:37:46.168849Z",
     "start_time": "2023-09-13T21:37:46.155763Z"
    }
   },
   "outputs": [],
   "source": [
    "# The first step is to fetch all the data\n",
    "# determine the relative path of the folder holding the csv files\n",
    "folder_path = \"./TZA_2020_NPS-R5_v02_M_CSV\""
   ]
  },
  {
   "cell_type": "code",
   "execution_count": 7,
   "id": "e48b0529",
   "metadata": {
    "ExecuteTime": {
     "end_time": "2023-09-13T21:37:48.782205Z",
     "start_time": "2023-09-13T21:37:46.165468Z"
    }
   },
   "outputs": [],
   "source": [
    "# Initialize an empty dictionary to store the data (household and consumption data specifically)\n",
    "data_dict = {}\n",
    "\n",
    "# Loop through each file in the folder\n",
    "for filename in os.listdir(folder_path):\n",
    "    if filename.startswith(\"hh_\") or filename.startswith(\"consumption_\"):\n",
    "        # Create the variable name (removing the .csv extension)\n",
    "        var_name = os.path.splitext(filename)[0]\n",
    "        \n",
    "        # Construct the full file path\n",
    "        file_path = os.path.join(folder_path, filename)\n",
    "        \n",
    "        # Read the CSV file into a DataFrame\n",
    "        data_dict[var_name] = pd.read_csv(file_path)"
   ]
  },
  {
   "cell_type": "code",
   "execution_count": 8,
   "outputs": [
    {
     "data": {
      "text/plain": "dict_keys(['hh_sec_q1', 'hh_sec_q2', 'hh_sec_e3', 'hh_sec_e2', 'hh_sec_e1', 'hh_sec_i2', 'hh_sec_a', 'hh_sec_v', 'hh_sec_c', 'hh_sec_b', 'hh_sec_ja1', 'hh_sec_f', 'hh_sec_p', 'hh_sec_g', 'hh_sec_o2', 'hh_sec_r', 'hh_sec_s', 'hh_sec_d', 'hh_sec_o1', 'hh_sec_u2', 'hh_sec_i', 'hh_sec_h', 'hh_sec_k', 'consumption_real_y5', 'consumption_real_y4', 'hh_sec_n', 'hh_sec_l', 'hh_sec_m', 'hh_sec_j3', 'hh_sec_j1', 'hh_sec_j4'])"
     },
     "execution_count": 8,
     "metadata": {},
     "output_type": "execute_result"
    }
   ],
   "source": [
    "# List of all datasets:\n",
    "data_dict.keys()"
   ],
   "metadata": {
    "collapsed": false,
    "ExecuteTime": {
     "end_time": "2023-09-13T21:37:48.798404Z",
     "start_time": "2023-09-13T21:37:48.793103Z"
    }
   }
  },
  {
   "cell_type": "code",
   "execution_count": 9,
   "outputs": [
    {
     "data": {
      "text/plain": "  Region_Cod Region_Nam                                           geometry\n0         06      Pwani  MULTIPOLYGON (((39.32625 -8.29375, 39.32662 -8...\n1         24     Simiyu  MULTIPOLYGON (((33.91144 -2.18240, 33.91730 -2...\n2         25      Geita  MULTIPOLYGON (((31.81754 -2.70194, 31.81611 -2...\n3         13    Singida  MULTIPOLYGON (((34.92803 -4.26680, 34.92803 -4...\n4         11     Iringa  MULTIPOLYGON (((34.93545 -6.89101, 34.93821 -6...",
      "text/html": "<div>\n<style scoped>\n    .dataframe tbody tr th:only-of-type {\n        vertical-align: middle;\n    }\n\n    .dataframe tbody tr th {\n        vertical-align: top;\n    }\n\n    .dataframe thead th {\n        text-align: right;\n    }\n</style>\n<table border=\"1\" class=\"dataframe\">\n  <thead>\n    <tr style=\"text-align: right;\">\n      <th></th>\n      <th>Region_Cod</th>\n      <th>Region_Nam</th>\n      <th>geometry</th>\n    </tr>\n  </thead>\n  <tbody>\n    <tr>\n      <th>0</th>\n      <td>06</td>\n      <td>Pwani</td>\n      <td>MULTIPOLYGON (((39.32625 -8.29375, 39.32662 -8...</td>\n    </tr>\n    <tr>\n      <th>1</th>\n      <td>24</td>\n      <td>Simiyu</td>\n      <td>MULTIPOLYGON (((33.91144 -2.18240, 33.91730 -2...</td>\n    </tr>\n    <tr>\n      <th>2</th>\n      <td>25</td>\n      <td>Geita</td>\n      <td>MULTIPOLYGON (((31.81754 -2.70194, 31.81611 -2...</td>\n    </tr>\n    <tr>\n      <th>3</th>\n      <td>13</td>\n      <td>Singida</td>\n      <td>MULTIPOLYGON (((34.92803 -4.26680, 34.92803 -4...</td>\n    </tr>\n    <tr>\n      <th>4</th>\n      <td>11</td>\n      <td>Iringa</td>\n      <td>MULTIPOLYGON (((34.93545 -6.89101, 34.93821 -6...</td>\n    </tr>\n  </tbody>\n</table>\n</div>"
     },
     "execution_count": 9,
     "metadata": {},
     "output_type": "execute_result"
    }
   ],
   "source": [
    "# Load the GeoJSON file\n",
    "# Important for analysing geo data\n",
    "# Downloaded from: https://energydata.info/dataset/tanzania-region-district-boundary-2012\n",
    "gdf = gpd.read_file('regions.geojson')\n",
    "gdf.head()"
   ],
   "metadata": {
    "collapsed": false,
    "ExecuteTime": {
     "end_time": "2023-09-13T21:37:50.385734Z",
     "start_time": "2023-09-13T21:37:48.801542Z"
    }
   }
  },
  {
   "cell_type": "markdown",
   "source": [
    "From the review of the data, it seems like the important datasets are:\n",
    "1. hh_sec_a {y5_hhid}\n",
    "2. hh_sec_b {y5_hhid, indidy5}\n",
    "3. hh_sec_e2 (occupation data) {y5_hhid, indidy5}\n",
    "3. hh_sec_e3 (firewood collection shows source of energy) {y5_hhid, indidy5}\n",
    "4. hh_seg_g (financial status) {y5_hhid, indidy5}\n",
    "5. hh_sec_j1 (food consumed) {y5_hhid, itemcode\n",
    "6. hh_sec_m (household assets) {y5_hhid, itemcode}"
   ],
   "metadata": {
    "collapsed": false
   },
   "outputs": [],
   "execution_count": 7
  },
  {
   "cell_type": "markdown",
   "source": [
    "### Columns of interest"
   ],
   "metadata": {
    "collapsed": false,
    "ExecuteTime": {
     "end_time": "2023-09-13T02:39:53.385978Z",
     "start_time": "2023-09-13T02:39:53.382585Z"
    }
   },
   "outputs": [],
   "execution_count": 7
  },
  {
   "cell_type": "code",
   "execution_count": 9,
   "outputs": [],
   "source": [],
   "metadata": {
    "collapsed": false,
    "ExecuteTime": {
     "end_time": "2023-09-13T21:37:50.388985Z",
     "start_time": "2023-09-13T21:37:50.384458Z"
    }
   }
  },
  {
   "cell_type": "code",
   "execution_count": 10,
   "outputs": [],
   "source": [
    "# a_hh_basic = data_dict['hh_sec_a'][['y5_hhid','y5_rural','hh_a02_1',]].rename(columns = {'hh_a02_1':'location'})\n",
    "#\n",
    "# # getting region and district info from the location column \"hh_a02_1\"\n",
    "# a_hh_basic['location'] = a_hh_basic['location'].astype(str)\n",
    "#\n",
    "# # extract all but the last xter\n",
    "# a_hh_basic['region'] = a_hh_basic['location'].str[:-1]\n",
    "# # extract the last xter\n",
    "# a_hh_basic['district'] = a_hh_basic['location'].str[-1]\n",
    "#\n",
    "# # convert region/district back into integers\n",
    "# a_hh_basic['region'] = a_hh_basic['region'].astype(int)\n",
    "# a_hh_basic['district'] = a_hh_basic['district'].astype(int)\n",
    "# a_hh_basic = a_hh_basic.drop(columns = ['location'])\n",
    "#\n",
    "# # [OBS] region data does not align perfectly with \"MAGERESHO YA MIKOA NA WILAYA\" section\n",
    "# # of the questionairre\n",
    "# a_hh_basic.groupby(['region', 'district']).size().reset_index(name='count')"
   ],
   "metadata": {
    "collapsed": false,
    "ExecuteTime": {
     "end_time": "2023-09-13T21:37:50.395995Z",
     "start_time": "2023-09-13T21:37:50.389246Z"
    }
   }
  },
  {
   "cell_type": "code",
   "execution_count": 11,
   "outputs": [],
   "source": [
    "# Consumption data:\n",
    "# Construction from nps_wave_5_report.pdf, appendix A.\n",
    "# consumption is for 28 days\n",
    "# data dictionaty: https://microdata.worldbank.org/index.php/catalog/5639/data-dictionary/F65?file_name=consumption_real_y5\n",
    "# data_dict['consumption_real_y5']#.columns"
   ],
   "metadata": {
    "collapsed": false,
    "ExecuteTime": {
     "end_time": "2023-09-13T21:37:50.399727Z",
     "start_time": "2023-09-13T21:37:50.394656Z"
    }
   }
  },
  {
   "cell_type": "markdown",
   "source": [
    "#### Consumption data"
   ],
   "metadata": {
    "collapsed": false
   }
  },
  {
   "cell_type": "code",
   "execution_count": 12,
   "outputs": [],
   "source": [
    "consumption_data = data_dict['consumption_real_y5']\n",
    "consumption_data = consumption_data[['y5_hhid','urban','region','district','hhsize','nf_clothing', 'nf_utilities', 'nf_hhexpenses', 'nf_transport', 'nf_communic', 'nf_recreat', 'nf_other', 'dur_exp', 'rent_exp', 'foodIN', 'foodOUT', 'educa', 'health']]"
   ],
   "metadata": {
    "collapsed": false,
    "ExecuteTime": {
     "end_time": "2023-09-13T21:37:50.454127Z",
     "start_time": "2023-09-13T21:37:50.405553Z"
    }
   }
  },
  {
   "cell_type": "code",
   "execution_count": 13,
   "outputs": [],
   "source": [
    "# Convert currency\n",
    "consumption_data.iloc[:, 5:] = consumption_data.iloc[:, 5:] * fx"
   ],
   "metadata": {
    "collapsed": false,
    "ExecuteTime": {
     "end_time": "2023-09-13T21:37:50.486933Z",
     "start_time": "2023-09-13T21:37:50.412287Z"
    }
   }
  },
  {
   "cell_type": "markdown",
   "source": [
    "#### Energy data"
   ],
   "metadata": {
    "collapsed": false
   }
  },
  {
   "cell_type": "code",
   "execution_count": 14,
   "outputs": [],
   "source": [
    "i_hh_energy = data_dict['hh_sec_i'][['y5_hhid','hh_i16','hh_i16_1','hh_i17','hh_i18']].rename(columns = {\n",
    "    'hh_i16':'cooking_fuel',\n",
    "    'hh_i16_1':'cooking_stove',\n",
    "    'hh_i17':'lighting_fuel',\n",
    "    'hh_i18':'electricity_source'\n",
    "})"
   ],
   "metadata": {
    "collapsed": false,
    "ExecuteTime": {
     "end_time": "2023-09-13T21:37:50.527226Z",
     "start_time": "2023-09-13T21:37:50.428014Z"
    }
   }
  },
  {
   "cell_type": "code",
   "execution_count": 15,
   "outputs": [],
   "source": [
    "# Create dictionaries to help in renaming the values in the columns\n",
    "# Fuel used for cooking\n",
    "ckfuel_dict = { 1:'Firewood',\n",
    "                2:'Paraffin',\n",
    "                3:'Electricity',\n",
    "                4:'Gas',\n",
    "                5:'Charcoal',\n",
    "                6:'Animal Residue',\n",
    "                7:'Gas (Biogas)'}\n",
    "\n",
    "# Assumptions made in assigning the codes to the stove types, since the questionnaire only has 2 codes while the data has 4 outcomes\n",
    "stove_dict = {  1:'stone',\n",
    "                2:'other self-built',\n",
    "                3:'manufactured',\n",
    "                4:'other'}\n",
    "\n",
    "light_dict = {  1:'Electricity',\n",
    "                2:'Solar',\n",
    "                3:'Gas',\n",
    "                4:'Gas (Biogas)',\n",
    "                5:'Lamp oil',\n",
    "                6:'Candle',\n",
    "                7:'Firewood',\n",
    "                8:'Private Generator',\n",
    "                9:'Torch',\n",
    "                10:'Other'}\n",
    "\n",
    "elec_dict = {   1:'Tanesco',\n",
    "                2:'Community Generator',\n",
    "                3:'Solar Panels',\n",
    "                4:'Own Generator',\n",
    "                5:'Car Battery',\n",
    "                6:'Motorcycle Battery',\n",
    "                7:'Other'}"
   ],
   "metadata": {
    "collapsed": false,
    "ExecuteTime": {
     "end_time": "2023-09-13T21:37:50.527423Z",
     "start_time": "2023-09-13T21:37:50.438979Z"
    }
   }
  },
  {
   "cell_type": "code",
   "execution_count": 16,
   "outputs": [
    {
     "data": {
      "text/plain": "          y5_hhid cooking_fuel cooking_stove lighting_fuel  \\\n0     1000-001-01     Firewood         stone         Solar   \n1     1000-001-02     Charcoal  manufactured        Candle   \n2     1000-001-03     Firewood         stone         Solar   \n3     1000-001-06     Firewood         stone   Electricity   \n4     1001-001-01     Firewood         stone         Solar   \n...           ...          ...           ...           ...   \n4704  9807-001-99  Electricity         Other   Electricity   \n4705  9808-001-99  Electricity         Other   Electricity   \n4706  9809-001-99     Firewood         stone      Lamp oil   \n4707  9810-001-99     Charcoal  manufactured         Solar   \n4708  9811-001-99     Charcoal  manufactured   Electricity   \n\n       electricity_source  \n0            Solar Panels  \n1          no-electricity  \n2            Solar Panels  \n3                 Tanesco  \n4     Community Generator  \n...                   ...  \n4704              Tanesco  \n4705              Tanesco  \n4706       no-electricity  \n4707         Solar Panels  \n4708              Tanesco  \n\n[4709 rows x 5 columns]",
      "text/html": "<div>\n<style scoped>\n    .dataframe tbody tr th:only-of-type {\n        vertical-align: middle;\n    }\n\n    .dataframe tbody tr th {\n        vertical-align: top;\n    }\n\n    .dataframe thead th {\n        text-align: right;\n    }\n</style>\n<table border=\"1\" class=\"dataframe\">\n  <thead>\n    <tr style=\"text-align: right;\">\n      <th></th>\n      <th>y5_hhid</th>\n      <th>cooking_fuel</th>\n      <th>cooking_stove</th>\n      <th>lighting_fuel</th>\n      <th>electricity_source</th>\n    </tr>\n  </thead>\n  <tbody>\n    <tr>\n      <th>0</th>\n      <td>1000-001-01</td>\n      <td>Firewood</td>\n      <td>stone</td>\n      <td>Solar</td>\n      <td>Solar Panels</td>\n    </tr>\n    <tr>\n      <th>1</th>\n      <td>1000-001-02</td>\n      <td>Charcoal</td>\n      <td>manufactured</td>\n      <td>Candle</td>\n      <td>no-electricity</td>\n    </tr>\n    <tr>\n      <th>2</th>\n      <td>1000-001-03</td>\n      <td>Firewood</td>\n      <td>stone</td>\n      <td>Solar</td>\n      <td>Solar Panels</td>\n    </tr>\n    <tr>\n      <th>3</th>\n      <td>1000-001-06</td>\n      <td>Firewood</td>\n      <td>stone</td>\n      <td>Electricity</td>\n      <td>Tanesco</td>\n    </tr>\n    <tr>\n      <th>4</th>\n      <td>1001-001-01</td>\n      <td>Firewood</td>\n      <td>stone</td>\n      <td>Solar</td>\n      <td>Community Generator</td>\n    </tr>\n    <tr>\n      <th>...</th>\n      <td>...</td>\n      <td>...</td>\n      <td>...</td>\n      <td>...</td>\n      <td>...</td>\n    </tr>\n    <tr>\n      <th>4704</th>\n      <td>9807-001-99</td>\n      <td>Electricity</td>\n      <td>Other</td>\n      <td>Electricity</td>\n      <td>Tanesco</td>\n    </tr>\n    <tr>\n      <th>4705</th>\n      <td>9808-001-99</td>\n      <td>Electricity</td>\n      <td>Other</td>\n      <td>Electricity</td>\n      <td>Tanesco</td>\n    </tr>\n    <tr>\n      <th>4706</th>\n      <td>9809-001-99</td>\n      <td>Firewood</td>\n      <td>stone</td>\n      <td>Lamp oil</td>\n      <td>no-electricity</td>\n    </tr>\n    <tr>\n      <th>4707</th>\n      <td>9810-001-99</td>\n      <td>Charcoal</td>\n      <td>manufactured</td>\n      <td>Solar</td>\n      <td>Solar Panels</td>\n    </tr>\n    <tr>\n      <th>4708</th>\n      <td>9811-001-99</td>\n      <td>Charcoal</td>\n      <td>manufactured</td>\n      <td>Electricity</td>\n      <td>Tanesco</td>\n    </tr>\n  </tbody>\n</table>\n<p>4709 rows × 5 columns</p>\n</div>"
     },
     "execution_count": 16,
     "metadata": {},
     "output_type": "execute_result"
    }
   ],
   "source": [
    "#df['string_column'] = df['code_column'].map(code_to_string)\n",
    "i_hh_energy['cooking_fuel'] = i_hh_energy['cooking_fuel'].map(ckfuel_dict).fillna('Other')\n",
    "i_hh_energy['cooking_stove'] = i_hh_energy['cooking_stove'].map(stove_dict).fillna('Other')\n",
    "i_hh_energy['lighting_fuel'] = i_hh_energy['lighting_fuel'].map(light_dict).fillna('Other')\n",
    "i_hh_energy['electricity_source'] = i_hh_energy['electricity_source'].map(elec_dict).fillna('no-electricity')\n",
    "i_hh_energy"
   ],
   "metadata": {
    "collapsed": false,
    "ExecuteTime": {
     "end_time": "2023-09-13T21:37:50.573045Z",
     "start_time": "2023-09-13T21:37:50.442248Z"
    }
   }
  },
  {
   "cell_type": "code",
   "execution_count": 17,
   "outputs": [],
   "source": [
    "# Households using certain fuel types\n",
    "cooking_fuel_counts = i_hh_energy['cooking_fuel'].value_counts(normalize = True) * 100\n",
    "lighting_fuel_counts = i_hh_energy['lighting_fuel'].value_counts(normalize = True) * 100\n",
    "electricity_source_counts = i_hh_energy['electricity_source'].value_counts(normalize = True) * 100"
   ],
   "metadata": {
    "collapsed": false,
    "ExecuteTime": {
     "end_time": "2023-09-13T21:37:50.643852Z",
     "start_time": "2023-09-13T21:37:50.487254Z"
    }
   }
  },
  {
   "cell_type": "code",
   "execution_count": 18,
   "outputs": [
    {
     "data": {
      "text/plain": "          y5_hhid cooking_fuel cooking_stove lighting_fuel  \\\n0     1000-001-01     Firewood         stone         Solar   \n1     1000-001-02     Charcoal  manufactured        Candle   \n2     1000-001-03     Firewood         stone         Solar   \n3     1000-001-06     Firewood         stone   Electricity   \n4     1001-001-01     Firewood         stone         Solar   \n...           ...          ...           ...           ...   \n4704  9807-001-99  Electricity         Other   Electricity   \n4705  9808-001-99  Electricity         Other   Electricity   \n4706  9809-001-99     Firewood         stone      Lamp oil   \n4707  9810-001-99     Charcoal  manufactured         Solar   \n4708  9811-001-99     Charcoal  manufactured   Electricity   \n\n       electricity_source  \n0            Solar Panels  \n1          no-electricity  \n2            Solar Panels  \n3                 Tanesco  \n4     Community Generator  \n...                   ...  \n4704              Tanesco  \n4705              Tanesco  \n4706       no-electricity  \n4707         Solar Panels  \n4708              Tanesco  \n\n[4709 rows x 5 columns]",
      "text/html": "<div>\n<style scoped>\n    .dataframe tbody tr th:only-of-type {\n        vertical-align: middle;\n    }\n\n    .dataframe tbody tr th {\n        vertical-align: top;\n    }\n\n    .dataframe thead th {\n        text-align: right;\n    }\n</style>\n<table border=\"1\" class=\"dataframe\">\n  <thead>\n    <tr style=\"text-align: right;\">\n      <th></th>\n      <th>y5_hhid</th>\n      <th>cooking_fuel</th>\n      <th>cooking_stove</th>\n      <th>lighting_fuel</th>\n      <th>electricity_source</th>\n    </tr>\n  </thead>\n  <tbody>\n    <tr>\n      <th>0</th>\n      <td>1000-001-01</td>\n      <td>Firewood</td>\n      <td>stone</td>\n      <td>Solar</td>\n      <td>Solar Panels</td>\n    </tr>\n    <tr>\n      <th>1</th>\n      <td>1000-001-02</td>\n      <td>Charcoal</td>\n      <td>manufactured</td>\n      <td>Candle</td>\n      <td>no-electricity</td>\n    </tr>\n    <tr>\n      <th>2</th>\n      <td>1000-001-03</td>\n      <td>Firewood</td>\n      <td>stone</td>\n      <td>Solar</td>\n      <td>Solar Panels</td>\n    </tr>\n    <tr>\n      <th>3</th>\n      <td>1000-001-06</td>\n      <td>Firewood</td>\n      <td>stone</td>\n      <td>Electricity</td>\n      <td>Tanesco</td>\n    </tr>\n    <tr>\n      <th>4</th>\n      <td>1001-001-01</td>\n      <td>Firewood</td>\n      <td>stone</td>\n      <td>Solar</td>\n      <td>Community Generator</td>\n    </tr>\n    <tr>\n      <th>...</th>\n      <td>...</td>\n      <td>...</td>\n      <td>...</td>\n      <td>...</td>\n      <td>...</td>\n    </tr>\n    <tr>\n      <th>4704</th>\n      <td>9807-001-99</td>\n      <td>Electricity</td>\n      <td>Other</td>\n      <td>Electricity</td>\n      <td>Tanesco</td>\n    </tr>\n    <tr>\n      <th>4705</th>\n      <td>9808-001-99</td>\n      <td>Electricity</td>\n      <td>Other</td>\n      <td>Electricity</td>\n      <td>Tanesco</td>\n    </tr>\n    <tr>\n      <th>4706</th>\n      <td>9809-001-99</td>\n      <td>Firewood</td>\n      <td>stone</td>\n      <td>Lamp oil</td>\n      <td>no-electricity</td>\n    </tr>\n    <tr>\n      <th>4707</th>\n      <td>9810-001-99</td>\n      <td>Charcoal</td>\n      <td>manufactured</td>\n      <td>Solar</td>\n      <td>Solar Panels</td>\n    </tr>\n    <tr>\n      <th>4708</th>\n      <td>9811-001-99</td>\n      <td>Charcoal</td>\n      <td>manufactured</td>\n      <td>Electricity</td>\n      <td>Tanesco</td>\n    </tr>\n  </tbody>\n</table>\n<p>4709 rows × 5 columns</p>\n</div>"
     },
     "execution_count": 18,
     "metadata": {},
     "output_type": "execute_result"
    }
   ],
   "source": [
    "i_hh_energy"
   ],
   "metadata": {
    "collapsed": false,
    "ExecuteTime": {
     "end_time": "2023-09-13T21:37:50.644379Z",
     "start_time": "2023-09-13T21:37:50.497759Z"
    }
   }
  },
  {
   "cell_type": "markdown",
   "source": [
    "#### Energy visualisations"
   ],
   "metadata": {
    "collapsed": false
   }
  },
  {
   "cell_type": "code",
   "execution_count": 19,
   "outputs": [
    {
     "name": "stderr",
     "output_type": "stream",
     "text": [
      "<ipython-input-3-28437266ab4d>:55: UserWarning: Matplotlib is currently using agg, which is a non-GUI backend, so cannot show the figure.\n",
      "  plt.show()\n"
     ]
    }
   ],
   "source": [
    "bar_plotter(df = i_hh_energy,\n",
    "            column_name = 'cooking_fuel',\n",
    "            plot_title = 'Types of Cooking fuel used across households',\n",
    "            xlab = 'Cooking Fuel',\n",
    "            ylab = '%age of Households',\n",
    "            fig_name = 'bplt_cooking_fuels')"
   ],
   "metadata": {
    "collapsed": false,
    "ExecuteTime": {
     "end_time": "2023-09-13T21:37:51.140955Z",
     "start_time": "2023-09-13T21:37:50.521615Z"
    }
   }
  },
  {
   "cell_type": "code",
   "execution_count": 20,
   "outputs": [
    {
     "name": "stderr",
     "output_type": "stream",
     "text": [
      "<ipython-input-3-28437266ab4d>:55: UserWarning: Matplotlib is currently using agg, which is a non-GUI backend, so cannot show the figure.\n",
      "  plt.show()\n"
     ]
    }
   ],
   "source": [
    "bar_plotter(df = i_hh_energy,\n",
    "            column_name = 'lighting_fuel',\n",
    "            plot_title = 'Types of Lighting fuel used across households',\n",
    "            xlab = 'Lighting Fuel',\n",
    "            ylab = '%age of Households',\n",
    "            fig_name = 'bplt_lighting_fuels')"
   ],
   "metadata": {
    "collapsed": false,
    "ExecuteTime": {
     "end_time": "2023-09-13T21:37:51.727852Z",
     "start_time": "2023-09-13T21:37:51.244357Z"
    }
   }
  },
  {
   "cell_type": "code",
   "execution_count": 21,
   "outputs": [
    {
     "name": "stderr",
     "output_type": "stream",
     "text": [
      "<ipython-input-3-28437266ab4d>:55: UserWarning: Matplotlib is currently using agg, which is a non-GUI backend, so cannot show the figure.\n",
      "  plt.show()\n"
     ]
    }
   ],
   "source": [
    "bar_plotter(df = i_hh_energy,\n",
    "            column_name = 'electricity_source',\n",
    "            plot_title = 'Types of Electricity Sources used across households',\n",
    "            xlab = 'Electricity Sources',\n",
    "            ylab = '%age of Households',\n",
    "            fig_name = 'bplt_electricity_sources')"
   ],
   "metadata": {
    "collapsed": false,
    "ExecuteTime": {
     "end_time": "2023-09-13T21:37:52.229443Z",
     "start_time": "2023-09-13T21:37:51.770784Z"
    }
   }
  },
  {
   "cell_type": "code",
   "execution_count": 22,
   "outputs": [
    {
     "name": "stderr",
     "output_type": "stream",
     "text": [
      "<ipython-input-2-f3ddd0c62243>:61: UserWarning: Matplotlib is currently using agg, which is a non-GUI backend, so cannot show the figure.\n",
      "  plt.show()\n"
     ]
    }
   ],
   "source": [
    "heatmap_plotter(df = i_hh_energy,\n",
    "                col_name_1='cooking_fuel',\n",
    "                col_name_2='lighting_fuel',\n",
    "                plot_title='Relationship of cooking and lighting fuel use',\n",
    "                xlab='Lighting Fuel',\n",
    "                ylab='Cooking Fuel',\n",
    "                fig_name='hmp_cooking_and_lighting_fuel_use')"
   ],
   "metadata": {
    "collapsed": false,
    "ExecuteTime": {
     "end_time": "2023-09-13T21:37:53.225294Z",
     "start_time": "2023-09-13T21:37:52.233694Z"
    }
   }
  },
  {
   "cell_type": "code",
   "execution_count": 23,
   "outputs": [
    {
     "name": "stderr",
     "output_type": "stream",
     "text": [
      "<ipython-input-2-f3ddd0c62243>:61: UserWarning: Matplotlib is currently using agg, which is a non-GUI backend, so cannot show the figure.\n",
      "  plt.show()\n"
     ]
    }
   ],
   "source": [
    "heatmap_plotter(df = i_hh_energy,\n",
    "                col_name_1='electricity_source',\n",
    "                col_name_2='lighting_fuel',\n",
    "                plot_title='Relationship of Electricity Sources and lighting fuel use',\n",
    "                xlab='Lighting Fuel',\n",
    "                ylab='Electricity Source',\n",
    "                fig_name='hmp_electricity_and_lighting_fuel_use')"
   ],
   "metadata": {
    "collapsed": false,
    "ExecuteTime": {
     "end_time": "2023-09-13T21:37:54.171848Z",
     "start_time": "2023-09-13T21:37:53.307924Z"
    }
   }
  },
  {
   "cell_type": "markdown",
   "source": [
    "#### Consumption + Energy"
   ],
   "metadata": {
    "collapsed": false
   }
  },
  {
   "cell_type": "code",
   "execution_count": 24,
   "outputs": [],
   "source": [
    "##\n",
    "consumption_data_w_energy = consumption_data.merge(i_hh_energy, how = 'left', on = 'y5_hhid')\n",
    "#consumption_data_w_energy"
   ],
   "metadata": {
    "collapsed": false,
    "ExecuteTime": {
     "end_time": "2023-09-13T21:37:54.217955Z",
     "start_time": "2023-09-13T21:37:54.186719Z"
    }
   }
  },
  {
   "cell_type": "code",
   "execution_count": 25,
   "outputs": [
    {
     "name": "stderr",
     "output_type": "stream",
     "text": [
      "<ipython-input-25-779747b7998a>:11: UserWarning: Matplotlib is currently using agg, which is a non-GUI backend, so cannot show the figure.\n",
      "  plt.show()\n"
     ]
    }
   ],
   "source": [
    "# Let's visualise the consumption of the households\n",
    "plt.figure(figsize=(12, 10))\n",
    "plt.boxplot(consumption_data.iloc[:, 5:].values,\n",
    "            labels = consumption_data.iloc[:, 5:].columns,\n",
    "            vert=False,\n",
    "            showfliers = False)\n",
    "plt.xticks(range(0, 2500, 200))\n",
    "plt.title('28-day Household Consumption ($)')\n",
    "plt.xlabel('Consumption Value in ($)')\n",
    "plt.ylabel('Type of Consumption')\n",
    "plt.show()\n",
    "\n",
    "plt.savefig('hh_consumption.png', dpi = 300, format = 'png')"
   ],
   "metadata": {
    "collapsed": false,
    "ExecuteTime": {
     "end_time": "2023-09-13T21:37:55.278714Z",
     "start_time": "2023-09-13T21:37:54.204366Z"
    }
   }
  },
  {
   "cell_type": "code",
   "execution_count": 26,
   "outputs": [],
   "source": [
    "non_grid_consumption = consumption_data_w_energy[consumption_data_w_energy['electricity_source'] != 'Tanesco']"
   ],
   "metadata": {
    "collapsed": false,
    "ExecuteTime": {
     "end_time": "2023-09-13T21:37:55.290412Z",
     "start_time": "2023-09-13T21:37:55.279585Z"
    }
   }
  },
  {
   "cell_type": "code",
   "execution_count": 27,
   "outputs": [],
   "source": [
    "non_grid_consumption_usd = pd.DataFrame(data = non_grid_consumption.values,\n",
    "                                        index = non_grid_consumption.index,\n",
    "                                        columns = non_grid_consumption.columns)\n",
    "non_grid_consumption_usd.iloc[:,5:18] = non_grid_consumption_usd.iloc[:,5:18] * fx"
   ],
   "metadata": {
    "collapsed": false,
    "ExecuteTime": {
     "end_time": "2023-09-13T21:37:55.341049Z",
     "start_time": "2023-09-13T21:37:55.294717Z"
    }
   }
  },
  {
   "cell_type": "code",
   "execution_count": 28,
   "outputs": [
    {
     "data": {
      "text/plain": "          y5_hhid urban region district hhsize nf_clothing nf_utilities  \\\n7     1309-001-01     2      7       74      8      0.0968     0.107264   \n9     1342-001-01     2      7       71      6     0.02272     0.069952   \n13    1364-001-01     2      7       71      1     0.02704          0.0   \n17    1438-001-03     2      7       72      3     0.02464     0.056128   \n23    1552-001-01     2      7       72      3     0.01504       0.0192   \n...           ...   ...    ...      ...    ...         ...          ...   \n4688  2411-001-03     1     51      511      3      0.0376     0.023872   \n4695  2373-001-03     1     51      511      4     0.02288     0.016192   \n4698  2369-001-01     1     51      511      2     0.00256     0.037312   \n4703  2313-001-04     1     51      511      4      0.0808     0.016192   \n4706  2387-001-01     2     51      511      4      0.0176     0.029632   \n\n     nf_hhexpenses nf_transport nf_communic  ...   dur_exp  rent_exp  \\\n7          0.02464       0.3424      0.0384  ...  0.054934  0.051134   \n9              0.0          0.0      0.0096  ...  0.014165  0.124489   \n13          0.0016     0.000832      0.0192  ...  0.003605  0.038271   \n17         0.00384     0.073216     0.01152  ...  0.005811    0.0384   \n23         0.00096     0.014976     0.00576  ...  0.000966  0.035561   \n...            ...          ...         ...  ...       ...       ...   \n4688       0.01152          0.0      0.0192  ...  0.006879  0.047193   \n4695           0.0      0.03328     0.01152  ...   0.01187  0.027061   \n4698           0.0      0.00832     0.01536  ...  0.001523  0.057667   \n4703           0.0      0.05824         0.0  ...  0.006278   0.05889   \n4706           0.0          0.0     0.00768  ...  0.009184  0.067713   \n\n        foodIN   foodOUT   educa    health cooking_fuel     cooking_stove  \\\n7        1.664   0.39104  0.0096       0.0     Firewood             stone   \n9      0.40144   0.11648  0.1904       0.0     Charcoal      manufactured   \n13         0.0  0.188032     0.0       0.0     Charcoal             other   \n17    0.297856  0.256256     0.0  0.017264     Charcoal      manufactured   \n23     0.19729  0.132288     0.0   0.03536     Charcoal      manufactured   \n...        ...       ...     ...       ...          ...               ...   \n4688  0.638144   0.11648  0.0048    0.0104     Firewood             stone   \n4695  0.509323   0.02496  0.0048   0.02496     Firewood             stone   \n4698  0.275392       0.0     0.0   0.00208     Firewood             stone   \n4703  0.492445       0.0     0.0       0.0     Firewood             stone   \n4706  0.519168   0.02912  0.0648       0.0     Charcoal  other self-built   \n\n     lighting_fuel electricity_source  \n7            Torch     no-electricity  \n9            Torch     no-electricity  \n13           Solar              Other  \n17           Torch     no-electricity  \n23           Torch     no-electricity  \n...            ...                ...  \n4688      Lamp oil     no-electricity  \n4695      Lamp oil     no-electricity  \n4698      Lamp oil     no-electricity  \n4703      Lamp oil     no-electricity  \n4706         Solar       Solar Panels  \n\n[2768 rows x 22 columns]",
      "text/html": "<div>\n<style scoped>\n    .dataframe tbody tr th:only-of-type {\n        vertical-align: middle;\n    }\n\n    .dataframe tbody tr th {\n        vertical-align: top;\n    }\n\n    .dataframe thead th {\n        text-align: right;\n    }\n</style>\n<table border=\"1\" class=\"dataframe\">\n  <thead>\n    <tr style=\"text-align: right;\">\n      <th></th>\n      <th>y5_hhid</th>\n      <th>urban</th>\n      <th>region</th>\n      <th>district</th>\n      <th>hhsize</th>\n      <th>nf_clothing</th>\n      <th>nf_utilities</th>\n      <th>nf_hhexpenses</th>\n      <th>nf_transport</th>\n      <th>nf_communic</th>\n      <th>...</th>\n      <th>dur_exp</th>\n      <th>rent_exp</th>\n      <th>foodIN</th>\n      <th>foodOUT</th>\n      <th>educa</th>\n      <th>health</th>\n      <th>cooking_fuel</th>\n      <th>cooking_stove</th>\n      <th>lighting_fuel</th>\n      <th>electricity_source</th>\n    </tr>\n  </thead>\n  <tbody>\n    <tr>\n      <th>7</th>\n      <td>1309-001-01</td>\n      <td>2</td>\n      <td>7</td>\n      <td>74</td>\n      <td>8</td>\n      <td>0.0968</td>\n      <td>0.107264</td>\n      <td>0.02464</td>\n      <td>0.3424</td>\n      <td>0.0384</td>\n      <td>...</td>\n      <td>0.054934</td>\n      <td>0.051134</td>\n      <td>1.664</td>\n      <td>0.39104</td>\n      <td>0.0096</td>\n      <td>0.0</td>\n      <td>Firewood</td>\n      <td>stone</td>\n      <td>Torch</td>\n      <td>no-electricity</td>\n    </tr>\n    <tr>\n      <th>9</th>\n      <td>1342-001-01</td>\n      <td>2</td>\n      <td>7</td>\n      <td>71</td>\n      <td>6</td>\n      <td>0.02272</td>\n      <td>0.069952</td>\n      <td>0.0</td>\n      <td>0.0</td>\n      <td>0.0096</td>\n      <td>...</td>\n      <td>0.014165</td>\n      <td>0.124489</td>\n      <td>0.40144</td>\n      <td>0.11648</td>\n      <td>0.1904</td>\n      <td>0.0</td>\n      <td>Charcoal</td>\n      <td>manufactured</td>\n      <td>Torch</td>\n      <td>no-electricity</td>\n    </tr>\n    <tr>\n      <th>13</th>\n      <td>1364-001-01</td>\n      <td>2</td>\n      <td>7</td>\n      <td>71</td>\n      <td>1</td>\n      <td>0.02704</td>\n      <td>0.0</td>\n      <td>0.0016</td>\n      <td>0.000832</td>\n      <td>0.0192</td>\n      <td>...</td>\n      <td>0.003605</td>\n      <td>0.038271</td>\n      <td>0.0</td>\n      <td>0.188032</td>\n      <td>0.0</td>\n      <td>0.0</td>\n      <td>Charcoal</td>\n      <td>other</td>\n      <td>Solar</td>\n      <td>Other</td>\n    </tr>\n    <tr>\n      <th>17</th>\n      <td>1438-001-03</td>\n      <td>2</td>\n      <td>7</td>\n      <td>72</td>\n      <td>3</td>\n      <td>0.02464</td>\n      <td>0.056128</td>\n      <td>0.00384</td>\n      <td>0.073216</td>\n      <td>0.01152</td>\n      <td>...</td>\n      <td>0.005811</td>\n      <td>0.0384</td>\n      <td>0.297856</td>\n      <td>0.256256</td>\n      <td>0.0</td>\n      <td>0.017264</td>\n      <td>Charcoal</td>\n      <td>manufactured</td>\n      <td>Torch</td>\n      <td>no-electricity</td>\n    </tr>\n    <tr>\n      <th>23</th>\n      <td>1552-001-01</td>\n      <td>2</td>\n      <td>7</td>\n      <td>72</td>\n      <td>3</td>\n      <td>0.01504</td>\n      <td>0.0192</td>\n      <td>0.00096</td>\n      <td>0.014976</td>\n      <td>0.00576</td>\n      <td>...</td>\n      <td>0.000966</td>\n      <td>0.035561</td>\n      <td>0.19729</td>\n      <td>0.132288</td>\n      <td>0.0</td>\n      <td>0.03536</td>\n      <td>Charcoal</td>\n      <td>manufactured</td>\n      <td>Torch</td>\n      <td>no-electricity</td>\n    </tr>\n    <tr>\n      <th>...</th>\n      <td>...</td>\n      <td>...</td>\n      <td>...</td>\n      <td>...</td>\n      <td>...</td>\n      <td>...</td>\n      <td>...</td>\n      <td>...</td>\n      <td>...</td>\n      <td>...</td>\n      <td>...</td>\n      <td>...</td>\n      <td>...</td>\n      <td>...</td>\n      <td>...</td>\n      <td>...</td>\n      <td>...</td>\n      <td>...</td>\n      <td>...</td>\n      <td>...</td>\n      <td>...</td>\n    </tr>\n    <tr>\n      <th>4688</th>\n      <td>2411-001-03</td>\n      <td>1</td>\n      <td>51</td>\n      <td>511</td>\n      <td>3</td>\n      <td>0.0376</td>\n      <td>0.023872</td>\n      <td>0.01152</td>\n      <td>0.0</td>\n      <td>0.0192</td>\n      <td>...</td>\n      <td>0.006879</td>\n      <td>0.047193</td>\n      <td>0.638144</td>\n      <td>0.11648</td>\n      <td>0.0048</td>\n      <td>0.0104</td>\n      <td>Firewood</td>\n      <td>stone</td>\n      <td>Lamp oil</td>\n      <td>no-electricity</td>\n    </tr>\n    <tr>\n      <th>4695</th>\n      <td>2373-001-03</td>\n      <td>1</td>\n      <td>51</td>\n      <td>511</td>\n      <td>4</td>\n      <td>0.02288</td>\n      <td>0.016192</td>\n      <td>0.0</td>\n      <td>0.03328</td>\n      <td>0.01152</td>\n      <td>...</td>\n      <td>0.01187</td>\n      <td>0.027061</td>\n      <td>0.509323</td>\n      <td>0.02496</td>\n      <td>0.0048</td>\n      <td>0.02496</td>\n      <td>Firewood</td>\n      <td>stone</td>\n      <td>Lamp oil</td>\n      <td>no-electricity</td>\n    </tr>\n    <tr>\n      <th>4698</th>\n      <td>2369-001-01</td>\n      <td>1</td>\n      <td>51</td>\n      <td>511</td>\n      <td>2</td>\n      <td>0.00256</td>\n      <td>0.037312</td>\n      <td>0.0</td>\n      <td>0.00832</td>\n      <td>0.01536</td>\n      <td>...</td>\n      <td>0.001523</td>\n      <td>0.057667</td>\n      <td>0.275392</td>\n      <td>0.0</td>\n      <td>0.0</td>\n      <td>0.00208</td>\n      <td>Firewood</td>\n      <td>stone</td>\n      <td>Lamp oil</td>\n      <td>no-electricity</td>\n    </tr>\n    <tr>\n      <th>4703</th>\n      <td>2313-001-04</td>\n      <td>1</td>\n      <td>51</td>\n      <td>511</td>\n      <td>4</td>\n      <td>0.0808</td>\n      <td>0.016192</td>\n      <td>0.0</td>\n      <td>0.05824</td>\n      <td>0.0</td>\n      <td>...</td>\n      <td>0.006278</td>\n      <td>0.05889</td>\n      <td>0.492445</td>\n      <td>0.0</td>\n      <td>0.0</td>\n      <td>0.0</td>\n      <td>Firewood</td>\n      <td>stone</td>\n      <td>Lamp oil</td>\n      <td>no-electricity</td>\n    </tr>\n    <tr>\n      <th>4706</th>\n      <td>2387-001-01</td>\n      <td>2</td>\n      <td>51</td>\n      <td>511</td>\n      <td>4</td>\n      <td>0.0176</td>\n      <td>0.029632</td>\n      <td>0.0</td>\n      <td>0.0</td>\n      <td>0.00768</td>\n      <td>...</td>\n      <td>0.009184</td>\n      <td>0.067713</td>\n      <td>0.519168</td>\n      <td>0.02912</td>\n      <td>0.0648</td>\n      <td>0.0</td>\n      <td>Charcoal</td>\n      <td>other self-built</td>\n      <td>Solar</td>\n      <td>Solar Panels</td>\n    </tr>\n  </tbody>\n</table>\n<p>2768 rows × 22 columns</p>\n</div>"
     },
     "execution_count": 28,
     "metadata": {},
     "output_type": "execute_result"
    }
   ],
   "source": [
    "non_grid_consumption_usd"
   ],
   "metadata": {
    "collapsed": false,
    "ExecuteTime": {
     "end_time": "2023-09-13T21:37:55.353877Z",
     "start_time": "2023-09-13T21:37:55.310226Z"
    }
   }
  },
  {
   "cell_type": "code",
   "execution_count": 29,
   "outputs": [],
   "source": [
    "consumption_averages = non_grid_consumption_usd[['region','hhsize', 'nf_clothing','nf_utilities', 'nf_hhexpenses', 'nf_transport', 'nf_communic','nf_recreat', 'nf_other', 'dur_exp', 'rent_exp','educa', 'health']].groupby('region').mean()"
   ],
   "metadata": {
    "collapsed": false,
    "ExecuteTime": {
     "end_time": "2023-09-13T21:37:55.496474Z",
     "start_time": "2023-09-13T21:37:55.353278Z"
    }
   }
  },
  {
   "cell_type": "code",
   "execution_count": 30,
   "outputs": [
    {
     "name": "stderr",
     "output_type": "stream",
     "text": [
      "<ipython-input-30-ff33b55e270e>:19: UserWarning: Matplotlib is currently using agg, which is a non-GUI backend, so cannot show the figure.\n",
      "  plt.show()\n"
     ]
    }
   ],
   "source": [
    "fig, ax = plt.subplots(figsize=(10, 6))\n",
    "\n",
    "ax.axis('off')\n",
    "\n",
    "# Plot the table with custom formatting, including the index\n",
    "table = ax.table(cellText=consumption_averages.applymap(lambda x: f'{x:.2f}').values,\n",
    "                 colLabels=consumption_averages.columns,\n",
    "                 cellLoc='center',\n",
    "                 loc='center',\n",
    "                 rowLabels=consumption_averages.index.map(str))\n",
    "\n",
    "# Customize table appearance (optional)\n",
    "table.auto_set_font_size(False)\n",
    "table.set_fontsize(12)\n",
    "table.scale(1, 1.5)  # Adjust table size\n",
    "table.auto_set_column_width([i for i in range(len(consumption_averages.columns) + 1)])  # Auto-adjust column widths\n",
    "\n",
    "# Show the table\n",
    "plt.show()"
   ],
   "metadata": {
    "collapsed": false,
    "ExecuteTime": {
     "end_time": "2023-09-13T21:37:55.623705Z",
     "start_time": "2023-09-13T21:37:55.544788Z"
    }
   }
  },
  {
   "cell_type": "code",
   "execution_count": 30,
   "outputs": [],
   "source": [],
   "metadata": {
    "collapsed": false,
    "ExecuteTime": {
     "end_time": "2023-09-13T21:37:55.628405Z",
     "start_time": "2023-09-13T21:37:55.624173Z"
    }
   }
  },
  {
   "cell_type": "code",
   "execution_count": 30,
   "outputs": [],
   "source": [],
   "metadata": {
    "collapsed": false,
    "ExecuteTime": {
     "end_time": "2023-09-13T21:37:55.634323Z",
     "start_time": "2023-09-13T21:37:55.631058Z"
    }
   }
  },
  {
   "cell_type": "code",
   "execution_count": 30,
   "outputs": [],
   "source": [],
   "metadata": {
    "collapsed": false,
    "ExecuteTime": {
     "end_time": "2023-09-13T21:37:55.640162Z",
     "start_time": "2023-09-13T21:37:55.637157Z"
    }
   }
  },
  {
   "cell_type": "markdown",
   "source": [
    "#### Regional Data"
   ],
   "metadata": {
    "collapsed": false
   }
  },
  {
   "cell_type": "code",
   "execution_count": 31,
   "outputs": [],
   "source": [
    "gdf['Region_Cod'] = gdf['Region_Cod'].astype(int)\n",
    "consumption_data_w_energy = consumption_data_w_energy.merge(gdf, how = 'left', left_on = 'region', right_on = 'Region_Cod')\n",
    "# consumption_data_w_energy.head()"
   ],
   "metadata": {
    "collapsed": false,
    "ExecuteTime": {
     "end_time": "2023-09-13T21:37:55.697560Z",
     "start_time": "2023-09-13T21:37:55.644275Z"
    }
   }
  },
  {
   "cell_type": "code",
   "execution_count": 32,
   "outputs": [
    {
     "data": {
      "text/plain": "4.904650668931833"
     },
     "execution_count": 32,
     "metadata": {},
     "output_type": "execute_result"
    }
   ],
   "source": [
    "consumption_data_w_energy['hhsize'].mean()"
   ],
   "metadata": {
    "collapsed": false,
    "ExecuteTime": {
     "end_time": "2023-09-13T21:37:55.716280Z",
     "start_time": "2023-09-13T21:37:55.678413Z"
    }
   }
  },
  {
   "cell_type": "code",
   "execution_count": 33,
   "outputs": [],
   "source": [
    "# Create a deo\n",
    "geo_df = gpd.GeoDataFrame(consumption_data_w_energy, geometry='geometry')"
   ],
   "metadata": {
    "collapsed": false,
    "ExecuteTime": {
     "end_time": "2023-09-13T21:37:55.716566Z",
     "start_time": "2023-09-13T21:37:55.697829Z"
    }
   }
  },
  {
   "cell_type": "code",
   "execution_count": 34,
   "outputs": [],
   "source": [
    "# Group by Region_Name and calculate the percentage of households with \"no-electricity\"\n",
    "no_elec_pct = consumption_data_w_energy.groupby('Region_Nam')['electricity_source'].apply(lambda x: (x == 'no-electricity').mean() * 100)\n",
    "\n",
    "# Group by Region_Name and calculate the percentage of households with grid\n",
    "no_grid_pct = consumption_data_w_energy.groupby('Region_Nam')['electricity_source'].apply(lambda x: (x != 'Tanesco').mean() * 100)"
   ],
   "metadata": {
    "collapsed": false,
    "ExecuteTime": {
     "end_time": "2023-09-13T21:37:55.797177Z",
     "start_time": "2023-09-13T21:37:55.705287Z"
    }
   }
  },
  {
   "cell_type": "code",
   "execution_count": 35,
   "outputs": [
    {
     "name": "stderr",
     "output_type": "stream",
     "text": [
      "<ipython-input-4-2ce53f14c86d>:36: UserWarning: Matplotlib is currently using agg, which is a non-GUI backend, so cannot show the figure.\n",
      "  plt.show()\n"
     ]
    }
   ],
   "source": [
    "chloro_plotter(map_df = no_elec_pct,\n",
    "               main_title = 'Households with no Electricity Access',\n",
    "               subtitle = 'Households with no access to the Tanesco grid, solar panels, community generators or motor batteries',\n",
    "               fig_name = 'tz_no_electricity_access.png')"
   ],
   "metadata": {
    "collapsed": false,
    "ExecuteTime": {
     "end_time": "2023-09-13T21:37:58.501551Z",
     "start_time": "2023-09-13T21:37:55.757394Z"
    }
   }
  },
  {
   "cell_type": "code",
   "execution_count": 36,
   "outputs": [
    {
     "name": "stderr",
     "output_type": "stream",
     "text": [
      "<ipython-input-4-2ce53f14c86d>:36: UserWarning: Matplotlib is currently using agg, which is a non-GUI backend, so cannot show the figure.\n",
      "  plt.show()\n"
     ]
    }
   ],
   "source": [
    "chloro_plotter(map_df = no_grid_pct,\n",
    "               main_title = 'Map of households with no connection to the grid',\n",
    "               subtitle = 'These households have no connection to the grid, but might have other electricity sources',\n",
    "               fig_name = 'tz_no_grid_access.png')"
   ],
   "metadata": {
    "collapsed": false,
    "ExecuteTime": {
     "end_time": "2023-09-13T21:38:00.522336Z",
     "start_time": "2023-09-13T21:37:58.539736Z"
    }
   }
  },
  {
   "cell_type": "code",
   "execution_count": 36,
   "outputs": [],
   "source": [],
   "metadata": {
    "collapsed": false,
    "ExecuteTime": {
     "end_time": "2023-09-13T21:38:00.526800Z",
     "start_time": "2023-09-13T21:38:00.523224Z"
    }
   }
  },
  {
   "cell_type": "markdown",
   "source": [
    "#### Earnings DATA"
   ],
   "metadata": {
    "collapsed": false
   },
   "outputs": []
  },
  {
   "cell_type": "code",
   "execution_count": 37,
   "outputs": [],
   "source": [
    "time_unit_wages = { 1:'Hour',\n",
    "                    2:'Day',\n",
    "                    3:'Week',\n",
    "                    4:'Fortnight',\n",
    "                    5:'Month',\n",
    "                    6:'Quarter',\n",
    "                    7:'Half Year',\n",
    "                    8:'Year'}"
   ],
   "metadata": {
    "collapsed": false,
    "ExecuteTime": {
     "end_time": "2023-09-13T21:38:00.533130Z",
     "start_time": "2023-09-13T21:38:00.529940Z"
    }
   }
  },
  {
   "cell_type": "code",
   "execution_count": 38,
   "outputs": [],
   "source": [
    "# individual-level data on earnings/labour\n",
    "hh_income = data_dict['hh_sec_e1'][['y5_hhid','indidy5','hh_e35a','hh_e35b','hh_e36','hh_e37a','hh_e37b','hh_e38','hh_e39','hh_e41','hh_e51a','hh_e51b','hh_e52','hh_e53a','hh_e53b','hh_e54' ]]"
   ],
   "metadata": {
    "collapsed": false,
    "ExecuteTime": {
     "end_time": "2023-09-13T21:38:00.604929Z",
     "start_time": "2023-09-13T21:38:00.534021Z"
    }
   }
  },
  {
   "cell_type": "code",
   "execution_count": 39,
   "outputs": [],
   "source": [
    "hh_income = hh_income.rename(columns = {    'hh_e35a':'pri_pay_amt',\n",
    "                                            'hh_e35b':'pri_pay_period',\n",
    "                                            'hh_e36':'pri_pay_nc',\n",
    "                                            'hh_e37a':'pri_pay_nc_amt',\n",
    "                                            'hh_e37b':'pri_pay_nc_period',\n",
    "                                            'hh_e38':'months_per_yr',\n",
    "                                            'hh_e39':'wks_per_month',\n",
    "                                            'hh_e40':'hrs_per_wk',\n",
    "                                            'hh_e41':'hrs_l7d',\n",
    "                                            'hh_e51a':'sec_pay_amt',\n",
    "                                            'hh_e51b':'sec_pay_period',\n",
    "                                            'hh_e52':'sec_pay_nc',\n",
    "                                            'hh_e53a':'sec_pay_nc_amt',\n",
    "                                            'hh_e53b':'sec_pay_nc_period',\n",
    "                                            'hh_e54':'hrs_l7d'})"
   ],
   "metadata": {
    "collapsed": false,
    "ExecuteTime": {
     "end_time": "2023-09-13T21:38:00.605491Z",
     "start_time": "2023-09-13T21:38:00.553902Z"
    }
   }
  },
  {
   "cell_type": "code",
   "execution_count": 40,
   "outputs": [],
   "source": [
    "hh_income = hh_income.fillna(1)"
   ],
   "metadata": {
    "collapsed": false,
    "ExecuteTime": {
     "end_time": "2023-09-13T21:38:00.605858Z",
     "start_time": "2023-09-13T21:38:00.574205Z"
    }
   }
  },
  {
   "cell_type": "code",
   "execution_count": 41,
   "outputs": [
    {
     "data": {
      "text/plain": "pri_pay_period\n1.0    21225\n2.0      993\n5.0      971\n3.0      340\n4.0       48\n6.0        8\n8.0        6\n7.0        1\nName: count, dtype: int64"
     },
     "execution_count": 41,
     "metadata": {},
     "output_type": "execute_result"
    }
   ],
   "source": [
    "hh_income['pri_pay_period'].value_counts()"
   ],
   "metadata": {
    "collapsed": false,
    "ExecuteTime": {
     "end_time": "2023-09-13T21:38:00.606431Z",
     "start_time": "2023-09-13T21:38:00.588131Z"
    }
   }
  },
  {
   "cell_type": "code",
   "execution_count": 42,
   "outputs": [],
   "source": [
    "# Dictionary mapping pri_pay_period to multiplier_pri_a\n",
    "# Assumption: daily labourers work for 25 days\n",
    "# multiplier_mapping = {\n",
    "#     1: lambda row: row['wks_per_month'] * row['hrs_l7d'] * row['wks'],\n",
    "#     2: 28,\n",
    "#     3: lambda row: row['wks_per_month'],\n",
    "#     4: 2,\n",
    "#     5: 1,\n",
    "#     6: 1 / 3,\n",
    "#     7: 1 / 6,\n",
    "#     8: 1 / 12\n",
    "# }\n",
    "#\n",
    "# # Function to calculate multiplier_pri_a based on pri_pay_period\n",
    "# def calculate_multiplier(row):\n",
    "#     return multiplier_mapping.get(row['pri_pay_period'], 0)\n",
    "\n",
    "\n",
    "#def calculate_multiplier(row, pay_period_column):\n",
    "#    return multiplier_mapping.get(row[pay_period_column], 0)"
   ],
   "metadata": {
    "collapsed": false,
    "ExecuteTime": {
     "end_time": "2023-09-13T21:38:00.606805Z",
     "start_time": "2023-09-13T21:38:00.597540Z"
    }
   }
  },
  {
   "cell_type": "code",
   "execution_count": 43,
   "outputs": [],
   "source": [
    "# hh_income['multi_col_a'] = hh_income['wks_per_month'] * hh_income['hrs_l7d']\n",
    "\n",
    "\n",
    "# cash income\n",
    "# hh_income['multiplier_pri_a'] = hh_income.apply(calculate_multiplier, axis=1)\n",
    "# hh_income['multiplier_pri_a'] = hh_income.apply(calculate_multiplier, axis=1)\n",
    "# hh_income ['monthly_cash_pri'] = hh_income['multiplier_pri_a'] * hh_income['pri_pay_amt']\n",
    "\n",
    "\n",
    "#hh_income[['pri_pay_amt']] * hh_income[['multiplier_pri_a']]"
   ],
   "metadata": {
    "collapsed": false,
    "ExecuteTime": {
     "end_time": "2023-09-13T21:38:00.618798Z",
     "start_time": "2023-09-13T21:38:00.616943Z"
    }
   }
  },
  {
   "cell_type": "markdown",
   "source": [
    "#### Energy Expenditure"
   ],
   "metadata": {
    "collapsed": false
   },
   "outputs": []
  },
  {
   "cell_type": "code",
   "execution_count": 44,
   "outputs": [],
   "source": [
    "energy_specific_exp = data_dict['hh_sec_k']"
   ],
   "metadata": {
    "collapsed": false,
    "ExecuteTime": {
     "end_time": "2023-09-13T21:38:00.643514Z",
     "start_time": "2023-09-13T21:38:00.617829Z"
    }
   }
  },
  {
   "cell_type": "code",
   "execution_count": 45,
   "outputs": [],
   "source": [
    "expenditure_items = {   201:'Kerosene',\n",
    "                        202:'Electricity, including electricity vouchers',\n",
    "                        203:'Gas (for lighting/cooking)',\n",
    "                        205:'Petrol or diesel',\n",
    "                        206:'Cell phone voucher',\n",
    "                        207:'charcoal',\n",
    "                        216:'Light bulbs',\n",
    "                        414:'Lanterns',\n",
    "                        419:'Electric/gas stove',\n",
    "                        420:'Other stove',\n",
    "                        421:'Water-heater'}"
   ],
   "metadata": {
    "collapsed": false,
    "ExecuteTime": {
     "end_time": "2023-09-13T21:38:00.720852Z",
     "start_time": "2023-09-13T21:38:00.627508Z"
    }
   }
  },
  {
   "cell_type": "code",
   "execution_count": 46,
   "outputs": [],
   "source": [
    "energy_specific_exp['energy_item'] = energy_specific_exp['itemcode'].map(expenditure_items).fillna('not_energy')"
   ],
   "metadata": {
    "collapsed": false,
    "ExecuteTime": {
     "end_time": "2023-09-13T21:38:00.723854Z",
     "start_time": "2023-09-13T21:38:00.634866Z"
    }
   }
  },
  {
   "cell_type": "code",
   "execution_count": 47,
   "outputs": [],
   "source": [
    "energy_specific_exp = energy_specific_exp[energy_specific_exp['hh_k01'] == 1.0].fillna(0)"
   ],
   "metadata": {
    "collapsed": false,
    "ExecuteTime": {
     "end_time": "2023-09-13T21:38:00.724325Z",
     "start_time": "2023-09-13T21:38:00.660672Z"
    }
   }
  },
  {
   "cell_type": "code",
   "execution_count": 48,
   "outputs": [],
   "source": [
    "# For the 3 items 101, 102 and 103 which are weekly, multiply by 4 to make it a monthly measure (approx)\n",
    "energy_specific_exp['hh_k02'] = energy_specific_exp.apply(lambda row: row['hh_k02'] * 4 if row['itemcode'] in [101, 102, 103] else row['hh_k02'], axis=1)"
   ],
   "metadata": {
    "collapsed": false,
    "ExecuteTime": {
     "end_time": "2023-09-13T21:38:01.141346Z",
     "start_time": "2023-09-13T21:38:00.699950Z"
    }
   }
  },
  {
   "cell_type": "code",
   "execution_count": 49,
   "outputs": [],
   "source": [
    "monthly_spend = fx * pd.pivot_table(energy_specific_exp, values='hh_k02', index='y5_hhid', columns='energy_item', aggfunc='sum', fill_value=0)\n",
    "# Add a column for total household expenditure\n",
    "monthly_spend['total_expenditure'] = monthly_spend.sum(axis=1)\n",
    "# Print the pivot table"
   ],
   "metadata": {
    "collapsed": false,
    "ExecuteTime": {
     "end_time": "2023-09-13T21:38:01.196396Z",
     "start_time": "2023-09-13T21:38:01.149262Z"
    }
   }
  },
  {
   "cell_type": "code",
   "execution_count": 50,
   "outputs": [],
   "source": [
    "monthly_spend_pct = pd.DataFrame(data = monthly_spend.iloc[:,:-1].values / monthly_spend.iloc[:,-1:].values,\n",
    "             index = monthly_spend.index,\n",
    "             columns = monthly_spend.iloc[:,:-1].columns)"
   ],
   "metadata": {
    "collapsed": false,
    "ExecuteTime": {
     "end_time": "2023-09-13T21:38:01.196744Z",
     "start_time": "2023-09-13T21:38:01.182938Z"
    }
   }
  },
  {
   "cell_type": "code",
   "execution_count": 51,
   "outputs": [
    {
     "name": "stderr",
     "output_type": "stream",
     "text": [
      "<ipython-input-51-72c651ba79e0>:10: UserWarning: Matplotlib is currently using agg, which is a non-GUI backend, so cannot show the figure.\n",
      "  plt.show()\n"
     ]
    }
   ],
   "source": [
    "plt.figure(figsize=(8, 6))\n",
    "plt.boxplot(monthly_spend.iloc[:,:-1].values,\n",
    "            labels = monthly_spend.iloc[:,:-1].columns,\n",
    "            vert=False,\n",
    "            showfliers = False)\n",
    "#plt.xticks(range(0, 2500, 200))\n",
    "plt.title('28-day Household Consumption (General Population) ($)')\n",
    "plt.xlabel('Consumption Value in ($)')\n",
    "plt.ylabel('Type of Consumption')\n",
    "plt.show()\n",
    "#plt.savefig('hh_consumption.png', dpi = 300, format = 'png')"
   ],
   "metadata": {
    "collapsed": false,
    "ExecuteTime": {
     "end_time": "2023-09-13T21:38:01.282645Z",
     "start_time": "2023-09-13T21:38:01.216903Z"
    }
   }
  },
  {
   "cell_type": "code",
   "execution_count": 52,
   "outputs": [],
   "source": [
    "non_elec_hh = consumption_data_w_energy[consumption_data_w_energy['electricity_source'] != 'Tanesco'][['y5_hhid','lighting_fuel','electricity_source']]"
   ],
   "metadata": {
    "collapsed": false,
    "ExecuteTime": {
     "end_time": "2023-09-13T21:38:01.282875Z",
     "start_time": "2023-09-13T21:38:01.269848Z"
    }
   }
  },
  {
   "cell_type": "code",
   "execution_count": 53,
   "outputs": [
    {
     "data": {
      "text/plain": "           y5_hhid lighting_fuel electricity_source interview__key  itemcode  \\\n0      1309-001-01         Torch     no-electricity    96-10-67-72     102.0   \n1      1309-001-01         Torch     no-electricity    96-10-67-72     103.0   \n2      1309-001-01         Torch     no-electricity    96-10-67-72     203.0   \n3      1309-001-01         Torch     no-electricity    96-10-67-72     204.0   \n4      1309-001-01         Torch     no-electricity    96-10-67-72     205.0   \n...            ...           ...                ...            ...       ...   \n20331  2387-001-01         Solar       Solar Panels    12-35-23-78     206.0   \n20332  2387-001-01         Solar       Solar Panels    12-35-23-78     207.0   \n20333  2387-001-01         Solar       Solar Panels    12-35-23-78     209.0   \n20334  2387-001-01         Solar       Solar Panels    12-35-23-78     210.0   \n20335  2387-001-01         Solar       Solar Panels    12-35-23-78     214.0   \n\n       hh_k01   hh_k02                 energy_item  \n0         1.0    800.0                  not_energy  \n1         1.0  52000.0                  not_energy  \n2         1.0  20000.0  Gas (for lighting/cooking)  \n3         1.0  20000.0                  not_energy  \n4         1.0  88000.0            Petrol or diesel  \n...       ...      ...                         ...  \n20331     1.0   4000.0          Cell phone voucher  \n20332     1.0  15000.0                    charcoal  \n20333     1.0   2800.0                  not_energy  \n20334     1.0   2400.0                  not_energy  \n20335     1.0   1300.0                  not_energy  \n\n[20336 rows x 8 columns]",
      "text/html": "<div>\n<style scoped>\n    .dataframe tbody tr th:only-of-type {\n        vertical-align: middle;\n    }\n\n    .dataframe tbody tr th {\n        vertical-align: top;\n    }\n\n    .dataframe thead th {\n        text-align: right;\n    }\n</style>\n<table border=\"1\" class=\"dataframe\">\n  <thead>\n    <tr style=\"text-align: right;\">\n      <th></th>\n      <th>y5_hhid</th>\n      <th>lighting_fuel</th>\n      <th>electricity_source</th>\n      <th>interview__key</th>\n      <th>itemcode</th>\n      <th>hh_k01</th>\n      <th>hh_k02</th>\n      <th>energy_item</th>\n    </tr>\n  </thead>\n  <tbody>\n    <tr>\n      <th>0</th>\n      <td>1309-001-01</td>\n      <td>Torch</td>\n      <td>no-electricity</td>\n      <td>96-10-67-72</td>\n      <td>102.0</td>\n      <td>1.0</td>\n      <td>800.0</td>\n      <td>not_energy</td>\n    </tr>\n    <tr>\n      <th>1</th>\n      <td>1309-001-01</td>\n      <td>Torch</td>\n      <td>no-electricity</td>\n      <td>96-10-67-72</td>\n      <td>103.0</td>\n      <td>1.0</td>\n      <td>52000.0</td>\n      <td>not_energy</td>\n    </tr>\n    <tr>\n      <th>2</th>\n      <td>1309-001-01</td>\n      <td>Torch</td>\n      <td>no-electricity</td>\n      <td>96-10-67-72</td>\n      <td>203.0</td>\n      <td>1.0</td>\n      <td>20000.0</td>\n      <td>Gas (for lighting/cooking)</td>\n    </tr>\n    <tr>\n      <th>3</th>\n      <td>1309-001-01</td>\n      <td>Torch</td>\n      <td>no-electricity</td>\n      <td>96-10-67-72</td>\n      <td>204.0</td>\n      <td>1.0</td>\n      <td>20000.0</td>\n      <td>not_energy</td>\n    </tr>\n    <tr>\n      <th>4</th>\n      <td>1309-001-01</td>\n      <td>Torch</td>\n      <td>no-electricity</td>\n      <td>96-10-67-72</td>\n      <td>205.0</td>\n      <td>1.0</td>\n      <td>88000.0</td>\n      <td>Petrol or diesel</td>\n    </tr>\n    <tr>\n      <th>...</th>\n      <td>...</td>\n      <td>...</td>\n      <td>...</td>\n      <td>...</td>\n      <td>...</td>\n      <td>...</td>\n      <td>...</td>\n      <td>...</td>\n    </tr>\n    <tr>\n      <th>20331</th>\n      <td>2387-001-01</td>\n      <td>Solar</td>\n      <td>Solar Panels</td>\n      <td>12-35-23-78</td>\n      <td>206.0</td>\n      <td>1.0</td>\n      <td>4000.0</td>\n      <td>Cell phone voucher</td>\n    </tr>\n    <tr>\n      <th>20332</th>\n      <td>2387-001-01</td>\n      <td>Solar</td>\n      <td>Solar Panels</td>\n      <td>12-35-23-78</td>\n      <td>207.0</td>\n      <td>1.0</td>\n      <td>15000.0</td>\n      <td>charcoal</td>\n    </tr>\n    <tr>\n      <th>20333</th>\n      <td>2387-001-01</td>\n      <td>Solar</td>\n      <td>Solar Panels</td>\n      <td>12-35-23-78</td>\n      <td>209.0</td>\n      <td>1.0</td>\n      <td>2800.0</td>\n      <td>not_energy</td>\n    </tr>\n    <tr>\n      <th>20334</th>\n      <td>2387-001-01</td>\n      <td>Solar</td>\n      <td>Solar Panels</td>\n      <td>12-35-23-78</td>\n      <td>210.0</td>\n      <td>1.0</td>\n      <td>2400.0</td>\n      <td>not_energy</td>\n    </tr>\n    <tr>\n      <th>20335</th>\n      <td>2387-001-01</td>\n      <td>Solar</td>\n      <td>Solar Panels</td>\n      <td>12-35-23-78</td>\n      <td>214.0</td>\n      <td>1.0</td>\n      <td>1300.0</td>\n      <td>not_energy</td>\n    </tr>\n  </tbody>\n</table>\n<p>20336 rows × 8 columns</p>\n</div>"
     },
     "execution_count": 53,
     "metadata": {},
     "output_type": "execute_result"
    }
   ],
   "source": [
    "non_elec_hh.merge(energy_specific_exp,how = 'left')"
   ],
   "metadata": {
    "collapsed": false,
    "ExecuteTime": {
     "end_time": "2023-09-13T21:38:01.451654Z",
     "start_time": "2023-09-13T21:38:01.281486Z"
    }
   }
  },
  {
   "cell_type": "code",
   "execution_count": 54,
   "outputs": [],
   "source": [
    "monthly_spend_no_elec = fx * pd.pivot_table(non_elec_hh.merge(energy_specific_exp,how = 'left'), values='hh_k02', index='y5_hhid', columns='energy_item', aggfunc='sum', fill_value=0)\n",
    "# Add a column for total household expenditure\n",
    "monthly_spend_no_elec['total_expenditure'] = monthly_spend_no_elec.sum(axis=1)\n",
    "# Print the pivot table"
   ],
   "metadata": {
    "collapsed": false,
    "ExecuteTime": {
     "end_time": "2023-09-13T21:38:01.452658Z",
     "start_time": "2023-09-13T21:38:01.315059Z"
    }
   }
  },
  {
   "cell_type": "code",
   "execution_count": 55,
   "outputs": [
    {
     "data": {
      "text/plain": "energy_item  Cell phone voucher  Electricity, including electricity vouchers  \\\ny5_hhid                                                                        \n1000-001-01                 0.4                                          0.0   \n1000-001-02                 0.0                                          0.0   \n1000-001-03                 0.0                                          0.0   \n1001-001-01                 1.6                                          0.0   \n1002-001-01                 9.6                                          0.0   \n...                         ...                                          ...   \n9798-001-99                 4.0                                          0.0   \n9799-001-99                 4.0                                          0.0   \n9805-001-99                12.0                                          0.0   \n9809-001-99                 1.2                                          0.0   \n9810-001-99                 2.0                                          0.0   \n\nenergy_item  Gas (for lighting/cooking)  Kerosene  Light bulbs  \\\ny5_hhid                                                          \n1000-001-01                         0.0       0.0          0.0   \n1000-001-02                         0.0       0.0          0.0   \n1000-001-03                         0.0       0.0          0.0   \n1001-001-01                         0.0       0.0          0.0   \n1002-001-01                         0.0       0.0          0.0   \n...                                 ...       ...          ...   \n9798-001-99                         0.0       0.0          0.0   \n9799-001-99                         0.0       0.4          0.0   \n9805-001-99                         0.0       0.0          0.0   \n9809-001-99                         0.0       2.0          0.0   \n9810-001-99                         0.0       0.0          0.0   \n\nenergy_item  Petrol or diesel  charcoal  not_energy  total_expenditure  \ny5_hhid                                                                 \n1000-001-01               0.0       0.0        4.32               4.72  \n1000-001-02               0.0       0.0        0.64               0.64  \n1000-001-03               0.0       0.0        9.12               9.12  \n1001-001-01               0.0       0.0        1.08               2.68  \n1002-001-01               0.0       0.0        3.80              13.40  \n...                       ...       ...         ...                ...  \n9798-001-99               0.0       1.6       12.68              18.28  \n9799-001-99               0.0       8.0       30.80              43.20  \n9805-001-99               0.0      24.0      118.04             154.04  \n9809-001-99               0.0       0.0       18.92              22.12  \n9810-001-99               0.0      18.0       19.08              39.08  \n\n[2761 rows x 9 columns]",
      "text/html": "<div>\n<style scoped>\n    .dataframe tbody tr th:only-of-type {\n        vertical-align: middle;\n    }\n\n    .dataframe tbody tr th {\n        vertical-align: top;\n    }\n\n    .dataframe thead th {\n        text-align: right;\n    }\n</style>\n<table border=\"1\" class=\"dataframe\">\n  <thead>\n    <tr style=\"text-align: right;\">\n      <th>energy_item</th>\n      <th>Cell phone voucher</th>\n      <th>Electricity, including electricity vouchers</th>\n      <th>Gas (for lighting/cooking)</th>\n      <th>Kerosene</th>\n      <th>Light bulbs</th>\n      <th>Petrol or diesel</th>\n      <th>charcoal</th>\n      <th>not_energy</th>\n      <th>total_expenditure</th>\n    </tr>\n    <tr>\n      <th>y5_hhid</th>\n      <th></th>\n      <th></th>\n      <th></th>\n      <th></th>\n      <th></th>\n      <th></th>\n      <th></th>\n      <th></th>\n      <th></th>\n    </tr>\n  </thead>\n  <tbody>\n    <tr>\n      <th>1000-001-01</th>\n      <td>0.4</td>\n      <td>0.0</td>\n      <td>0.0</td>\n      <td>0.0</td>\n      <td>0.0</td>\n      <td>0.0</td>\n      <td>0.0</td>\n      <td>4.32</td>\n      <td>4.72</td>\n    </tr>\n    <tr>\n      <th>1000-001-02</th>\n      <td>0.0</td>\n      <td>0.0</td>\n      <td>0.0</td>\n      <td>0.0</td>\n      <td>0.0</td>\n      <td>0.0</td>\n      <td>0.0</td>\n      <td>0.64</td>\n      <td>0.64</td>\n    </tr>\n    <tr>\n      <th>1000-001-03</th>\n      <td>0.0</td>\n      <td>0.0</td>\n      <td>0.0</td>\n      <td>0.0</td>\n      <td>0.0</td>\n      <td>0.0</td>\n      <td>0.0</td>\n      <td>9.12</td>\n      <td>9.12</td>\n    </tr>\n    <tr>\n      <th>1001-001-01</th>\n      <td>1.6</td>\n      <td>0.0</td>\n      <td>0.0</td>\n      <td>0.0</td>\n      <td>0.0</td>\n      <td>0.0</td>\n      <td>0.0</td>\n      <td>1.08</td>\n      <td>2.68</td>\n    </tr>\n    <tr>\n      <th>1002-001-01</th>\n      <td>9.6</td>\n      <td>0.0</td>\n      <td>0.0</td>\n      <td>0.0</td>\n      <td>0.0</td>\n      <td>0.0</td>\n      <td>0.0</td>\n      <td>3.80</td>\n      <td>13.40</td>\n    </tr>\n    <tr>\n      <th>...</th>\n      <td>...</td>\n      <td>...</td>\n      <td>...</td>\n      <td>...</td>\n      <td>...</td>\n      <td>...</td>\n      <td>...</td>\n      <td>...</td>\n      <td>...</td>\n    </tr>\n    <tr>\n      <th>9798-001-99</th>\n      <td>4.0</td>\n      <td>0.0</td>\n      <td>0.0</td>\n      <td>0.0</td>\n      <td>0.0</td>\n      <td>0.0</td>\n      <td>1.6</td>\n      <td>12.68</td>\n      <td>18.28</td>\n    </tr>\n    <tr>\n      <th>9799-001-99</th>\n      <td>4.0</td>\n      <td>0.0</td>\n      <td>0.0</td>\n      <td>0.4</td>\n      <td>0.0</td>\n      <td>0.0</td>\n      <td>8.0</td>\n      <td>30.80</td>\n      <td>43.20</td>\n    </tr>\n    <tr>\n      <th>9805-001-99</th>\n      <td>12.0</td>\n      <td>0.0</td>\n      <td>0.0</td>\n      <td>0.0</td>\n      <td>0.0</td>\n      <td>0.0</td>\n      <td>24.0</td>\n      <td>118.04</td>\n      <td>154.04</td>\n    </tr>\n    <tr>\n      <th>9809-001-99</th>\n      <td>1.2</td>\n      <td>0.0</td>\n      <td>0.0</td>\n      <td>2.0</td>\n      <td>0.0</td>\n      <td>0.0</td>\n      <td>0.0</td>\n      <td>18.92</td>\n      <td>22.12</td>\n    </tr>\n    <tr>\n      <th>9810-001-99</th>\n      <td>2.0</td>\n      <td>0.0</td>\n      <td>0.0</td>\n      <td>0.0</td>\n      <td>0.0</td>\n      <td>0.0</td>\n      <td>18.0</td>\n      <td>19.08</td>\n      <td>39.08</td>\n    </tr>\n  </tbody>\n</table>\n<p>2761 rows × 9 columns</p>\n</div>"
     },
     "execution_count": 55,
     "metadata": {},
     "output_type": "execute_result"
    }
   ],
   "source": [
    "monthly_spend_no_elec"
   ],
   "metadata": {
    "collapsed": false,
    "ExecuteTime": {
     "end_time": "2023-09-13T21:38:01.573023Z",
     "start_time": "2023-09-13T21:38:01.442246Z"
    }
   }
  },
  {
   "cell_type": "code",
   "execution_count": 56,
   "outputs": [
    {
     "name": "stderr",
     "output_type": "stream",
     "text": [
      "<ipython-input-56-56a50453c6cc>:10: UserWarning: Matplotlib is currently using agg, which is a non-GUI backend, so cannot show the figure.\n",
      "  plt.show()\n"
     ]
    }
   ],
   "source": [
    "plt.figure(figsize=(8, 6))\n",
    "plt.boxplot(monthly_spend_no_elec.iloc[:,:-1].values,\n",
    "            labels = monthly_spend_no_elec.iloc[:,:-1].columns,\n",
    "            vert=False,\n",
    "            showfliers = False)\n",
    "#plt.xticks(range(0, 2500, 200))\n",
    "plt.title('28-day Household Consumption (non-Grid) ($)')\n",
    "plt.xlabel('Consumption Value in ($)')\n",
    "plt.ylabel('Type of Consumption')\n",
    "plt.show()\n",
    "#plt.savefig('hh_consumption.png', dpi = 300, format = 'png')"
   ],
   "metadata": {
    "collapsed": false,
    "ExecuteTime": {
     "end_time": "2023-09-13T21:38:01.646825Z",
     "start_time": "2023-09-13T21:38:01.469967Z"
    }
   }
  },
  {
   "cell_type": "code",
   "execution_count": 57,
   "outputs": [],
   "source": [
    "monthly_spend_no_elec_pct = pd.DataFrame(data = monthly_spend_no_elec.iloc[:,:-1].values / monthly_spend_no_elec.iloc[:,-1:].values,\n",
    "             index = monthly_spend_no_elec.index,\n",
    "             columns = monthly_spend_no_elec.iloc[:,:-1].columns)"
   ],
   "metadata": {
    "collapsed": false,
    "ExecuteTime": {
     "end_time": "2023-09-13T21:38:01.674028Z",
     "start_time": "2023-09-13T21:38:01.582138Z"
    }
   }
  },
  {
   "cell_type": "code",
   "execution_count": 58,
   "outputs": [
    {
     "data": {
      "text/plain": "energy_item  Cell phone voucher  Electricity, including electricity vouchers  \\\ny5_hhid                                                                        \n1000-001-01            0.084746                                          0.0   \n1000-001-02            0.000000                                          0.0   \n1000-001-03            0.000000                                          0.0   \n1001-001-01            0.597015                                          0.0   \n1002-001-01            0.716418                                          0.0   \n...                         ...                                          ...   \n9798-001-99            0.218818                                          0.0   \n9799-001-99            0.092593                                          0.0   \n9805-001-99            0.077902                                          0.0   \n9809-001-99            0.054250                                          0.0   \n9810-001-99            0.051177                                          0.0   \n\nenergy_item  Gas (for lighting/cooking)  Kerosene  Light bulbs  \\\ny5_hhid                                                          \n1000-001-01                         0.0  0.000000          0.0   \n1000-001-02                         0.0  0.000000          0.0   \n1000-001-03                         0.0  0.000000          0.0   \n1001-001-01                         0.0  0.000000          0.0   \n1002-001-01                         0.0  0.000000          0.0   \n...                                 ...       ...          ...   \n9798-001-99                         0.0  0.000000          0.0   \n9799-001-99                         0.0  0.009259          0.0   \n9805-001-99                         0.0  0.000000          0.0   \n9809-001-99                         0.0  0.090416          0.0   \n9810-001-99                         0.0  0.000000          0.0   \n\nenergy_item  Petrol or diesel  charcoal  not_energy  \ny5_hhid                                              \n1000-001-01               0.0  0.000000    0.915254  \n1000-001-02               0.0  0.000000    1.000000  \n1000-001-03               0.0  0.000000    1.000000  \n1001-001-01               0.0  0.000000    0.402985  \n1002-001-01               0.0  0.000000    0.283582  \n...                       ...       ...         ...  \n9798-001-99               0.0  0.087527    0.693654  \n9799-001-99               0.0  0.185185    0.712963  \n9805-001-99               0.0  0.155804    0.766294  \n9809-001-99               0.0  0.000000    0.855335  \n9810-001-99               0.0  0.460594    0.488229  \n\n[2761 rows x 8 columns]",
      "text/html": "<div>\n<style scoped>\n    .dataframe tbody tr th:only-of-type {\n        vertical-align: middle;\n    }\n\n    .dataframe tbody tr th {\n        vertical-align: top;\n    }\n\n    .dataframe thead th {\n        text-align: right;\n    }\n</style>\n<table border=\"1\" class=\"dataframe\">\n  <thead>\n    <tr style=\"text-align: right;\">\n      <th>energy_item</th>\n      <th>Cell phone voucher</th>\n      <th>Electricity, including electricity vouchers</th>\n      <th>Gas (for lighting/cooking)</th>\n      <th>Kerosene</th>\n      <th>Light bulbs</th>\n      <th>Petrol or diesel</th>\n      <th>charcoal</th>\n      <th>not_energy</th>\n    </tr>\n    <tr>\n      <th>y5_hhid</th>\n      <th></th>\n      <th></th>\n      <th></th>\n      <th></th>\n      <th></th>\n      <th></th>\n      <th></th>\n      <th></th>\n    </tr>\n  </thead>\n  <tbody>\n    <tr>\n      <th>1000-001-01</th>\n      <td>0.084746</td>\n      <td>0.0</td>\n      <td>0.0</td>\n      <td>0.000000</td>\n      <td>0.0</td>\n      <td>0.0</td>\n      <td>0.000000</td>\n      <td>0.915254</td>\n    </tr>\n    <tr>\n      <th>1000-001-02</th>\n      <td>0.000000</td>\n      <td>0.0</td>\n      <td>0.0</td>\n      <td>0.000000</td>\n      <td>0.0</td>\n      <td>0.0</td>\n      <td>0.000000</td>\n      <td>1.000000</td>\n    </tr>\n    <tr>\n      <th>1000-001-03</th>\n      <td>0.000000</td>\n      <td>0.0</td>\n      <td>0.0</td>\n      <td>0.000000</td>\n      <td>0.0</td>\n      <td>0.0</td>\n      <td>0.000000</td>\n      <td>1.000000</td>\n    </tr>\n    <tr>\n      <th>1001-001-01</th>\n      <td>0.597015</td>\n      <td>0.0</td>\n      <td>0.0</td>\n      <td>0.000000</td>\n      <td>0.0</td>\n      <td>0.0</td>\n      <td>0.000000</td>\n      <td>0.402985</td>\n    </tr>\n    <tr>\n      <th>1002-001-01</th>\n      <td>0.716418</td>\n      <td>0.0</td>\n      <td>0.0</td>\n      <td>0.000000</td>\n      <td>0.0</td>\n      <td>0.0</td>\n      <td>0.000000</td>\n      <td>0.283582</td>\n    </tr>\n    <tr>\n      <th>...</th>\n      <td>...</td>\n      <td>...</td>\n      <td>...</td>\n      <td>...</td>\n      <td>...</td>\n      <td>...</td>\n      <td>...</td>\n      <td>...</td>\n    </tr>\n    <tr>\n      <th>9798-001-99</th>\n      <td>0.218818</td>\n      <td>0.0</td>\n      <td>0.0</td>\n      <td>0.000000</td>\n      <td>0.0</td>\n      <td>0.0</td>\n      <td>0.087527</td>\n      <td>0.693654</td>\n    </tr>\n    <tr>\n      <th>9799-001-99</th>\n      <td>0.092593</td>\n      <td>0.0</td>\n      <td>0.0</td>\n      <td>0.009259</td>\n      <td>0.0</td>\n      <td>0.0</td>\n      <td>0.185185</td>\n      <td>0.712963</td>\n    </tr>\n    <tr>\n      <th>9805-001-99</th>\n      <td>0.077902</td>\n      <td>0.0</td>\n      <td>0.0</td>\n      <td>0.000000</td>\n      <td>0.0</td>\n      <td>0.0</td>\n      <td>0.155804</td>\n      <td>0.766294</td>\n    </tr>\n    <tr>\n      <th>9809-001-99</th>\n      <td>0.054250</td>\n      <td>0.0</td>\n      <td>0.0</td>\n      <td>0.090416</td>\n      <td>0.0</td>\n      <td>0.0</td>\n      <td>0.000000</td>\n      <td>0.855335</td>\n    </tr>\n    <tr>\n      <th>9810-001-99</th>\n      <td>0.051177</td>\n      <td>0.0</td>\n      <td>0.0</td>\n      <td>0.000000</td>\n      <td>0.0</td>\n      <td>0.0</td>\n      <td>0.460594</td>\n      <td>0.488229</td>\n    </tr>\n  </tbody>\n</table>\n<p>2761 rows × 8 columns</p>\n</div>"
     },
     "execution_count": 58,
     "metadata": {},
     "output_type": "execute_result"
    }
   ],
   "source": [
    "monthly_spend_no_elec_pct"
   ],
   "metadata": {
    "collapsed": false,
    "ExecuteTime": {
     "end_time": "2023-09-13T21:38:01.782221Z",
     "start_time": "2023-09-13T21:38:01.582665Z"
    }
   }
  },
  {
   "cell_type": "code",
   "execution_count": 59,
   "outputs": [],
   "source": [
    "def horizontal_bars(df,\n",
    "                    title,\n",
    "                    xlab,\n",
    "                    ylab):\n",
    "    \"\"\"df is a pivot table that has expenditure types as columns. Expenditure types are %ages of the total expenditure for the household\"\"\"\n",
    "    # Calculate the mean values\n",
    "    mean_values = df.mean()\n",
    "    sorted_columns = mean_values.sort_values(ascending=True).index\n",
    "    sorted_df = df[sorted_columns]\n",
    "\n",
    "    # Create horizontal bar plots for each column\n",
    "    plt.figure(figsize=(8, 6))\n",
    "\n",
    "    # Iterate over each column and create a horizontal bar plot\n",
    "    for idx, column in enumerate(sorted_df.columns):\n",
    "        mean_value = sorted_df[column].mean()\n",
    "        plt.barh(idx, mean_value, color='skyblue', label=column)\n",
    "        plt.text(mean_value, idx, f'{mean_value:.2%}', va='center', ha='left', color='black', fontweight='bold', fontsize=12)\n",
    "\n",
    "    # Set y-axis ticks and labels\n",
    "    plt.yticks(range(len(sorted_df.columns)), sorted_df.columns)\n",
    "    plt.xlabel(xlab)\n",
    "    plt.title(title)\n",
    "\n",
    "    plt.show()"
   ],
   "metadata": {
    "collapsed": false,
    "ExecuteTime": {
     "end_time": "2023-09-13T21:38:01.782407Z",
     "start_time": "2023-09-13T21:38:01.616465Z"
    }
   }
  },
  {
   "cell_type": "code",
   "execution_count": 60,
   "outputs": [
    {
     "data": {
      "text/plain": "18.90191785584933"
     },
     "execution_count": 60,
     "metadata": {},
     "output_type": "execute_result"
    }
   ],
   "source": [
    "# Monthly non-food expenditure for non-grid households\n",
    "monthly_spend_no_elec['total_expenditure'].mean()"
   ],
   "metadata": {
    "collapsed": false,
    "ExecuteTime": {
     "end_time": "2023-09-13T21:38:01.782581Z",
     "start_time": "2023-09-13T21:38:01.623292Z"
    }
   }
  },
  {
   "cell_type": "code",
   "execution_count": 61,
   "outputs": [
    {
     "name": "stderr",
     "output_type": "stream",
     "text": [
      "<ipython-input-59-04dc4b3fca30>:25: UserWarning: Matplotlib is currently using agg, which is a non-GUI backend, so cannot show the figure.\n",
      "  plt.show()\n"
     ]
    }
   ],
   "source": [
    "horizontal_bars(df = monthly_spend_no_elec_pct,\n",
    "                title = 'Monthly Recurrent Expenditure for non-grid households',\n",
    "                    xlab = '%age monthly expenditure',\n",
    "                    ylab = 'expenditure')"
   ],
   "metadata": {
    "collapsed": false,
    "ExecuteTime": {
     "end_time": "2023-09-13T21:38:01.882686Z",
     "start_time": "2023-09-13T21:38:01.632746Z"
    }
   }
  },
  {
   "cell_type": "code",
   "execution_count": 62,
   "outputs": [
    {
     "name": "stderr",
     "output_type": "stream",
     "text": [
      "<ipython-input-59-04dc4b3fca30>:25: UserWarning: Matplotlib is currently using agg, which is a non-GUI backend, so cannot show the figure.\n",
      "  plt.show()\n"
     ]
    }
   ],
   "source": [
    "horizontal_bars(df = monthly_spend_pct,\n",
    "                title = 'Monthly Recurrent Expenditure for all households',\n",
    "                xlab = '%age monthly expenditure',\n",
    "                ylab = 'expenditure')"
   ],
   "metadata": {
    "collapsed": false,
    "ExecuteTime": {
     "end_time": "2023-09-13T21:38:02.056459Z",
     "start_time": "2023-09-13T21:38:01.800417Z"
    }
   }
  },
  {
   "cell_type": "code",
   "execution_count": 63,
   "outputs": [
    {
     "name": "stderr",
     "output_type": "stream",
     "text": [
      "<ipython-input-63-a03708b78a07>:19: UserWarning: Matplotlib is currently using agg, which is a non-GUI backend, so cannot show the figure.\n",
      "  plt.show()\n"
     ]
    }
   ],
   "source": [
    "mean_values = monthly_spend_no_elec.iloc[:,:-1].mean()\n",
    "sorted_columns = mean_values.sort_values(ascending=True).index\n",
    "sorted_df = monthly_spend_no_elec[sorted_columns]\n",
    "\n",
    "# Create horizontal bar plots for each column\n",
    "plt.figure(figsize=(8, 6))\n",
    "\n",
    "# Iterate over each column and create a horizontal bar plot\n",
    "for idx, column in enumerate(sorted_df.columns):\n",
    "    mean_value = sorted_df[column].mean()\n",
    "    plt.barh(idx, mean_value, color='skyblue', label=column)\n",
    "    plt.text(mean_value, idx, f'{mean_value:.2f}', va='center', ha='left', color='black', fontweight='bold', fontsize=12)\n",
    "\n",
    "# Set y-axis ticks and labels\n",
    "plt.yticks(range(len(sorted_df.columns)), sorted_df.columns)\n",
    "plt.xlabel('Monthly $ Spend')\n",
    "plt.title('Non Food Monthly Expenditure for Non-grid Households')\n",
    "\n",
    "plt.show()"
   ],
   "metadata": {
    "collapsed": false,
    "ExecuteTime": {
     "end_time": "2023-09-13T21:38:02.168141Z",
     "start_time": "2023-09-13T21:38:01.877191Z"
    }
   }
  },
  {
   "cell_type": "markdown",
   "source": [
    "#### Hse Hold Assets data"
   ],
   "metadata": {
    "collapsed": false
   }
  },
  {
   "cell_type": "code",
   "execution_count": 64,
   "outputs": [
    {
     "data": {
      "text/plain": "dict_keys(['hh_sec_q1', 'hh_sec_q2', 'hh_sec_e3', 'hh_sec_e2', 'hh_sec_e1', 'hh_sec_i2', 'hh_sec_a', 'hh_sec_v', 'hh_sec_c', 'hh_sec_b', 'hh_sec_ja1', 'hh_sec_f', 'hh_sec_p', 'hh_sec_g', 'hh_sec_o2', 'hh_sec_r', 'hh_sec_s', 'hh_sec_d', 'hh_sec_o1', 'hh_sec_u2', 'hh_sec_i', 'hh_sec_h', 'hh_sec_k', 'consumption_real_y5', 'consumption_real_y4', 'hh_sec_n', 'hh_sec_l', 'hh_sec_m', 'hh_sec_j3', 'hh_sec_j1', 'hh_sec_j4'])"
     },
     "execution_count": 64,
     "metadata": {},
     "output_type": "execute_result"
    }
   ],
   "source": [
    "data_dict.keys()"
   ],
   "metadata": {
    "collapsed": false,
    "ExecuteTime": {
     "end_time": "2023-09-13T21:38:02.204873Z",
     "start_time": "2023-09-13T21:38:01.931108Z"
    }
   }
  },
  {
   "cell_type": "code",
   "execution_count": 65,
   "outputs": [
    {
     "data": {
      "text/plain": "       interview__key      y5_hhid  itemcode  hh_m00  hh_m01  hh_m02  hh_m03  \\\n0         39-26-37-98  1000-001-01       401     2.0     0.0     NaN     NaN   \n1         39-26-37-98  1000-001-01       402     2.0     0.0     NaN     NaN   \n2         39-26-37-98  1000-001-01       403     1.0     2.0     0.0    24.0   \n3         39-26-37-98  1000-001-01       404     2.0     0.0     NaN     NaN   \n4         39-26-37-98  1000-001-01       405     2.0     0.0     NaN     NaN   \n...               ...          ...       ...     ...     ...     ...     ...   \n263699    53-69-11-30  9811-001-99       452     2.0     0.0     NaN     NaN   \n263700    53-69-11-30  9811-001-99       453     2.0     0.0     NaN     NaN   \n263701    53-69-11-30  9811-001-99       454     2.0     0.0     NaN     NaN   \n263702    53-69-11-30  9811-001-99       455     2.0     0.0     NaN     NaN   \n263703    53-69-11-30  9811-001-99       456     2.0     0.0     NaN     NaN   \n\n        hh_m04  \n0          NaN  \n1          NaN  \n2         20.0  \n3          NaN  \n4          NaN  \n...        ...  \n263699     NaN  \n263700     NaN  \n263701     NaN  \n263702     NaN  \n263703     NaN  \n\n[263704 rows x 8 columns]",
      "text/html": "<div>\n<style scoped>\n    .dataframe tbody tr th:only-of-type {\n        vertical-align: middle;\n    }\n\n    .dataframe tbody tr th {\n        vertical-align: top;\n    }\n\n    .dataframe thead th {\n        text-align: right;\n    }\n</style>\n<table border=\"1\" class=\"dataframe\">\n  <thead>\n    <tr style=\"text-align: right;\">\n      <th></th>\n      <th>interview__key</th>\n      <th>y5_hhid</th>\n      <th>itemcode</th>\n      <th>hh_m00</th>\n      <th>hh_m01</th>\n      <th>hh_m02</th>\n      <th>hh_m03</th>\n      <th>hh_m04</th>\n    </tr>\n  </thead>\n  <tbody>\n    <tr>\n      <th>0</th>\n      <td>39-26-37-98</td>\n      <td>1000-001-01</td>\n      <td>401</td>\n      <td>2.0</td>\n      <td>0.0</td>\n      <td>NaN</td>\n      <td>NaN</td>\n      <td>NaN</td>\n    </tr>\n    <tr>\n      <th>1</th>\n      <td>39-26-37-98</td>\n      <td>1000-001-01</td>\n      <td>402</td>\n      <td>2.0</td>\n      <td>0.0</td>\n      <td>NaN</td>\n      <td>NaN</td>\n      <td>NaN</td>\n    </tr>\n    <tr>\n      <th>2</th>\n      <td>39-26-37-98</td>\n      <td>1000-001-01</td>\n      <td>403</td>\n      <td>1.0</td>\n      <td>2.0</td>\n      <td>0.0</td>\n      <td>24.0</td>\n      <td>20.0</td>\n    </tr>\n    <tr>\n      <th>3</th>\n      <td>39-26-37-98</td>\n      <td>1000-001-01</td>\n      <td>404</td>\n      <td>2.0</td>\n      <td>0.0</td>\n      <td>NaN</td>\n      <td>NaN</td>\n      <td>NaN</td>\n    </tr>\n    <tr>\n      <th>4</th>\n      <td>39-26-37-98</td>\n      <td>1000-001-01</td>\n      <td>405</td>\n      <td>2.0</td>\n      <td>0.0</td>\n      <td>NaN</td>\n      <td>NaN</td>\n      <td>NaN</td>\n    </tr>\n    <tr>\n      <th>...</th>\n      <td>...</td>\n      <td>...</td>\n      <td>...</td>\n      <td>...</td>\n      <td>...</td>\n      <td>...</td>\n      <td>...</td>\n      <td>...</td>\n    </tr>\n    <tr>\n      <th>263699</th>\n      <td>53-69-11-30</td>\n      <td>9811-001-99</td>\n      <td>452</td>\n      <td>2.0</td>\n      <td>0.0</td>\n      <td>NaN</td>\n      <td>NaN</td>\n      <td>NaN</td>\n    </tr>\n    <tr>\n      <th>263700</th>\n      <td>53-69-11-30</td>\n      <td>9811-001-99</td>\n      <td>453</td>\n      <td>2.0</td>\n      <td>0.0</td>\n      <td>NaN</td>\n      <td>NaN</td>\n      <td>NaN</td>\n    </tr>\n    <tr>\n      <th>263701</th>\n      <td>53-69-11-30</td>\n      <td>9811-001-99</td>\n      <td>454</td>\n      <td>2.0</td>\n      <td>0.0</td>\n      <td>NaN</td>\n      <td>NaN</td>\n      <td>NaN</td>\n    </tr>\n    <tr>\n      <th>263702</th>\n      <td>53-69-11-30</td>\n      <td>9811-001-99</td>\n      <td>455</td>\n      <td>2.0</td>\n      <td>0.0</td>\n      <td>NaN</td>\n      <td>NaN</td>\n      <td>NaN</td>\n    </tr>\n    <tr>\n      <th>263703</th>\n      <td>53-69-11-30</td>\n      <td>9811-001-99</td>\n      <td>456</td>\n      <td>2.0</td>\n      <td>0.0</td>\n      <td>NaN</td>\n      <td>NaN</td>\n      <td>NaN</td>\n    </tr>\n  </tbody>\n</table>\n<p>263704 rows × 8 columns</p>\n</div>"
     },
     "execution_count": 65,
     "metadata": {},
     "output_type": "execute_result"
    }
   ],
   "source": [
    "m_hh_assets = data_dict['hh_sec_m']\n",
    "m_hh_assets.iloc[:,6:] = m_hh_assets.iloc[:,6:] * fx\n",
    "m_hh_assets"
   ],
   "metadata": {
    "collapsed": false,
    "ExecuteTime": {
     "end_time": "2023-09-13T21:38:02.244010Z",
     "start_time": "2023-09-13T21:38:01.938256Z"
    }
   }
  },
  {
   "cell_type": "code",
   "execution_count": 65,
   "outputs": [],
   "source": [],
   "metadata": {
    "collapsed": false,
    "ExecuteTime": {
     "end_time": "2023-09-13T21:38:02.244609Z",
     "start_time": "2023-09-13T21:38:01.968892Z"
    }
   }
  },
  {
   "cell_type": "code",
   "execution_count": 66,
   "outputs": [],
   "source": [
    "#Item and category dictionary to interpret the item code:\n",
    "item_dict_1 = {401:'Radio and Radio Cassette',\n",
    "402:'Telephone(landline)',\n",
    "403:'Telephone(mobile)',\n",
    "404:'Refridgerator or freezer',\n",
    "405:'Sewing Machine',\n",
    "406:'Television',\n",
    "407:'Video/DVD',\n",
    "408:'Chairs',\n",
    "409:'Sofas',\n",
    "410:'Tables',\n",
    "411:'Watches',\n",
    "412:'Beds',\n",
    "413:'Cupboards, chest-of-drawers, boxes, wardrobes,bookcases',\n",
    "414:'Lanterns',\n",
    "415:'Computer',\n",
    "416:'Cooking pots, Cups, other kitchen utencils',\n",
    "417:'Mosquito net',\n",
    "418:'Iron (Charcoal or electric)',\n",
    "419:'Electric/gas stove',\n",
    "420:'Other stove',\n",
    "421:'Water-heater',\n",
    "422:'Record/cassette player, tape recorder',\n",
    "423:'Complete music system',\n",
    "424:'Books (not school books)',\n",
    "425:'Motor Vehicles',\n",
    "426:'Motorcycle',\n",
    "427:'Bicycle',\n",
    "428:'Carts',\n",
    "429:'Animal-drawn cart',\n",
    "430:'Boat/canoe',\n",
    "431:'Wheel barrow',\n",
    "432:'Livestock',\n",
    "433:'Poultry',\n",
    "434:'Outboard engine',\n",
    "435:'Donkeys',\n",
    "436:'Fields/Land',\n",
    "437:'House(s)',\n",
    "438:'Fan/Air conditioner',\n",
    "439:'Dish antena/decoder',\n",
    "440:'Hoes',\n",
    "441:'Spraying machine',\n",
    "442:'Water pumping set',\n",
    "443:'Reapers',\n",
    "444:'Tractor',\n",
    "445:'Trailer for tractors etc.',\n",
    "446:'Plough etc.',\n",
    "447:'Harrow',\n",
    "448:'Milking machine',\n",
    "449:'Harvesting and threshing machine',\n",
    "450:'Hand milling machine',\n",
    "451:'Coffee pulping machine',\n",
    "452:'Fertilizer distributor',\n",
    "453:'Power tiller',\n",
    "454:'Bajaj/Toyo',\n",
    "455:'Guta',\n",
    "456:'Incubator'}\n",
    "\n",
    "category_dict_1 = {401:'Appliances & Electronics',\n",
    "402:'Appliances & Electronics',\n",
    "403:'Appliances & Electronics',\n",
    "404:'Appliances & Electronics',\n",
    "405:'Appliances & Electronics',\n",
    "406:'Appliances & Electronics',\n",
    "407:'Appliances & Electronics',\n",
    "408:'Furniture & utencils',\n",
    "409:'Furniture & utencils',\n",
    "410:'Furniture & utencils',\n",
    "411:'Appliances & Electronics',\n",
    "412:'Furniture & utencils',\n",
    "413:'Furniture & utencils',\n",
    "414:'Appliances & Electronics',\n",
    "415:'Appliances & Electronics',\n",
    "416:'Furniture & utencils',\n",
    "417:'Furniture & utencils',\n",
    "418:'Appliances & Electronics',\n",
    "419:'Appliances & Electronics',\n",
    "420:'Appliances & Electronics',\n",
    "421:'Appliances & Electronics',\n",
    "422:'Appliances & Electronics',\n",
    "423:'Appliances & Electronics',\n",
    "424:'Furniture & utencils',\n",
    "425:'Transport & Tools',\n",
    "426:'Transport & Tools',\n",
    "427:'Transport & Tools',\n",
    "428:'Transport & Tools',\n",
    "429:'Transport & Tools',\n",
    "430:'Transport & Tools',\n",
    "431:'Transport & Tools',\n",
    "432:'Bio-Assets',\n",
    "433:'Bio-Assets',\n",
    "434:'Transport & Tools',\n",
    "435:'Bio-Assets',\n",
    "436:'Land',\n",
    "437:'Land',\n",
    "438:'Appliances & Electronics',\n",
    "439:'Appliances & Electronics',\n",
    "440:'Transport & Tools',\n",
    "441:'Transport & Tools',\n",
    "442:'Transport & Tools',\n",
    "443:'Transport & Tools',\n",
    "444:'Transport & Tools',\n",
    "445:'Transport & Tools',\n",
    "446:'Transport & Tools',\n",
    "447:'Transport & Tools',\n",
    "448:'Transport & Tools',\n",
    "449:'Transport & Tools',\n",
    "450:'Transport & Tools',\n",
    "451:'Transport & Tools',\n",
    "452:'Transport & Tools',\n",
    "453:'Transport & Tools',\n",
    "454:'Transport & Tools',\n",
    "455:'Transport & Tools',\n",
    "456:'Transport & Tools'}"
   ],
   "metadata": {
    "collapsed": false,
    "ExecuteTime": {
     "end_time": "2023-09-13T21:38:02.262319Z",
     "start_time": "2023-09-13T21:38:01.972164Z"
    }
   }
  },
  {
   "cell_type": "code",
   "execution_count": 67,
   "outputs": [],
   "source": [
    "m_hh_assets['item'] = m_hh_assets['itemcode'].map(item_dict_1).fillna('other')\n",
    "m_hh_assets['item_class'] = m_hh_assets['itemcode'].map(category_dict_1).fillna('other')\n"
   ],
   "metadata": {
    "collapsed": false,
    "ExecuteTime": {
     "end_time": "2023-09-13T21:38:02.262659Z",
     "start_time": "2023-09-13T21:38:01.986907Z"
    }
   }
  },
  {
   "cell_type": "code",
   "execution_count": 68,
   "outputs": [],
   "source": [
    "m_hh_assets['total_value'] = m_hh_assets['hh_m01'] * m_hh_assets['hh_m04']"
   ],
   "metadata": {
    "collapsed": false,
    "ExecuteTime": {
     "end_time": "2023-09-13T21:38:02.262787Z",
     "start_time": "2023-09-13T21:38:02.033762Z"
    }
   }
  },
  {
   "cell_type": "code",
   "execution_count": 69,
   "outputs": [
    {
     "data": {
      "text/plain": "       interview__key      y5_hhid  itemcode  hh_m00  hh_m01  hh_m02  hh_m03  \\\n0         39-26-37-98  1000-001-01       401     2.0     0.0     NaN     NaN   \n1         39-26-37-98  1000-001-01       402     2.0     0.0     NaN     NaN   \n2         39-26-37-98  1000-001-01       403     1.0     2.0     0.0    24.0   \n3         39-26-37-98  1000-001-01       404     2.0     0.0     NaN     NaN   \n4         39-26-37-98  1000-001-01       405     2.0     0.0     NaN     NaN   \n...               ...          ...       ...     ...     ...     ...     ...   \n263699    53-69-11-30  9811-001-99       452     2.0     0.0     NaN     NaN   \n263700    53-69-11-30  9811-001-99       453     2.0     0.0     NaN     NaN   \n263701    53-69-11-30  9811-001-99       454     2.0     0.0     NaN     NaN   \n263702    53-69-11-30  9811-001-99       455     2.0     0.0     NaN     NaN   \n263703    53-69-11-30  9811-001-99       456     2.0     0.0     NaN     NaN   \n\n        hh_m04                      item                item_class  \\\n0          NaN  Radio and Radio Cassette  Appliances & Electronics   \n1          NaN       Telephone(landline)  Appliances & Electronics   \n2         20.0         Telephone(mobile)  Appliances & Electronics   \n3          NaN  Refridgerator or freezer  Appliances & Electronics   \n4          NaN            Sewing Machine  Appliances & Electronics   \n...        ...                       ...                       ...   \n263699     NaN    Fertilizer distributor         Transport & Tools   \n263700     NaN              Power tiller         Transport & Tools   \n263701     NaN                Bajaj/Toyo         Transport & Tools   \n263702     NaN                      Guta         Transport & Tools   \n263703     NaN                 Incubator         Transport & Tools   \n\n        total_value  \n0               NaN  \n1               NaN  \n2              40.0  \n3               NaN  \n4               NaN  \n...             ...  \n263699          NaN  \n263700          NaN  \n263701          NaN  \n263702          NaN  \n263703          NaN  \n\n[263704 rows x 11 columns]",
      "text/html": "<div>\n<style scoped>\n    .dataframe tbody tr th:only-of-type {\n        vertical-align: middle;\n    }\n\n    .dataframe tbody tr th {\n        vertical-align: top;\n    }\n\n    .dataframe thead th {\n        text-align: right;\n    }\n</style>\n<table border=\"1\" class=\"dataframe\">\n  <thead>\n    <tr style=\"text-align: right;\">\n      <th></th>\n      <th>interview__key</th>\n      <th>y5_hhid</th>\n      <th>itemcode</th>\n      <th>hh_m00</th>\n      <th>hh_m01</th>\n      <th>hh_m02</th>\n      <th>hh_m03</th>\n      <th>hh_m04</th>\n      <th>item</th>\n      <th>item_class</th>\n      <th>total_value</th>\n    </tr>\n  </thead>\n  <tbody>\n    <tr>\n      <th>0</th>\n      <td>39-26-37-98</td>\n      <td>1000-001-01</td>\n      <td>401</td>\n      <td>2.0</td>\n      <td>0.0</td>\n      <td>NaN</td>\n      <td>NaN</td>\n      <td>NaN</td>\n      <td>Radio and Radio Cassette</td>\n      <td>Appliances &amp; Electronics</td>\n      <td>NaN</td>\n    </tr>\n    <tr>\n      <th>1</th>\n      <td>39-26-37-98</td>\n      <td>1000-001-01</td>\n      <td>402</td>\n      <td>2.0</td>\n      <td>0.0</td>\n      <td>NaN</td>\n      <td>NaN</td>\n      <td>NaN</td>\n      <td>Telephone(landline)</td>\n      <td>Appliances &amp; Electronics</td>\n      <td>NaN</td>\n    </tr>\n    <tr>\n      <th>2</th>\n      <td>39-26-37-98</td>\n      <td>1000-001-01</td>\n      <td>403</td>\n      <td>1.0</td>\n      <td>2.0</td>\n      <td>0.0</td>\n      <td>24.0</td>\n      <td>20.0</td>\n      <td>Telephone(mobile)</td>\n      <td>Appliances &amp; Electronics</td>\n      <td>40.0</td>\n    </tr>\n    <tr>\n      <th>3</th>\n      <td>39-26-37-98</td>\n      <td>1000-001-01</td>\n      <td>404</td>\n      <td>2.0</td>\n      <td>0.0</td>\n      <td>NaN</td>\n      <td>NaN</td>\n      <td>NaN</td>\n      <td>Refridgerator or freezer</td>\n      <td>Appliances &amp; Electronics</td>\n      <td>NaN</td>\n    </tr>\n    <tr>\n      <th>4</th>\n      <td>39-26-37-98</td>\n      <td>1000-001-01</td>\n      <td>405</td>\n      <td>2.0</td>\n      <td>0.0</td>\n      <td>NaN</td>\n      <td>NaN</td>\n      <td>NaN</td>\n      <td>Sewing Machine</td>\n      <td>Appliances &amp; Electronics</td>\n      <td>NaN</td>\n    </tr>\n    <tr>\n      <th>...</th>\n      <td>...</td>\n      <td>...</td>\n      <td>...</td>\n      <td>...</td>\n      <td>...</td>\n      <td>...</td>\n      <td>...</td>\n      <td>...</td>\n      <td>...</td>\n      <td>...</td>\n      <td>...</td>\n    </tr>\n    <tr>\n      <th>263699</th>\n      <td>53-69-11-30</td>\n      <td>9811-001-99</td>\n      <td>452</td>\n      <td>2.0</td>\n      <td>0.0</td>\n      <td>NaN</td>\n      <td>NaN</td>\n      <td>NaN</td>\n      <td>Fertilizer distributor</td>\n      <td>Transport &amp; Tools</td>\n      <td>NaN</td>\n    </tr>\n    <tr>\n      <th>263700</th>\n      <td>53-69-11-30</td>\n      <td>9811-001-99</td>\n      <td>453</td>\n      <td>2.0</td>\n      <td>0.0</td>\n      <td>NaN</td>\n      <td>NaN</td>\n      <td>NaN</td>\n      <td>Power tiller</td>\n      <td>Transport &amp; Tools</td>\n      <td>NaN</td>\n    </tr>\n    <tr>\n      <th>263701</th>\n      <td>53-69-11-30</td>\n      <td>9811-001-99</td>\n      <td>454</td>\n      <td>2.0</td>\n      <td>0.0</td>\n      <td>NaN</td>\n      <td>NaN</td>\n      <td>NaN</td>\n      <td>Bajaj/Toyo</td>\n      <td>Transport &amp; Tools</td>\n      <td>NaN</td>\n    </tr>\n    <tr>\n      <th>263702</th>\n      <td>53-69-11-30</td>\n      <td>9811-001-99</td>\n      <td>455</td>\n      <td>2.0</td>\n      <td>0.0</td>\n      <td>NaN</td>\n      <td>NaN</td>\n      <td>NaN</td>\n      <td>Guta</td>\n      <td>Transport &amp; Tools</td>\n      <td>NaN</td>\n    </tr>\n    <tr>\n      <th>263703</th>\n      <td>53-69-11-30</td>\n      <td>9811-001-99</td>\n      <td>456</td>\n      <td>2.0</td>\n      <td>0.0</td>\n      <td>NaN</td>\n      <td>NaN</td>\n      <td>NaN</td>\n      <td>Incubator</td>\n      <td>Transport &amp; Tools</td>\n      <td>NaN</td>\n    </tr>\n  </tbody>\n</table>\n<p>263704 rows × 11 columns</p>\n</div>"
     },
     "execution_count": 69,
     "metadata": {},
     "output_type": "execute_result"
    }
   ],
   "source": [
    "m_hh_assets"
   ],
   "metadata": {
    "collapsed": false,
    "ExecuteTime": {
     "end_time": "2023-09-13T21:38:02.264042Z",
     "start_time": "2023-09-13T21:38:02.069221Z"
    }
   }
  },
  {
   "cell_type": "code",
   "execution_count": 70,
   "outputs": [],
   "source": [
    "hh_assets_total = pd.pivot_table(m_hh_assets, values='total_value', index='y5_hhid', columns='item_class', aggfunc='sum', fill_value=0)"
   ],
   "metadata": {
    "collapsed": false,
    "ExecuteTime": {
     "end_time": "2023-09-13T21:38:02.369942Z",
     "start_time": "2023-09-13T21:38:02.075450Z"
    }
   }
  },
  {
   "cell_type": "code",
   "execution_count": 71,
   "outputs": [],
   "source": [
    "hh_appliances_total = pd.pivot_table(m_hh_assets[m_hh_assets['item_class'] == 'Appliances & Electronics'], values = 'total_value', index = 'y5_hhid', columns = 'item', aggfunc = 'sum', fill_value = 0)"
   ],
   "metadata": {
    "collapsed": false,
    "ExecuteTime": {
     "end_time": "2023-09-13T21:38:02.514903Z",
     "start_time": "2023-09-13T21:38:02.176786Z"
    }
   }
  },
  {
   "cell_type": "code",
   "execution_count": 72,
   "outputs": [
    {
     "data": {
      "text/plain": "item         Complete music system  Computer  Dish antena/decoder  \\\ny5_hhid                                                             \n1000-001-01                    0.0         0                  0.0   \n1000-001-02                    0.0         0                  0.0   \n1000-001-03                    0.0         0                  0.0   \n1000-001-06                    0.0         0                  0.0   \n1001-001-01                    0.0         0                  0.0   \n...                            ...       ...                  ...   \n9807-001-99                    0.0         0                  0.0   \n9808-001-99                    0.0         0                  4.0   \n9809-001-99                    0.0         0                  0.0   \n9810-001-99                    0.0         0                  0.0   \n9811-001-99                   40.0         0                  0.0   \n\nitem         Electric/gas stove  Fan/Air conditioner  \\\ny5_hhid                                                \n1000-001-01                 0.0                  0.0   \n1000-001-02                 0.0                  0.0   \n1000-001-03                 0.0                  0.0   \n1000-001-06                12.0                  0.0   \n1001-001-01                 0.0                  0.0   \n...                         ...                  ...   \n9807-001-99                12.0                  0.0   \n9808-001-99                18.0                  8.0   \n9809-001-99                 0.0                  0.0   \n9810-001-99                14.0                  0.0   \n9811-001-99                24.0                  0.0   \n\nitem         Iron (Charcoal or electric)  Lanterns  Other stove  \\\ny5_hhid                                                           \n1000-001-01                          4.0         0          0.8   \n1000-001-02                          0.0         0          1.2   \n1000-001-03                          0.0         0          0.0   \n1000-001-06                          0.0         0          1.2   \n1001-001-01                          0.0         0          0.0   \n...                                  ...       ...          ...   \n9807-001-99                          0.0         0          0.0   \n9808-001-99                          4.0         0          1.6   \n9809-001-99                          0.0         0          0.0   \n9810-001-99                          0.0         0          0.8   \n9811-001-99                          8.0         0          1.8   \n\nitem         Radio and Radio Cassette  Record/cassette player, tape recorder  \\\ny5_hhid                                                                        \n1000-001-01                       0.0                                      0   \n1000-001-02                       0.0                                      0   \n1000-001-03                       6.0                                      0   \n1000-001-06                       0.0                                      0   \n1001-001-01                      12.0                                      0   \n...                               ...                                    ...   \n9807-001-99                      40.0                                      0   \n9808-001-99                      40.0                                      0   \n9809-001-99                       0.0                                      0   \n9810-001-99                       2.0                                      0   \n9811-001-99                       0.0                                      0   \n\nitem         Refridgerator or freezer  Sewing Machine  Telephone(landline)  \\\ny5_hhid                                                                      \n1000-001-01                         0             0.0                    0   \n1000-001-02                         0             0.0                    0   \n1000-001-03                         0             0.0                    0   \n1000-001-06                         0             0.0                    0   \n1001-001-01                         0             0.0                    0   \n...                               ...             ...                  ...   \n9807-001-99                         0             0.0                    0   \n9808-001-99                        60             0.0                    0   \n9809-001-99                         0             0.0                    0   \n9810-001-99                         0             0.0                    0   \n9811-001-99                         0             0.0                    0   \n\nitem         Telephone(mobile)  Television  Video/DVD  Watches  Water-heater  \ny5_hhid                                                                       \n1000-001-01               40.0         0.0        0.0      0.0           0.0  \n1000-001-02                0.0         0.0        0.0      0.0           0.0  \n1000-001-03                4.0         0.0        0.0      0.0           0.0  \n1000-001-06               16.0         0.0        0.0      0.0           0.0  \n1001-001-01               14.0        80.0        0.0      0.8           0.0  \n...                        ...         ...        ...      ...           ...  \n9807-001-99               88.0         0.0        0.0      0.0           0.0  \n9808-001-99              144.0        40.0       12.0      4.0           4.0  \n9809-001-99               12.0         0.0        0.0      0.0           0.0  \n9810-001-99               12.0         0.0        0.0      0.0           0.0  \n9811-001-99               20.0       100.0       10.0      0.0           0.0  \n\n[4709 rows x 18 columns]",
      "text/html": "<div>\n<style scoped>\n    .dataframe tbody tr th:only-of-type {\n        vertical-align: middle;\n    }\n\n    .dataframe tbody tr th {\n        vertical-align: top;\n    }\n\n    .dataframe thead th {\n        text-align: right;\n    }\n</style>\n<table border=\"1\" class=\"dataframe\">\n  <thead>\n    <tr style=\"text-align: right;\">\n      <th>item</th>\n      <th>Complete music system</th>\n      <th>Computer</th>\n      <th>Dish antena/decoder</th>\n      <th>Electric/gas stove</th>\n      <th>Fan/Air conditioner</th>\n      <th>Iron (Charcoal or electric)</th>\n      <th>Lanterns</th>\n      <th>Other stove</th>\n      <th>Radio and Radio Cassette</th>\n      <th>Record/cassette player, tape recorder</th>\n      <th>Refridgerator or freezer</th>\n      <th>Sewing Machine</th>\n      <th>Telephone(landline)</th>\n      <th>Telephone(mobile)</th>\n      <th>Television</th>\n      <th>Video/DVD</th>\n      <th>Watches</th>\n      <th>Water-heater</th>\n    </tr>\n    <tr>\n      <th>y5_hhid</th>\n      <th></th>\n      <th></th>\n      <th></th>\n      <th></th>\n      <th></th>\n      <th></th>\n      <th></th>\n      <th></th>\n      <th></th>\n      <th></th>\n      <th></th>\n      <th></th>\n      <th></th>\n      <th></th>\n      <th></th>\n      <th></th>\n      <th></th>\n      <th></th>\n    </tr>\n  </thead>\n  <tbody>\n    <tr>\n      <th>1000-001-01</th>\n      <td>0.0</td>\n      <td>0</td>\n      <td>0.0</td>\n      <td>0.0</td>\n      <td>0.0</td>\n      <td>4.0</td>\n      <td>0</td>\n      <td>0.8</td>\n      <td>0.0</td>\n      <td>0</td>\n      <td>0</td>\n      <td>0.0</td>\n      <td>0</td>\n      <td>40.0</td>\n      <td>0.0</td>\n      <td>0.0</td>\n      <td>0.0</td>\n      <td>0.0</td>\n    </tr>\n    <tr>\n      <th>1000-001-02</th>\n      <td>0.0</td>\n      <td>0</td>\n      <td>0.0</td>\n      <td>0.0</td>\n      <td>0.0</td>\n      <td>0.0</td>\n      <td>0</td>\n      <td>1.2</td>\n      <td>0.0</td>\n      <td>0</td>\n      <td>0</td>\n      <td>0.0</td>\n      <td>0</td>\n      <td>0.0</td>\n      <td>0.0</td>\n      <td>0.0</td>\n      <td>0.0</td>\n      <td>0.0</td>\n    </tr>\n    <tr>\n      <th>1000-001-03</th>\n      <td>0.0</td>\n      <td>0</td>\n      <td>0.0</td>\n      <td>0.0</td>\n      <td>0.0</td>\n      <td>0.0</td>\n      <td>0</td>\n      <td>0.0</td>\n      <td>6.0</td>\n      <td>0</td>\n      <td>0</td>\n      <td>0.0</td>\n      <td>0</td>\n      <td>4.0</td>\n      <td>0.0</td>\n      <td>0.0</td>\n      <td>0.0</td>\n      <td>0.0</td>\n    </tr>\n    <tr>\n      <th>1000-001-06</th>\n      <td>0.0</td>\n      <td>0</td>\n      <td>0.0</td>\n      <td>12.0</td>\n      <td>0.0</td>\n      <td>0.0</td>\n      <td>0</td>\n      <td>1.2</td>\n      <td>0.0</td>\n      <td>0</td>\n      <td>0</td>\n      <td>0.0</td>\n      <td>0</td>\n      <td>16.0</td>\n      <td>0.0</td>\n      <td>0.0</td>\n      <td>0.0</td>\n      <td>0.0</td>\n    </tr>\n    <tr>\n      <th>1001-001-01</th>\n      <td>0.0</td>\n      <td>0</td>\n      <td>0.0</td>\n      <td>0.0</td>\n      <td>0.0</td>\n      <td>0.0</td>\n      <td>0</td>\n      <td>0.0</td>\n      <td>12.0</td>\n      <td>0</td>\n      <td>0</td>\n      <td>0.0</td>\n      <td>0</td>\n      <td>14.0</td>\n      <td>80.0</td>\n      <td>0.0</td>\n      <td>0.8</td>\n      <td>0.0</td>\n    </tr>\n    <tr>\n      <th>...</th>\n      <td>...</td>\n      <td>...</td>\n      <td>...</td>\n      <td>...</td>\n      <td>...</td>\n      <td>...</td>\n      <td>...</td>\n      <td>...</td>\n      <td>...</td>\n      <td>...</td>\n      <td>...</td>\n      <td>...</td>\n      <td>...</td>\n      <td>...</td>\n      <td>...</td>\n      <td>...</td>\n      <td>...</td>\n      <td>...</td>\n    </tr>\n    <tr>\n      <th>9807-001-99</th>\n      <td>0.0</td>\n      <td>0</td>\n      <td>0.0</td>\n      <td>12.0</td>\n      <td>0.0</td>\n      <td>0.0</td>\n      <td>0</td>\n      <td>0.0</td>\n      <td>40.0</td>\n      <td>0</td>\n      <td>0</td>\n      <td>0.0</td>\n      <td>0</td>\n      <td>88.0</td>\n      <td>0.0</td>\n      <td>0.0</td>\n      <td>0.0</td>\n      <td>0.0</td>\n    </tr>\n    <tr>\n      <th>9808-001-99</th>\n      <td>0.0</td>\n      <td>0</td>\n      <td>4.0</td>\n      <td>18.0</td>\n      <td>8.0</td>\n      <td>4.0</td>\n      <td>0</td>\n      <td>1.6</td>\n      <td>40.0</td>\n      <td>0</td>\n      <td>60</td>\n      <td>0.0</td>\n      <td>0</td>\n      <td>144.0</td>\n      <td>40.0</td>\n      <td>12.0</td>\n      <td>4.0</td>\n      <td>4.0</td>\n    </tr>\n    <tr>\n      <th>9809-001-99</th>\n      <td>0.0</td>\n      <td>0</td>\n      <td>0.0</td>\n      <td>0.0</td>\n      <td>0.0</td>\n      <td>0.0</td>\n      <td>0</td>\n      <td>0.0</td>\n      <td>0.0</td>\n      <td>0</td>\n      <td>0</td>\n      <td>0.0</td>\n      <td>0</td>\n      <td>12.0</td>\n      <td>0.0</td>\n      <td>0.0</td>\n      <td>0.0</td>\n      <td>0.0</td>\n    </tr>\n    <tr>\n      <th>9810-001-99</th>\n      <td>0.0</td>\n      <td>0</td>\n      <td>0.0</td>\n      <td>14.0</td>\n      <td>0.0</td>\n      <td>0.0</td>\n      <td>0</td>\n      <td>0.8</td>\n      <td>2.0</td>\n      <td>0</td>\n      <td>0</td>\n      <td>0.0</td>\n      <td>0</td>\n      <td>12.0</td>\n      <td>0.0</td>\n      <td>0.0</td>\n      <td>0.0</td>\n      <td>0.0</td>\n    </tr>\n    <tr>\n      <th>9811-001-99</th>\n      <td>40.0</td>\n      <td>0</td>\n      <td>0.0</td>\n      <td>24.0</td>\n      <td>0.0</td>\n      <td>8.0</td>\n      <td>0</td>\n      <td>1.8</td>\n      <td>0.0</td>\n      <td>0</td>\n      <td>0</td>\n      <td>0.0</td>\n      <td>0</td>\n      <td>20.0</td>\n      <td>100.0</td>\n      <td>10.0</td>\n      <td>0.0</td>\n      <td>0.0</td>\n    </tr>\n  </tbody>\n</table>\n<p>4709 rows × 18 columns</p>\n</div>"
     },
     "execution_count": 72,
     "metadata": {},
     "output_type": "execute_result"
    }
   ],
   "source": [
    "hh_appliances_total"
   ],
   "metadata": {
    "collapsed": false,
    "ExecuteTime": {
     "end_time": "2023-09-13T21:38:02.629557Z",
     "start_time": "2023-09-13T21:38:02.330261Z"
    }
   }
  },
  {
   "cell_type": "code",
   "execution_count": 73,
   "outputs": [
    {
     "name": "stderr",
     "output_type": "stream",
     "text": [
      "<ipython-input-73-4ab5fe2d93d3>:19: UserWarning: Matplotlib is currently using agg, which is a non-GUI backend, so cannot show the figure.\n",
      "  plt.show()\n"
     ]
    }
   ],
   "source": [
    "mean_values = hh_appliances_total.iloc[:,:-1].mean()\n",
    "sorted_columns = mean_values.sort_values(ascending=True).index\n",
    "sorted_df = hh_appliances_total[sorted_columns]\n",
    "\n",
    "# Create horizontal bar plots for each column\n",
    "plt.figure(figsize=(8, 6))\n",
    "\n",
    "# Iterate over each column and create a horizontal bar plot\n",
    "for idx, column in enumerate(sorted_df.columns):\n",
    "    mean_value = sorted_df[column].mean()\n",
    "    plt.barh(idx, mean_value, color='skyblue', label=column)\n",
    "    plt.text(mean_value, idx, f'{mean_value:.2f}', va='center', ha='left', color='black', fontweight='bold', fontsize=12)\n",
    "\n",
    "# Set y-axis ticks and labels\n",
    "plt.yticks(range(len(sorted_df.columns)), sorted_df.columns)\n",
    "plt.xlabel('Asset $ Value')\n",
    "plt.title('Asset Value')\n",
    "\n",
    "plt.show()"
   ],
   "metadata": {
    "collapsed": false,
    "ExecuteTime": {
     "end_time": "2023-09-13T21:38:02.700594Z",
     "start_time": "2023-09-13T21:38:02.340851Z"
    }
   }
  }
 ],
 "metadata": {
  "kernelspec": {
   "display_name": "Python 3",
   "language": "python",
   "name": "python3"
  },
  "language_info": {
   "codemirror_mode": {
    "name": "ipython",
    "version": 3
   },
   "file_extension": ".py",
   "mimetype": "text/x-python",
   "name": "python",
   "nbconvert_exporter": "python",
   "pygments_lexer": "ipython3",
   "version": "3.8.8"
  }
 },
 "nbformat": 4,
 "nbformat_minor": 5
}
